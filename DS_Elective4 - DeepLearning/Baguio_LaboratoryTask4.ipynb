{
 "cells": [
  {
   "cell_type": "markdown",
   "id": "b5f7f7fb-aaad-4fb5-b2ec-e97460a29260",
   "metadata": {},
   "source": [
    "<center>Elective 4</center>\n",
    "<center>Deep Learning</center>"
   ]
  },
  {
   "cell_type": "markdown",
   "id": "bcfabb8d-6430-4b2e-acd4-309bf112e88a",
   "metadata": {},
   "source": [
    "## **Advisor:** Jhun Brian Andam\n",
    "## **Student:** Christian Jay Baguio"
   ]
  },
  {
   "cell_type": "markdown",
   "id": "87a06ba3-3f6b-409a-b5f9-bcfa93bce5ea",
   "metadata": {},
   "source": [
    "<div class=\"alert alert-block alert-success\" style=\"font-family: Times New Roman\">\n",
    "    <h4><strong>Laboratory Task 4</strong></h4>\n",
    "\n",
    "<p style=\"font-family:Times New Roman; text-align:justify; font-size:15px\">\n",
    "    <b>Instruction:</b> Train a linear regression model in PyTorch using a regression dataset. Use the following parameters.\n",
    "</p>\n",
    "\n",
    "<ul>\n",
    "    <li>Criterion: MSE Loss</li>\n",
    "    <li>Fully Connected Layers x 2</li>\n",
    "    <li>Batch Size: 8</li>\n",
    "    <li>Optimizer: SGD</li>\n",
    "    <li>Epoch: 1000</li>\n",
    "</ul>\n",
    "</div>"
   ]
  },
  {
   "cell_type": "markdown",
   "id": "1ef90f17-dd07-422a-8b5a-404b5c96bf53",
   "metadata": {},
   "source": [
    "# Imports"
   ]
  },
  {
   "cell_type": "code",
   "execution_count": 1,
   "id": "f0832f5a-3feb-41d9-9792-89427b339cde",
   "metadata": {},
   "outputs": [
    {
     "data": {
      "text/plain": [
       "['AllData', '100']"
      ]
     },
     "execution_count": 1,
     "metadata": {},
     "output_type": "execute_result"
    }
   ],
   "source": [
    "import pandas as pd\n",
    "import torch\n",
    "import numpy as np\n",
    "from torch.utils.data import TensorDataset\n",
    "from torch.utils.data import DataLoader\n",
    "import torch.nn as nn\n",
    "import random\n",
    "import os\n",
    "import sys\n",
    "\n",
    "sheets = pd.ExcelFile('UPCAT_DATA2.xlsx')\n",
    "sheets.sheet_names"
   ]
  },
  {
   "cell_type": "code",
   "execution_count": 2,
   "id": "a99a1bd0-3ed5-4693-a071-adafbe03b8f1",
   "metadata": {},
   "outputs": [
    {
     "data": {
      "text/plain": [
       "device(type='cuda')"
      ]
     },
     "execution_count": 2,
     "metadata": {},
     "output_type": "execute_result"
    }
   ],
   "source": [
    "device = torch.device(\"cuda\" if torch.cuda.is_available() else \"cpu\")\n",
    "device"
   ]
  },
  {
   "cell_type": "code",
   "execution_count": 3,
   "id": "96301e1d-97ff-4266-80d9-7c2a50e1ffb6",
   "metadata": {},
   "outputs": [
    {
     "name": "stdout",
     "output_type": "stream",
     "text": [
      "Device:  cuda:0\n"
     ]
    }
   ],
   "source": [
    "#We can check whether we have gpu\n",
    "device = torch.device(\"cuda:0\" if (torch.cuda.is_available()) else \"cpu\")\n",
    "print(\"Device: \", device)"
   ]
  },
  {
   "cell_type": "code",
   "execution_count": 4,
   "id": "98f8364f-ff33-4da2-94fe-2dd292e8fff2",
   "metadata": {},
   "outputs": [
    {
     "data": {
      "text/html": [
       "<div>\n",
       "<style scoped>\n",
       "    .dataframe tbody tr th:only-of-type {\n",
       "        vertical-align: middle;\n",
       "    }\n",
       "\n",
       "    .dataframe tbody tr th {\n",
       "        vertical-align: top;\n",
       "    }\n",
       "\n",
       "    .dataframe thead th {\n",
       "        text-align: right;\n",
       "    }\n",
       "</style>\n",
       "<table border=\"1\" class=\"dataframe\">\n",
       "  <thead>\n",
       "    <tr style=\"text-align: right;\">\n",
       "      <th></th>\n",
       "      <th>Eng7</th>\n",
       "      <th>Eng8</th>\n",
       "      <th>Eng9</th>\n",
       "      <th>Math7</th>\n",
       "      <th>Math8</th>\n",
       "      <th>Math9</th>\n",
       "      <th>Sci7</th>\n",
       "      <th>Sci8</th>\n",
       "      <th>Sci9</th>\n",
       "      <th>GWA7</th>\n",
       "      <th>GWA8</th>\n",
       "      <th>GWA9</th>\n",
       "      <th>IQ</th>\n",
       "      <th>SA</th>\n",
       "      <th>Target</th>\n",
       "    </tr>\n",
       "  </thead>\n",
       "  <tbody>\n",
       "    <tr>\n",
       "      <th>0</th>\n",
       "      <td>77</td>\n",
       "      <td>82</td>\n",
       "      <td>86</td>\n",
       "      <td>94</td>\n",
       "      <td>87</td>\n",
       "      <td>92</td>\n",
       "      <td>84</td>\n",
       "      <td>80</td>\n",
       "      <td>92</td>\n",
       "      <td>1.4764</td>\n",
       "      <td>1.5045</td>\n",
       "      <td>1.4098</td>\n",
       "      <td>55</td>\n",
       "      <td>28</td>\n",
       "      <td>1</td>\n",
       "    </tr>\n",
       "    <tr>\n",
       "      <th>1</th>\n",
       "      <td>57</td>\n",
       "      <td>57</td>\n",
       "      <td>59</td>\n",
       "      <td>55</td>\n",
       "      <td>46</td>\n",
       "      <td>57</td>\n",
       "      <td>53</td>\n",
       "      <td>45</td>\n",
       "      <td>53</td>\n",
       "      <td>2.6557</td>\n",
       "      <td>2.7000</td>\n",
       "      <td>2.7008</td>\n",
       "      <td>38</td>\n",
       "      <td>19</td>\n",
       "      <td>0</td>\n",
       "    </tr>\n",
       "    <tr>\n",
       "      <th>2</th>\n",
       "      <td>55</td>\n",
       "      <td>52</td>\n",
       "      <td>55</td>\n",
       "      <td>57</td>\n",
       "      <td>53</td>\n",
       "      <td>51</td>\n",
       "      <td>57</td>\n",
       "      <td>62</td>\n",
       "      <td>51</td>\n",
       "      <td>2.6132</td>\n",
       "      <td>2.6818</td>\n",
       "      <td>2.7172</td>\n",
       "      <td>17</td>\n",
       "      <td>9</td>\n",
       "      <td>0</td>\n",
       "    </tr>\n",
       "    <tr>\n",
       "      <th>3</th>\n",
       "      <td>69</td>\n",
       "      <td>78</td>\n",
       "      <td>78</td>\n",
       "      <td>87</td>\n",
       "      <td>79</td>\n",
       "      <td>79</td>\n",
       "      <td>83</td>\n",
       "      <td>82</td>\n",
       "      <td>79</td>\n",
       "      <td>1.7217</td>\n",
       "      <td>1.6136</td>\n",
       "      <td>1.7049</td>\n",
       "      <td>45</td>\n",
       "      <td>28</td>\n",
       "      <td>0</td>\n",
       "    </tr>\n",
       "    <tr>\n",
       "      <th>4</th>\n",
       "      <td>64</td>\n",
       "      <td>71</td>\n",
       "      <td>68</td>\n",
       "      <td>71</td>\n",
       "      <td>57</td>\n",
       "      <td>54</td>\n",
       "      <td>60</td>\n",
       "      <td>59</td>\n",
       "      <td>55</td>\n",
       "      <td>2.4245</td>\n",
       "      <td>2.4318</td>\n",
       "      <td>2.4713</td>\n",
       "      <td>67</td>\n",
       "      <td>56</td>\n",
       "      <td>0</td>\n",
       "    </tr>\n",
       "    <tr>\n",
       "      <th>...</th>\n",
       "      <td>...</td>\n",
       "      <td>...</td>\n",
       "      <td>...</td>\n",
       "      <td>...</td>\n",
       "      <td>...</td>\n",
       "      <td>...</td>\n",
       "      <td>...</td>\n",
       "      <td>...</td>\n",
       "      <td>...</td>\n",
       "      <td>...</td>\n",
       "      <td>...</td>\n",
       "      <td>...</td>\n",
       "      <td>...</td>\n",
       "      <td>...</td>\n",
       "      <td>...</td>\n",
       "    </tr>\n",
       "    <tr>\n",
       "      <th>95</th>\n",
       "      <td>66</td>\n",
       "      <td>77</td>\n",
       "      <td>77</td>\n",
       "      <td>78</td>\n",
       "      <td>75</td>\n",
       "      <td>70</td>\n",
       "      <td>87</td>\n",
       "      <td>83</td>\n",
       "      <td>77</td>\n",
       "      <td>1.7594</td>\n",
       "      <td>1.8364</td>\n",
       "      <td>1.9221</td>\n",
       "      <td>43</td>\n",
       "      <td>39</td>\n",
       "      <td>1</td>\n",
       "    </tr>\n",
       "    <tr>\n",
       "      <th>96</th>\n",
       "      <td>76</td>\n",
       "      <td>74</td>\n",
       "      <td>77</td>\n",
       "      <td>76</td>\n",
       "      <td>65</td>\n",
       "      <td>65</td>\n",
       "      <td>79</td>\n",
       "      <td>57</td>\n",
       "      <td>64</td>\n",
       "      <td>1.8726</td>\n",
       "      <td>2.1455</td>\n",
       "      <td>2.2500</td>\n",
       "      <td>84</td>\n",
       "      <td>72</td>\n",
       "      <td>1</td>\n",
       "    </tr>\n",
       "    <tr>\n",
       "      <th>97</th>\n",
       "      <td>67</td>\n",
       "      <td>77</td>\n",
       "      <td>74</td>\n",
       "      <td>75</td>\n",
       "      <td>67</td>\n",
       "      <td>67</td>\n",
       "      <td>76</td>\n",
       "      <td>72</td>\n",
       "      <td>67</td>\n",
       "      <td>2.0566</td>\n",
       "      <td>1.9727</td>\n",
       "      <td>2.0492</td>\n",
       "      <td>69</td>\n",
       "      <td>56</td>\n",
       "      <td>1</td>\n",
       "    </tr>\n",
       "    <tr>\n",
       "      <th>98</th>\n",
       "      <td>59</td>\n",
       "      <td>56</td>\n",
       "      <td>63</td>\n",
       "      <td>63</td>\n",
       "      <td>51</td>\n",
       "      <td>60</td>\n",
       "      <td>74</td>\n",
       "      <td>55</td>\n",
       "      <td>61</td>\n",
       "      <td>2.2736</td>\n",
       "      <td>2.4273</td>\n",
       "      <td>2.2951</td>\n",
       "      <td>50</td>\n",
       "      <td>22</td>\n",
       "      <td>0</td>\n",
       "    </tr>\n",
       "    <tr>\n",
       "      <th>99</th>\n",
       "      <td>79</td>\n",
       "      <td>77</td>\n",
       "      <td>82</td>\n",
       "      <td>88</td>\n",
       "      <td>76</td>\n",
       "      <td>82</td>\n",
       "      <td>89</td>\n",
       "      <td>75</td>\n",
       "      <td>79</td>\n",
       "      <td>1.5047</td>\n",
       "      <td>1.7409</td>\n",
       "      <td>1.7172</td>\n",
       "      <td>94</td>\n",
       "      <td>71</td>\n",
       "      <td>1</td>\n",
       "    </tr>\n",
       "  </tbody>\n",
       "</table>\n",
       "<p>100 rows × 15 columns</p>\n",
       "</div>"
      ],
      "text/plain": [
       "    Eng7  Eng8  Eng9  Math7  Math8  Math9  Sci7  Sci8  Sci9    GWA7    GWA8  \\\n",
       "0     77    82    86     94     87     92    84    80    92  1.4764  1.5045   \n",
       "1     57    57    59     55     46     57    53    45    53  2.6557  2.7000   \n",
       "2     55    52    55     57     53     51    57    62    51  2.6132  2.6818   \n",
       "3     69    78    78     87     79     79    83    82    79  1.7217  1.6136   \n",
       "4     64    71    68     71     57     54    60    59    55  2.4245  2.4318   \n",
       "..   ...   ...   ...    ...    ...    ...   ...   ...   ...     ...     ...   \n",
       "95    66    77    77     78     75     70    87    83    77  1.7594  1.8364   \n",
       "96    76    74    77     76     65     65    79    57    64  1.8726  2.1455   \n",
       "97    67    77    74     75     67     67    76    72    67  2.0566  1.9727   \n",
       "98    59    56    63     63     51     60    74    55    61  2.2736  2.4273   \n",
       "99    79    77    82     88     76     82    89    75    79  1.5047  1.7409   \n",
       "\n",
       "      GWA9  IQ  SA  Target  \n",
       "0   1.4098  55  28       1  \n",
       "1   2.7008  38  19       0  \n",
       "2   2.7172  17   9       0  \n",
       "3   1.7049  45  28       0  \n",
       "4   2.4713  67  56       0  \n",
       "..     ...  ..  ..     ...  \n",
       "95  1.9221  43  39       1  \n",
       "96  2.2500  84  72       1  \n",
       "97  2.0492  69  56       1  \n",
       "98  2.2951  50  22       0  \n",
       "99  1.7172  94  71       1  \n",
       "\n",
       "[100 rows x 15 columns]"
      ]
     },
     "execution_count": 4,
     "metadata": {},
     "output_type": "execute_result"
    }
   ],
   "source": [
    "df = pd.read_excel('UPCAT_DATA2.xlsx', sheet_name=1)\n",
    "df"
   ]
  },
  {
   "cell_type": "code",
   "execution_count": 119,
   "id": "55a015e9-b5b7-42f6-a0ae-1160cc7ed97c",
   "metadata": {},
   "outputs": [
    {
     "name": "stdout",
     "output_type": "stream",
     "text": [
      "<class 'pandas.core.frame.DataFrame'>\n",
      "RangeIndex: 100 entries, 0 to 99\n",
      "Data columns (total 15 columns):\n",
      " #   Column  Non-Null Count  Dtype  \n",
      "---  ------  --------------  -----  \n",
      " 0   Eng7    100 non-null    int64  \n",
      " 1   Eng8    100 non-null    int64  \n",
      " 2   Eng9    100 non-null    int64  \n",
      " 3   Math7   100 non-null    int64  \n",
      " 4   Math8   100 non-null    int64  \n",
      " 5   Math9   100 non-null    int64  \n",
      " 6   Sci7    100 non-null    int64  \n",
      " 7   Sci8    100 non-null    int64  \n",
      " 8   Sci9    100 non-null    int64  \n",
      " 9   GWA7    100 non-null    float64\n",
      " 10  GWA8    100 non-null    float64\n",
      " 11  GWA9    100 non-null    float64\n",
      " 12  IQ      100 non-null    int64  \n",
      " 13  SA      100 non-null    int64  \n",
      " 14  Target  100 non-null    int64  \n",
      "dtypes: float64(3), int64(12)\n",
      "memory usage: 11.8 KB\n"
     ]
    }
   ],
   "source": [
    "df.info()"
   ]
  },
  {
   "cell_type": "code",
   "execution_count": 5,
   "id": "1257d50f-d333-43f7-91b5-7cf59d008435",
   "metadata": {},
   "outputs": [],
   "source": [
    "x_prepro = df[['GWA7', 'GWA8', 'GWA9']].astype('float32')\n",
    "y_prepro = df[['IQ', 'SA']].astype('float32')"
   ]
  },
  {
   "cell_type": "code",
   "execution_count": 6,
   "id": "baced6ca-da7f-423b-83c4-939be45b18f0",
   "metadata": {},
   "outputs": [],
   "source": [
    "def seed_everything(seed=42):\n",
    "  random.seed(seed)\n",
    "  os.environ['PYTHONHASHSEED'] = str(seed)\n",
    "  np.random.seed(seed)\n",
    "  torch.manual_seed(seed)\n",
    "  torch.backends.cudnn.deterministic = True\n",
    "  torch.backends.cudnn.benchmark = False"
   ]
  },
  {
   "cell_type": "code",
   "execution_count": 7,
   "id": "31a04bcb-13ce-4bb7-8578-718ccbc372c9",
   "metadata": {},
   "outputs": [],
   "source": [
    "x_train = x_prepro.to_numpy()\n",
    "y_train = y_prepro.to_numpy()"
   ]
  },
  {
   "cell_type": "code",
   "execution_count": 8,
   "id": "5a1ca24d-f06f-42c7-aebd-3ba91861be06",
   "metadata": {},
   "outputs": [
    {
     "name": "stdout",
     "output_type": "stream",
     "text": [
      "torch.Size([100, 3])\n",
      "torch.Size([100, 2])\n"
     ]
    }
   ],
   "source": [
    "inputs = torch.from_numpy(x_train)\n",
    "targets = torch.from_numpy(y_train)\n",
    "print(inputs.size())\n",
    "print(targets.size())"
   ]
  },
  {
   "cell_type": "code",
   "execution_count": 9,
   "id": "676de23c-5572-41de-99a5-ca430642c169",
   "metadata": {},
   "outputs": [
    {
     "data": {
      "text/plain": [
       "(tensor([[1.4764, 1.5045, 1.4098],\n",
       "         [2.6557, 2.7000, 2.7008],\n",
       "         [2.6132, 2.6818, 2.7172]]),\n",
       " tensor([[55., 28.],\n",
       "         [38., 19.],\n",
       "         [17.,  9.]]))"
      ]
     },
     "execution_count": 9,
     "metadata": {},
     "output_type": "execute_result"
    }
   ],
   "source": [
    "# Define dataset\n",
    "train_ds = TensorDataset(inputs, targets)\n",
    "train_ds[0:3]"
   ]
  },
  {
   "cell_type": "code",
   "execution_count": 10,
   "id": "abf85239-80b4-4efc-961d-082bdd29d112",
   "metadata": {},
   "outputs": [],
   "source": [
    "# Define data loader\n",
    "batch_size = 8\n",
    "train_dl = DataLoader(train_ds, batch_size, shuffle=True)"
   ]
  },
  {
   "cell_type": "code",
   "execution_count": 11,
   "id": "4a5b089c-51cc-419d-92c3-90b8a4a5e298",
   "metadata": {},
   "outputs": [],
   "source": [
    "x, y = next(iter(train_dl))"
   ]
  },
  {
   "cell_type": "code",
   "execution_count": 12,
   "id": "da983bc6-8c3f-4be3-ba6d-726d974317fd",
   "metadata": {
    "scrolled": true
   },
   "outputs": [
    {
     "name": "stdout",
     "output_type": "stream",
     "text": [
      "tensor([[2.1698, 2.2045, 2.2623],\n",
      "        [1.5000, 1.6500, 1.6598],\n",
      "        [1.3821, 1.5182, 1.5246],\n",
      "        [2.5896, 2.6045, 2.5943],\n",
      "        [2.2547, 2.3545, 2.3689],\n",
      "        [2.5330, 2.6727, 2.5738],\n",
      "        [1.7594, 1.8364, 1.9221],\n",
      "        [2.5377, 2.7364, 2.7500]])\n",
      "tensor([[45., 14.],\n",
      "        [71., 68.],\n",
      "        [84., 76.],\n",
      "        [67., 52.],\n",
      "        [33., 29.],\n",
      "        [52., 27.],\n",
      "        [43., 39.],\n",
      "        [25., 22.]])\n"
     ]
    }
   ],
   "source": [
    "for xb, yb in train_dl:\n",
    "    print(xb)\n",
    "    print(yb)\n",
    "    break"
   ]
  },
  {
   "cell_type": "code",
   "execution_count": 13,
   "id": "b118a49b-0f92-4e83-93dc-240654dbcef2",
   "metadata": {},
   "outputs": [
    {
     "name": "stdout",
     "output_type": "stream",
     "text": [
      "Parameter containing:\n",
      "tensor([[ 0.4414,  0.4792, -0.1353]], requires_grad=True)\n",
      "torch.Size([1, 3])\n",
      "Parameter containing:\n",
      "tensor([0.5304], requires_grad=True)\n",
      "torch.Size([1])\n"
     ]
    }
   ],
   "source": [
    "# Define model\n",
    "\n",
    "seed_everything()\n",
    "model = nn.Linear(3, 1)  #nn.Linear assume this shape (in_features, out_features)\n",
    "print(model.weight)\n",
    "print(model.weight.size()) # (out_features, in_features)\n",
    "print(model.bias)\n",
    "print(model.bias.size()) #(out_features)"
   ]
  },
  {
   "cell_type": "code",
   "execution_count": 14,
   "id": "785fab35-da9b-40b3-bbd9-7245cdbcf7e2",
   "metadata": {},
   "outputs": [
    {
     "data": {
      "text/plain": [
       "[Parameter containing:\n",
       " tensor([[ 0.4414,  0.4792, -0.1353]], requires_grad=True),\n",
       " Parameter containing:\n",
       " tensor([0.5304], requires_grad=True)]"
      ]
     },
     "execution_count": 14,
     "metadata": {},
     "output_type": "execute_result"
    }
   ],
   "source": [
    "# Parameters\n",
    "list(model.parameters())  #model.param returns a generator"
   ]
  },
  {
   "cell_type": "code",
   "execution_count": 15,
   "id": "05d423c9-6dfd-4e71-9c93-cab19b1ffacf",
   "metadata": {},
   "outputs": [
    {
     "name": "stdout",
     "output_type": "stream",
     "text": [
      "4\n"
     ]
    }
   ],
   "source": [
    "#we can print the complexity by the number of parameters\n",
    "print(sum(p.numel() for p in model.parameters() if p.requires_grad))"
   ]
  },
  {
   "cell_type": "code",
   "execution_count": 131,
   "id": "1006de30-b65c-4d43-9d5b-69c8b6463e52",
   "metadata": {},
   "outputs": [
    {
     "data": {
      "text/plain": [
       "tensor([[1.7123],\n",
       "        [2.6312],\n",
       "        [2.6015],\n",
       "        [1.8330],\n",
       "        [2.4316],\n",
       "        [2.5230],\n",
       "        [1.8447],\n",
       "        [1.6827],\n",
       "        [2.1586],\n",
       "        [2.5968],\n",
       "        [1.8779],\n",
       "        [2.3204],\n",
       "        [1.7318],\n",
       "        [2.5811],\n",
       "        [2.2614],\n",
       "        [2.0187],\n",
       "        [2.0808],\n",
       "        [2.7239],\n",
       "        [2.0447],\n",
       "        [1.9764],\n",
       "        [1.6611],\n",
       "        [2.3138],\n",
       "        [2.4445],\n",
       "        [1.7480],\n",
       "        [1.9902],\n",
       "        [1.7873],\n",
       "        [1.9236],\n",
       "        [1.6707],\n",
       "        [1.8532],\n",
       "        [1.9008],\n",
       "        [2.4560],\n",
       "        [2.1029],\n",
       "        [2.3322],\n",
       "        [2.4698],\n",
       "        [2.2087],\n",
       "        [2.2472],\n",
       "        [2.1191],\n",
       "        [2.3009],\n",
       "        [1.9223],\n",
       "        [2.4779],\n",
       "        [1.8469],\n",
       "        [1.6384],\n",
       "        [1.5899],\n",
       "        [1.7587],\n",
       "        [1.8635],\n",
       "        [2.3079],\n",
       "        [1.8617],\n",
       "        [2.2385],\n",
       "        [2.1907],\n",
       "        [1.6416],\n",
       "        [1.9179],\n",
       "        [1.8351],\n",
       "        [2.5337],\n",
       "        [1.9544],\n",
       "        [2.5357],\n",
       "        [1.9210],\n",
       "        [1.8434],\n",
       "        [1.9419],\n",
       "        [2.5899],\n",
       "        [1.9019],\n",
       "        [1.6889],\n",
       "        [1.9338],\n",
       "        [1.7290],\n",
       "        [1.6947],\n",
       "        [2.0902],\n",
       "        [2.0052],\n",
       "        [1.7600],\n",
       "        [1.8807],\n",
       "        [1.8665],\n",
       "        [2.3761],\n",
       "        [1.7528],\n",
       "        [2.5021],\n",
       "        [1.7350],\n",
       "        [1.9776],\n",
       "        [1.9645],\n",
       "        [2.6681],\n",
       "        [1.6424],\n",
       "        [2.5068],\n",
       "        [1.8003],\n",
       "        [2.0677],\n",
       "        [2.0973],\n",
       "        [2.0707],\n",
       "        [2.1621],\n",
       "        [1.8630],\n",
       "        [2.4880],\n",
       "        [2.3335],\n",
       "        [2.0117],\n",
       "        [2.3888],\n",
       "        [2.5706],\n",
       "        [2.6717],\n",
       "        [2.6689],\n",
       "        [1.5752],\n",
       "        [1.8899],\n",
       "        [1.6617],\n",
       "        [2.0322],\n",
       "        [1.9270],\n",
       "        [2.0807],\n",
       "        [2.1063],\n",
       "        [2.3867],\n",
       "        [1.7965]], grad_fn=<AddmmBackward0>)"
      ]
     },
     "execution_count": 131,
     "metadata": {},
     "output_type": "execute_result"
    }
   ],
   "source": [
    "# Generate predictions\n",
    "preds = model(inputs)\n",
    "preds"
   ]
  },
  {
   "cell_type": "code",
   "execution_count": 132,
   "id": "72346dad-1bd6-4b6d-af9a-80ab763bf571",
   "metadata": {},
   "outputs": [],
   "source": [
    "criterion_mse = nn.MSELoss()\n",
    "criterion_softmax_cross_entropy_loss = nn.CrossEntropyLoss()"
   ]
  },
  {
   "cell_type": "code",
   "execution_count": 133,
   "id": "e32d5465-11fd-4d3e-9402-2f09fbd5f481",
   "metadata": {},
   "outputs": [
    {
     "name": "stdout",
     "output_type": "stream",
     "text": [
      "tensor(3545.1160, grad_fn=<MseLossBackward0>)\n",
      "3545.115966796875\n"
     ]
    },
    {
     "name": "stderr",
     "output_type": "stream",
     "text": [
      "C:\\Users\\ATARA\\anaconda3\\envs\\tor_env\\lib\\site-packages\\torch\\nn\\modules\\loss.py:538: UserWarning: Using a target size (torch.Size([100, 2])) that is different to the input size (torch.Size([100, 1])). This will likely lead to incorrect results due to broadcasting. Please ensure they have the same size.\n",
      "  return F.mse_loss(input, target, reduction=self.reduction)\n"
     ]
    }
   ],
   "source": [
    "mse = criterion_mse(preds, targets)\n",
    "print(mse)\n",
    "print(mse.item())  ##print out the loss number"
   ]
  },
  {
   "cell_type": "code",
   "execution_count": 134,
   "id": "adbba104-e56e-4d46-a146-df4bb60255bc",
   "metadata": {},
   "outputs": [],
   "source": [
    "# Define optimizer\n",
    "#momentum update the weight based on past gradients also, which will be useful for getting out of local max/min\n",
    "#If our momentum parameter was $0.9$, we would get our current grad + the multiplication of the gradient \n",
    "#from one time step ago by $0.9$, the one from two time steps ago by $0.9^2 = 0.81$, etc.\n",
    "\n",
    "opt = torch.optim.SGD(model.parameters(), lr=0.0001, momentum=0.9)"
   ]
  },
  {
   "cell_type": "code",
   "execution_count": 135,
   "id": "eac4b050-fbd9-4c16-aff7-e21534cea21f",
   "metadata": {},
   "outputs": [],
   "source": [
    "# Utility function to train the model\n",
    "def fit(num_epochs, model, loss_fn, opt, train_dl):\n",
    "    \n",
    "    # Repeat for given number of epochs\n",
    "    for epoch in range(num_epochs):\n",
    "        \n",
    "        # Train with batches of data\n",
    "        for xb,yb in train_dl:\n",
    "            \n",
    "            xb.to(device) #move them to gpu if possible, if not, it will be cpu\n",
    "            yb.to(device)\n",
    "                    \n",
    "            # 1. Predict\n",
    "            pred = model(xb)\n",
    "                      \n",
    "            # 2. Calculate loss\n",
    "            loss = loss_fn(pred, yb)\n",
    "            \n",
    "            # 3. Calculate gradient\n",
    "            opt.zero_grad()  #if not, the gradients will accumulate\n",
    "            loss.backward()\n",
    "            \n",
    "            # Print out the gradients.\n",
    "            # print ('dL/dw: ', model.weight.grad) \n",
    "            # print ('dL/db: ', model.bias.grad)\n",
    "            \n",
    "            # 4. Update parameters using gradients\n",
    "            opt.step()\n",
    "            \n",
    "        # Print the progress\n",
    "        if (epoch+1) % 10 == 0:\n",
    "            sys.stdout.write(\"\\rEpoch [{}/{}], Loss: {:.4f}\".format(epoch+1, num_epochs, loss.item()))"
   ]
  },
  {
   "cell_type": "code",
   "execution_count": 136,
   "id": "3a12db8d-d779-4fe0-a851-262c48be5d79",
   "metadata": {},
   "outputs": [
    {
     "name": "stderr",
     "output_type": "stream",
     "text": [
      "C:\\Users\\ATARA\\anaconda3\\envs\\tor_env\\lib\\site-packages\\torch\\nn\\modules\\loss.py:538: UserWarning: Using a target size (torch.Size([8, 2])) that is different to the input size (torch.Size([8, 1])). This will likely lead to incorrect results due to broadcasting. Please ensure they have the same size.\n",
      "  return F.mse_loss(input, target, reduction=self.reduction)\n",
      "C:\\Users\\ATARA\\anaconda3\\envs\\tor_env\\lib\\site-packages\\torch\\nn\\modules\\loss.py:538: UserWarning: Using a target size (torch.Size([4, 2])) that is different to the input size (torch.Size([4, 1])). This will likely lead to incorrect results due to broadcasting. Please ensure they have the same size.\n",
      "  return F.mse_loss(input, target, reduction=self.reduction)\n"
     ]
    },
    {
     "name": "stdout",
     "output_type": "stream",
     "text": [
      "Epoch [1000/1000], Loss: 628.7933"
     ]
    }
   ],
   "source": [
    "#train for 1000 epochs\n",
    "fit(1000, model, criterion_mse, opt, train_dl)"
   ]
  },
  {
   "cell_type": "code",
   "execution_count": 137,
   "id": "eefc99bf-e7de-4c0e-9ec1-283cb79f40db",
   "metadata": {},
   "outputs": [
    {
     "name": "stdout",
     "output_type": "stream",
     "text": [
      "Epoch [5000/5000], Loss: 149.8172"
     ]
    }
   ],
   "source": [
    "#experiment train\n",
    "fit(5000, model, criterion_mse, opt, train_dl)"
   ]
  },
  {
   "cell_type": "code",
   "execution_count": 138,
   "id": "622875f8-8645-4483-98fe-bbad76aee36f",
   "metadata": {},
   "outputs": [
    {
     "name": "stdout",
     "output_type": "stream",
     "text": [
      "422.1947326660156\n"
     ]
    }
   ],
   "source": [
    "# Generate predictions\n",
    "preds = model(inputs)\n",
    "loss = criterion_mse(preds, targets)\n",
    "print(loss.item())"
   ]
  },
  {
   "cell_type": "code",
   "execution_count": 139,
   "id": "678b75f1-d739-4995-ae47-ec2035a37d1c",
   "metadata": {},
   "outputs": [
    {
     "data": {
      "text/plain": [
       "tensor([[70.9591],\n",
       "        [34.0665],\n",
       "        [35.4344],\n",
       "        [64.8952],\n",
       "        [41.7719],\n",
       "        [39.2117],\n",
       "        [64.4471],\n",
       "        [71.7784],\n",
       "        [53.9218],\n",
       "        [35.6109],\n",
       "        [64.1421],\n",
       "        [46.6637],\n",
       "        [70.4305],\n",
       "        [36.9091],\n",
       "        [49.7764],\n",
       "        [58.9846],\n",
       "        [55.0389],\n",
       "        [28.1597],\n",
       "        [58.3365],\n",
       "        [60.5468],\n",
       "        [73.3634],\n",
       "        [46.6506],\n",
       "        [42.9137],\n",
       "        [69.0885],\n",
       "        [60.6544],\n",
       "        [68.3813],\n",
       "        [63.2960],\n",
       "        [71.7375],\n",
       "        [65.2255],\n",
       "        [63.5105],\n",
       "        [42.4303],\n",
       "        [56.8123],\n",
       "        [48.8467],\n",
       "        [40.9365],\n",
       "        [51.1067],\n",
       "        [51.0582],\n",
       "        [54.8983],\n",
       "        [48.7148],\n",
       "        [61.6714],\n",
       "        [40.6871],\n",
       "        [65.5682],\n",
       "        [74.1401],\n",
       "        [76.0598],\n",
       "        [70.0077],\n",
       "        [63.9238],\n",
       "        [45.7314],\n",
       "        [63.8281],\n",
       "        [49.7475],\n",
       "        [52.2433],\n",
       "        [74.1140],\n",
       "        [63.1223],\n",
       "        [63.9306],\n",
       "        [37.8480],\n",
       "        [60.6892],\n",
       "        [38.1898],\n",
       "        [62.7523],\n",
       "        [66.7891],\n",
       "        [63.9187],\n",
       "        [36.9588],\n",
       "        [63.8790],\n",
       "        [72.4814],\n",
       "        [63.3554],\n",
       "        [70.5540],\n",
       "        [71.3334],\n",
       "        [55.7423],\n",
       "        [61.3124],\n",
       "        [68.0466],\n",
       "        [64.0650],\n",
       "        [64.7804],\n",
       "        [44.2326],\n",
       "        [67.9285],\n",
       "        [40.0033],\n",
       "        [69.4783],\n",
       "        [59.1159],\n",
       "        [61.7095],\n",
       "        [32.9042],\n",
       "        [73.0375],\n",
       "        [39.1137],\n",
       "        [67.5764],\n",
       "        [55.6554],\n",
       "        [54.0531],\n",
       "        [55.8671],\n",
       "        [53.1938],\n",
       "        [63.4720],\n",
       "        [39.4551],\n",
       "        [46.4782],\n",
       "        [63.3250],\n",
       "        [43.4108],\n",
       "        [36.2727],\n",
       "        [32.7861],\n",
       "        [33.4301],\n",
       "        [75.7288],\n",
       "        [61.5839],\n",
       "        [73.7969],\n",
       "        [58.3567],\n",
       "        [62.6017],\n",
       "        [57.9774],\n",
       "        [54.1029],\n",
       "        [44.8628],\n",
       "        [69.1972]], grad_fn=<AddmmBackward0>)"
      ]
     },
     "execution_count": 139,
     "metadata": {},
     "output_type": "execute_result"
    }
   ],
   "source": [
    "preds"
   ]
  },
  {
   "cell_type": "code",
   "execution_count": 140,
   "id": "8c229d48-06e5-40ba-a502-620d46c4c216",
   "metadata": {},
   "outputs": [
    {
     "data": {
      "text/plain": [
       "tensor([[55., 28.],\n",
       "        [38., 19.],\n",
       "        [17.,  9.],\n",
       "        [45., 28.],\n",
       "        [67., 56.],\n",
       "        [79., 13.],\n",
       "        [89., 67.],\n",
       "        [94., 55.],\n",
       "        [90., 83.],\n",
       "        [25.,  9.],\n",
       "        [81., 76.],\n",
       "        [29.,  8.],\n",
       "        [91., 78.],\n",
       "        [52., 27.],\n",
       "        [57., 23.],\n",
       "        [87., 76.],\n",
       "        [62., 23.],\n",
       "        [57., 23.],\n",
       "        [60., 27.],\n",
       "        [62., 47.],\n",
       "        [89., 71.],\n",
       "        [45., 23.],\n",
       "        [55., 66.],\n",
       "        [62., 69.],\n",
       "        [67., 71.],\n",
       "        [87., 58.],\n",
       "        [38., 34.],\n",
       "        [65., 23.],\n",
       "        [87., 36.],\n",
       "        [81., 55.],\n",
       "        [81., 74.],\n",
       "        [73., 40.],\n",
       "        [73., 32.],\n",
       "        [33., 36.],\n",
       "        [67., 44.],\n",
       "        [10.,  6.],\n",
       "        [62., 26.],\n",
       "        [73., 72.],\n",
       "        [67., 26.],\n",
       "        [57., 26.],\n",
       "        [67., 76.],\n",
       "        [84., 71.],\n",
       "        [90., 88.],\n",
       "        [71., 68.],\n",
       "        [75., 60.],\n",
       "        [48., 23.],\n",
       "        [88., 79.],\n",
       "        [45., 14.],\n",
       "        [50.,  8.],\n",
       "        [88., 90.],\n",
       "        [75., 23.],\n",
       "        [65., 55.],\n",
       "        [60., 40.],\n",
       "        [60.,  5.],\n",
       "        [43., 58.],\n",
       "        [65., 68.],\n",
       "        [99., 95.],\n",
       "        [87., 23.],\n",
       "        [25., 22.],\n",
       "        [73., 33.],\n",
       "        [87., 45.],\n",
       "        [60., 23.],\n",
       "        [88., 63.],\n",
       "        [57., 43.],\n",
       "        [67., 61.],\n",
       "        [75., 33.],\n",
       "        [75., 71.],\n",
       "        [55., 61.],\n",
       "        [71., 47.],\n",
       "        [25.,  8.],\n",
       "        [94., 83.],\n",
       "        [43., 23.],\n",
       "        [99., 94.],\n",
       "        [71., 43.],\n",
       "        [62., 71.],\n",
       "        [38., 11.],\n",
       "        [94., 68.],\n",
       "        [65., 36.],\n",
       "        [86., 84.],\n",
       "        [62., 15.],\n",
       "        [84., 74.],\n",
       "        [77., 68.],\n",
       "        [71., 50.],\n",
       "        [84., 71.],\n",
       "        [48., 56.],\n",
       "        [33., 29.],\n",
       "        [88., 76.],\n",
       "        [23., 13.],\n",
       "        [67., 52.],\n",
       "        [45., 48.],\n",
       "        [64., 46.],\n",
       "        [88., 51.],\n",
       "        [71., 71.],\n",
       "        [84., 76.],\n",
       "        [48., 47.],\n",
       "        [43., 39.],\n",
       "        [84., 72.],\n",
       "        [69., 56.],\n",
       "        [50., 22.],\n",
       "        [94., 71.]])"
      ]
     },
     "execution_count": 140,
     "metadata": {},
     "output_type": "execute_result"
    }
   ],
   "source": [
    "targets"
   ]
  },
  {
   "cell_type": "code",
   "execution_count": null,
   "id": "a8560439-5e81-4f1f-8d0b-3d9ad5423874",
   "metadata": {},
   "outputs": [],
   "source": []
  }
 ],
 "metadata": {
  "kernelspec": {
   "display_name": "Python 3 (ipykernel)",
   "language": "python",
   "name": "python3"
  },
  "language_info": {
   "codemirror_mode": {
    "name": "ipython",
    "version": 3
   },
   "file_extension": ".py",
   "mimetype": "text/x-python",
   "name": "python",
   "nbconvert_exporter": "python",
   "pygments_lexer": "ipython3",
   "version": "3.11.9"
  }
 },
 "nbformat": 4,
 "nbformat_minor": 5
}
