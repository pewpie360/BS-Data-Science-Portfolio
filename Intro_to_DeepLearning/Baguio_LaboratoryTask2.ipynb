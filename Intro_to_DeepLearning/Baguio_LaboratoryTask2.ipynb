{
 "cells": [
  {
   "cell_type": "markdown",
   "id": "6619ad47-6ed2-4104-a607-0b58cb1ec606",
   "metadata": {},
   "source": [
    "<center>Elective 4</center>\n",
    "<center>Deep Learning</center>"
   ]
  },
  {
   "cell_type": "markdown",
   "id": "63aab715-a228-432d-b76c-3a165c102f0e",
   "metadata": {},
   "source": [
    "## **Advisor:** Jhun Brian Andam\n",
    "## **Student:** Christian Jay Baguio"
   ]
  },
  {
   "cell_type": "markdown",
   "id": "e8ffc0c9-3668-462a-9683-3ea9e8eec719",
   "metadata": {},
   "source": [
    "<div class=\"alert alert-block alert-success\" style=\"font-family: Times New Roman\">\n",
    "    <h4><strong>Laboratory Task 2</strong></h4>\n",
    "\n",
    "<p style=\"font-family:Times New Roman; text-align:justify; font-size:15px\">\n",
    "    <b>Instruction:</b> Perform a single forward pass and compute for the error.\n",
    "</p>\n",
    "\n",
    "$$x = \\begin{bmatrix} 1 \\\\ 0 \\\\ 1 \\end{bmatrix}$$\n",
    "\n",
    "$$y = \\begin{bmatrix} 1 \\end{bmatrix}$$\n",
    "\n",
    "$$f=max(0, Z_n)$$\n",
    "\n",
    "$$\\text{hidden unit weights} = \n",
    "\\begin{bmatrix}\n",
    "w_{11} = 0.2 && w_{12} = -0.3 \\\\\n",
    "w_{13} = 0.4 && w_{14} = 0.1 \\\\\n",
    "w_{15} = -0.5 && w_{16} = 0.2\n",
    "\\end{bmatrix}$$\n",
    "\n",
    "$$\\text{output unit weights} = \n",
    "\\begin{bmatrix}\n",
    "w_{21} = -0.3 \\\\\n",
    "w_{22} = -0.2\n",
    "\\end{bmatrix}$$\n",
    "\n",
    "$$\\theta = \n",
    "\\begin{bmatrix}\n",
    "\\theta_{1} = -0.4 \\\\\n",
    "\\theta_{2} = 0.2 \\\\\n",
    "\\theta_{3} = 0.1\n",
    "\\end{bmatrix}$$\n",
    "</div>"
   ]
  },
  {
   "cell_type": "markdown",
   "id": "e1b52970-bb7c-4704-b6ce-c34adaf217fe",
   "metadata": {},
   "source": [
    "# Imports"
   ]
  },
  {
   "cell_type": "code",
   "execution_count": 1,
   "id": "ee5bb189-234a-437f-986c-1ecafd48b2b6",
   "metadata": {},
   "outputs": [],
   "source": [
    "import numpy as np"
   ]
  },
  {
   "cell_type": "code",
   "execution_count": 3,
   "id": "8ae8a8f1-b777-46c8-a42c-8cf7de5af853",
   "metadata": {},
   "outputs": [
    {
     "name": "stdout",
     "output_type": "stream",
     "text": [
      "Hidden layer pre-activation (Z_hidden): [-0.7  0.1]\n",
      "Hidden layer activation (A_hidden): [0.  0.1]\n",
      "Output layer pre-activation (Z_output): [0.08]\n",
      "Mean Squared Error (MSE): 0.4232\n"
     ]
    }
   ],
   "source": [
    "x = np.array([1, 0, 1])  # Input vector\n",
    "y = np.array([1]) # Expected output\n",
    "\n",
    "W_hidden = np.array([[0.2, -0.3],\n",
    "                     [0.4,  0.1],\n",
    "                     [-0.5,  0.2]])\n",
    "\n",
    "W_output = np.array([[-0.3], [-0.2]])\n",
    "\n",
    "\n",
    "bias = np.array([-0.4, 0.2])\n",
    "bias_output = 0.1\n",
    "\n",
    "#ReLU activation function\n",
    "def relu(x):\n",
    "    return np.maximum(0, x)\n",
    "\n",
    "#Forward pass\n",
    "Z_hidden = np.dot(x, W_hidden) + bias\n",
    "\n",
    "#Apply ReLU activation to hidden layer\n",
    "A_hidden = relu(Z_hidden)\n",
    "\n",
    "#Output layer pre-activation (Z)\n",
    "Z_output = np.dot(A_hidden, W_output) + bias_output\n",
    "\n",
    "#No activation function at output layer (raw score since nag compute the error directly mn)\n",
    "\n",
    "#Error computation (Mean Squared Error - MSE)\n",
    "mse = 0.5 * np.square(y - Z_output).mean()\n",
    "\n",
    "print(\"Hidden layer pre-activation (Z_hidden):\", Z_hidden)\n",
    "print(\"Hidden layer activation (A_hidden):\", A_hidden)\n",
    "print(\"Output layer pre-activation (Z_output):\", Z_output)\n",
    "print(\"Mean Squared Error (MSE):\", mse)"
   ]
  },
  {
   "cell_type": "code",
   "execution_count": null,
   "id": "4edf0669-b087-45ac-831d-cb9b44ca79ec",
   "metadata": {},
   "outputs": [],
   "source": []
  }
 ],
 "metadata": {
  "kernelspec": {
   "display_name": "Python 3 (ipykernel)",
   "language": "python",
   "name": "python3"
  },
  "language_info": {
   "codemirror_mode": {
    "name": "ipython",
    "version": 3
   },
   "file_extension": ".py",
   "mimetype": "text/x-python",
   "name": "python",
   "nbconvert_exporter": "python",
   "pygments_lexer": "ipython3",
   "version": "3.9.19"
  }
 },
 "nbformat": 4,
 "nbformat_minor": 5
}
