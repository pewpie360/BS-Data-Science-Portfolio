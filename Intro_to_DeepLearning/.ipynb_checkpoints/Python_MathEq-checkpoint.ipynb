{
 "cells": [
  {
   "cell_type": "code",
   "execution_count": 2,
   "id": "4d6a3139",
   "metadata": {},
   "outputs": [],
   "source": [
    "import math"
   ]
  },
  {
   "cell_type": "code",
   "execution_count": 3,
   "id": "12badf08",
   "metadata": {},
   "outputs": [],
   "source": [
    "#sigmoid fuction\n",
    "def sigmoid(x):\n",
    "    return 1 / (1 + math.exp(-x))"
   ]
  },
  {
   "cell_type": "code",
   "execution_count": 4,
   "id": "9a26fca5",
   "metadata": {},
   "outputs": [
    {
     "data": {
      "text/plain": [
       "0.7310585786300049"
      ]
     },
     "execution_count": 4,
     "metadata": {},
     "output_type": "execute_result"
    }
   ],
   "source": [
    "sigmoid(1)"
   ]
  },
  {
   "cell_type": "code",
   "execution_count": 5,
   "id": "0aa8f042",
   "metadata": {},
   "outputs": [
    {
     "data": {
      "text/plain": [
       "1.3887943864771144e-11"
      ]
     },
     "execution_count": 5,
     "metadata": {},
     "output_type": "execute_result"
    }
   ],
   "source": [
    "sigmoid(-25)"
   ]
  },
  {
   "cell_type": "code",
   "execution_count": 10,
   "id": "e749c855",
   "metadata": {},
   "outputs": [],
   "source": [
    "#variance of sigmoid\n",
    "#tanh fuction\n",
    "def tanh(z):\n",
    "    return (math.exp(z) - math.exp(-z)) / (math.exp(z) + math.exp(-z)) #outputs are between 1 and -1"
   ]
  },
  {
   "cell_type": "code",
   "execution_count": 11,
   "id": "b4133a93",
   "metadata": {},
   "outputs": [
    {
     "data": {
      "text/plain": [
       "-1.0"
      ]
     },
     "execution_count": 11,
     "metadata": {},
     "output_type": "execute_result"
    }
   ],
   "source": [
    "tanh(-50)"
   ]
  },
  {
   "cell_type": "code",
   "execution_count": 12,
   "id": "d0ad1a11",
   "metadata": {},
   "outputs": [
    {
     "data": {
      "text/plain": [
       "1.0"
      ]
     },
     "execution_count": 12,
     "metadata": {},
     "output_type": "execute_result"
    }
   ],
   "source": [
    "tanh(50)"
   ]
  },
  {
   "cell_type": "code",
   "execution_count": 13,
   "id": "01590a1b",
   "metadata": {},
   "outputs": [],
   "source": [
    "#relu function\n",
    "def relu(x):\n",
    "    return max(0, x)"
   ]
  },
  {
   "cell_type": "code",
   "execution_count": 14,
   "id": "3a0d73bd",
   "metadata": {},
   "outputs": [
    {
     "data": {
      "text/plain": [
       "0"
      ]
     },
     "execution_count": 14,
     "metadata": {},
     "output_type": "execute_result"
    }
   ],
   "source": [
    "relu(-20)"
   ]
  },
  {
   "cell_type": "code",
   "execution_count": 15,
   "id": "a77373db",
   "metadata": {},
   "outputs": [
    {
     "data": {
      "text/plain": [
       "20"
      ]
     },
     "execution_count": 15,
     "metadata": {},
     "output_type": "execute_result"
    }
   ],
   "source": [
    "relu(20)"
   ]
  },
  {
   "cell_type": "code",
   "execution_count": 16,
   "id": "5746bdd0",
   "metadata": {},
   "outputs": [],
   "source": [
    "#leaky relu function\n",
    "def leaky_relu(x):\n",
    "    return max(0.1*x, x)"
   ]
  },
  {
   "cell_type": "code",
   "execution_count": 17,
   "id": "7b5ca921",
   "metadata": {},
   "outputs": [
    {
     "data": {
      "text/plain": [
       "-10.0"
      ]
     },
     "execution_count": 17,
     "metadata": {},
     "output_type": "execute_result"
    }
   ],
   "source": [
    "leaky_relu(-100)"
   ]
  },
  {
   "cell_type": "code",
   "execution_count": null,
   "id": "bc287cd3",
   "metadata": {},
   "outputs": [],
   "source": [
    "leaky_relu(100)"
   ]
  }
 ],
 "metadata": {
  "kernelspec": {
   "display_name": "Python 3 (ipykernel)",
   "language": "python",
   "name": "python3"
  },
  "language_info": {
   "codemirror_mode": {
    "name": "ipython",
    "version": 3
   },
   "file_extension": ".py",
   "mimetype": "text/x-python",
   "name": "python",
   "nbconvert_exporter": "python",
   "pygments_lexer": "ipython3",
   "version": "3.11.3"
  }
 },
 "nbformat": 4,
 "nbformat_minor": 5
}
