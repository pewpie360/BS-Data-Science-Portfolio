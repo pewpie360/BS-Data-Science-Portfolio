{
 "cells": [
  {
   "cell_type": "markdown",
   "id": "d10b0a72",
   "metadata": {},
   "source": [
    "# Employee Productivity and Satisfaction HR Data"
   ]
  },
  {
   "cell_type": "markdown",
   "id": "f0f93478",
   "metadata": {},
   "source": [
    "## About Dataset\n",
    "\n",
    "This dataset was created to explore the diverse factors impacting employee performance and satisfaction in a typical organization. It spans a variety of fields from personal demographics to performance metrics and job details, offering a comprehensive view into the dynamics of the workplace.\n",
    "\n",
    "The inspiration behind the creation of this dataset is to provide an accessible resource for those interested in the field of HR analytics. It can be used to derive insights into employee performance, satisfaction, and overall engagement at work. This dataset is particularly useful for tasks such as predicting employee turnover, analyzing employee performance, and understanding the factors that influence job satisfaction."
   ]
  },
  {
   "cell_type": "code",
   "execution_count": 6,
   "id": "2e5f5525",
   "metadata": {},
   "outputs": [],
   "source": [
    "from sklearn.cluster import KMeans\n",
    "import pandas as pd\n",
    "import numpy as np\n",
    "from sklearn.preprocessing import MinMaxScaler\n",
    "import matplotlib.pyplot as plt\n",
    "%matplotlib inline\n",
    "plt.style.use('ggplot')"
   ]
  },
  {
   "cell_type": "code",
   "execution_count": 4,
   "id": "4a38728b",
   "metadata": {},
   "outputs": [
    {
     "data": {
      "text/html": [
       "<div>\n",
       "<style scoped>\n",
       "    .dataframe tbody tr th:only-of-type {\n",
       "        vertical-align: middle;\n",
       "    }\n",
       "\n",
       "    .dataframe tbody tr th {\n",
       "        vertical-align: top;\n",
       "    }\n",
       "\n",
       "    .dataframe thead th {\n",
       "        text-align: right;\n",
       "    }\n",
       "</style>\n",
       "<table border=\"1\" class=\"dataframe\">\n",
       "  <thead>\n",
       "    <tr style=\"text-align: right;\">\n",
       "      <th></th>\n",
       "      <th>Name</th>\n",
       "      <th>Age</th>\n",
       "      <th>Gender</th>\n",
       "      <th>Projects Completed</th>\n",
       "      <th>Productivity (%)</th>\n",
       "      <th>Satisfaction Rate (%)</th>\n",
       "      <th>Feedback Score</th>\n",
       "      <th>Department</th>\n",
       "      <th>Position</th>\n",
       "      <th>Joining Date</th>\n",
       "      <th>Salary</th>\n",
       "    </tr>\n",
       "  </thead>\n",
       "  <tbody>\n",
       "    <tr>\n",
       "      <th>0</th>\n",
       "      <td>Douglas Lindsey</td>\n",
       "      <td>25</td>\n",
       "      <td>Male</td>\n",
       "      <td>11</td>\n",
       "      <td>57</td>\n",
       "      <td>25</td>\n",
       "      <td>4.7</td>\n",
       "      <td>Marketing</td>\n",
       "      <td>Analyst</td>\n",
       "      <td>Jan-20</td>\n",
       "      <td>63596</td>\n",
       "    </tr>\n",
       "    <tr>\n",
       "      <th>1</th>\n",
       "      <td>Anthony Roberson</td>\n",
       "      <td>59</td>\n",
       "      <td>Female</td>\n",
       "      <td>19</td>\n",
       "      <td>55</td>\n",
       "      <td>76</td>\n",
       "      <td>2.8</td>\n",
       "      <td>IT</td>\n",
       "      <td>Manager</td>\n",
       "      <td>Jan-99</td>\n",
       "      <td>112540</td>\n",
       "    </tr>\n",
       "    <tr>\n",
       "      <th>2</th>\n",
       "      <td>Thomas Miller</td>\n",
       "      <td>30</td>\n",
       "      <td>Male</td>\n",
       "      <td>8</td>\n",
       "      <td>87</td>\n",
       "      <td>10</td>\n",
       "      <td>2.4</td>\n",
       "      <td>IT</td>\n",
       "      <td>Analyst</td>\n",
       "      <td>Jan-17</td>\n",
       "      <td>66292</td>\n",
       "    </tr>\n",
       "    <tr>\n",
       "      <th>3</th>\n",
       "      <td>Joshua Lewis</td>\n",
       "      <td>26</td>\n",
       "      <td>Female</td>\n",
       "      <td>1</td>\n",
       "      <td>53</td>\n",
       "      <td>4</td>\n",
       "      <td>1.4</td>\n",
       "      <td>Marketing</td>\n",
       "      <td>Intern</td>\n",
       "      <td>Jan-22</td>\n",
       "      <td>38303</td>\n",
       "    </tr>\n",
       "    <tr>\n",
       "      <th>4</th>\n",
       "      <td>Stephanie Bailey</td>\n",
       "      <td>43</td>\n",
       "      <td>Male</td>\n",
       "      <td>14</td>\n",
       "      <td>3</td>\n",
       "      <td>9</td>\n",
       "      <td>4.5</td>\n",
       "      <td>IT</td>\n",
       "      <td>Team Lead</td>\n",
       "      <td>Jan-05</td>\n",
       "      <td>101133</td>\n",
       "    </tr>\n",
       "  </tbody>\n",
       "</table>\n",
       "</div>"
      ],
      "text/plain": [
       "               Name  Age  Gender  Projects Completed  Productivity (%)  \\\n",
       "0   Douglas Lindsey   25    Male                  11                57   \n",
       "1  Anthony Roberson   59  Female                  19                55   \n",
       "2     Thomas Miller   30    Male                   8                87   \n",
       "3      Joshua Lewis   26  Female                   1                53   \n",
       "4  Stephanie Bailey   43    Male                  14                 3   \n",
       "\n",
       "   Satisfaction Rate (%)  Feedback Score Department   Position Joining Date  \\\n",
       "0                     25             4.7  Marketing    Analyst       Jan-20   \n",
       "1                     76             2.8         IT    Manager       Jan-99   \n",
       "2                     10             2.4         IT    Analyst       Jan-17   \n",
       "3                      4             1.4  Marketing     Intern       Jan-22   \n",
       "4                      9             4.5         IT  Team Lead       Jan-05   \n",
       "\n",
       "   Salary  \n",
       "0   63596  \n",
       "1  112540  \n",
       "2   66292  \n",
       "3   38303  \n",
       "4  101133  "
      ]
     },
     "execution_count": 4,
     "metadata": {},
     "output_type": "execute_result"
    }
   ],
   "source": [
    "hr_df = pd.read_csv(\"hr_dashboard_data.csv\")\n",
    "hr_df.head()"
   ]
  },
  {
   "cell_type": "code",
   "execution_count": 7,
   "id": "3d188167",
   "metadata": {},
   "outputs": [
    {
     "data": {
      "text/plain": [
       "<matplotlib.collections.PathCollection at 0x20b18d7a810>"
      ]
     },
     "execution_count": 7,
     "metadata": {},
     "output_type": "execute_result"
    },
    {
     "data": {
      "image/png": "[encoded data removed]",
      "text/plain": [
       "<Figure size 640x480 with 1 Axes>"
      ]
     },
     "metadata": {},
     "output_type": "display_data"
    }
   ],
   "source": [
    "plt.scatter(hr_df[\"Age\"], hr_df[\"Projects Completed\"])"
   ]
  },
  {
   "cell_type": "code",
   "execution_count": 8,
   "id": "566da182",
   "metadata": {},
   "outputs": [
    {
     "data": {
      "text/html": [
       "<style>#sk-container-id-1 {color: black;}#sk-container-id-1 pre{padding: 0;}#sk-container-id-1 div.sk-toggleable {background-color: white;}#sk-container-id-1 label.sk-toggleable__label {cursor: pointer;display: block;width: 100%;margin-bottom: 0;padding: 0.3em;box-sizing: border-box;text-align: center;}#sk-container-id-1 label.sk-toggleable__label-arrow:before {content: \"▸\";float: left;margin-right: 0.25em;color: #696969;}#sk-container-id-1 label.sk-toggleable__label-arrow:hover:before {color: black;}#sk-container-id-1 div.sk-estimator:hover label.sk-toggleable__label-arrow:before {color: black;}#sk-container-id-1 div.sk-toggleable__content {max-height: 0;max-width: 0;overflow: hidden;text-align: left;background-color: #f0f8ff;}#sk-container-id-1 div.sk-toggleable__content pre {margin: 0.2em;color: black;border-radius: 0.25em;background-color: #f0f8ff;}#sk-container-id-1 input.sk-toggleable__control:checked~div.sk-toggleable__content {max-height: 200px;max-width: 100%;overflow: auto;}#sk-container-id-1 input.sk-toggleable__control:checked~label.sk-toggleable__label-arrow:before {content: \"▾\";}#sk-container-id-1 div.sk-estimator input.sk-toggleable__control:checked~label.sk-toggleable__label {background-color: #d4ebff;}#sk-container-id-1 div.sk-label input.sk-toggleable__control:checked~label.sk-toggleable__label {background-color: #d4ebff;}#sk-container-id-1 input.sk-hidden--visually {border: 0;clip: rect(1px 1px 1px 1px);clip: rect(1px, 1px, 1px, 1px);height: 1px;margin: -1px;overflow: hidden;padding: 0;position: absolute;width: 1px;}#sk-container-id-1 div.sk-estimator {font-family: monospace;background-color: #f0f8ff;border: 1px dotted black;border-radius: 0.25em;box-sizing: border-box;margin-bottom: 0.5em;}#sk-container-id-1 div.sk-estimator:hover {background-color: #d4ebff;}#sk-container-id-1 div.sk-parallel-item::after {content: \"\";width: 100%;border-bottom: 1px solid gray;flex-grow: 1;}#sk-container-id-1 div.sk-label:hover label.sk-toggleable__label {background-color: #d4ebff;}#sk-container-id-1 div.sk-serial::before {content: \"\";position: absolute;border-left: 1px solid gray;box-sizing: border-box;top: 0;bottom: 0;left: 50%;z-index: 0;}#sk-container-id-1 div.sk-serial {display: flex;flex-direction: column;align-items: center;background-color: white;padding-right: 0.2em;padding-left: 0.2em;position: relative;}#sk-container-id-1 div.sk-item {position: relative;z-index: 1;}#sk-container-id-1 div.sk-parallel {display: flex;align-items: stretch;justify-content: center;background-color: white;position: relative;}#sk-container-id-1 div.sk-item::before, #sk-container-id-1 div.sk-parallel-item::before {content: \"\";position: absolute;border-left: 1px solid gray;box-sizing: border-box;top: 0;bottom: 0;left: 50%;z-index: -1;}#sk-container-id-1 div.sk-parallel-item {display: flex;flex-direction: column;z-index: 1;position: relative;background-color: white;}#sk-container-id-1 div.sk-parallel-item:first-child::after {align-self: flex-end;width: 50%;}#sk-container-id-1 div.sk-parallel-item:last-child::after {align-self: flex-start;width: 50%;}#sk-container-id-1 div.sk-parallel-item:only-child::after {width: 0;}#sk-container-id-1 div.sk-dashed-wrapped {border: 1px dashed gray;margin: 0 0.4em 0.5em 0.4em;box-sizing: border-box;padding-bottom: 0.4em;background-color: white;}#sk-container-id-1 div.sk-label label {font-family: monospace;font-weight: bold;display: inline-block;line-height: 1.2em;}#sk-container-id-1 div.sk-label-container {text-align: center;}#sk-container-id-1 div.sk-container {/* jupyter's `normalize.less` sets `[hidden] { display: none; }` but bootstrap.min.css set `[hidden] { display: none !important; }` so we also need the `!important` here to be able to override the default hidden behavior on the sphinx rendered scikit-learn.org. See: https://github.com/scikit-learn/scikit-learn/issues/21755 */display: inline-block !important;position: relative;}#sk-container-id-1 div.sk-text-repr-fallback {display: none;}</style><div id=\"sk-container-id-1\" class=\"sk-top-container\"><div class=\"sk-text-repr-fallback\"><pre>KMeans(n_clusters=3)</pre><b>In a Jupyter environment, please rerun this cell to show the HTML representation or trust the notebook. <br />On GitHub, the HTML representation is unable to render, please try loading this page with nbviewer.org.</b></div><div class=\"sk-container\" hidden><div class=\"sk-item\"><div class=\"sk-estimator sk-toggleable\"><input class=\"sk-toggleable__control sk-hidden--visually\" id=\"sk-estimator-id-1\" type=\"checkbox\" checked><label for=\"sk-estimator-id-1\" class=\"sk-toggleable__label sk-toggleable__label-arrow\">KMeans</label><div class=\"sk-toggleable__content\"><pre>KMeans(n_clusters=3)</pre></div></div></div></div></div>"
      ],
      "text/plain": [
       "KMeans(n_clusters=3)"
      ]
     },
     "execution_count": 8,
     "metadata": {},
     "output_type": "execute_result"
    }
   ],
   "source": [
    "km = KMeans(n_clusters = 3)\n",
    "km"
   ]
  },
  {
   "cell_type": "code",
   "execution_count": 9,
   "id": "73af1c67",
   "metadata": {},
   "outputs": [
    {
     "name": "stderr",
     "output_type": "stream",
     "text": [
      "C:\\Users\\ATARA\\anaconda3\\Lib\\site-packages\\sklearn\\cluster\\_kmeans.py:1412: FutureWarning: The default value of `n_init` will change from 10 to 'auto' in 1.4. Set the value of `n_init` explicitly to suppress the warning\n",
      "  super()._check_params_vs_input(X, default_n_init=10)\n",
      "C:\\Users\\ATARA\\anaconda3\\Lib\\site-packages\\sklearn\\cluster\\_kmeans.py:1436: UserWarning: KMeans is known to have a memory leak on Windows with MKL, when there are less chunks than available threads. You can avoid it by setting the environment variable OMP_NUM_THREADS=1.\n",
      "  warnings.warn(\n"
     ]
    },
    {
     "data": {
      "text/plain": [
       "array([1, 2, 1, 1, 0, 1, 0, 1, 1, 0, 0, 0, 1, 0, 0, 0, 2, 0, 0, 1, 1, 1,\n",
       "       1, 1, 0, 1, 0, 0, 0, 1, 1, 1, 1, 1, 0, 0, 0, 2, 0, 0, 0, 1, 0, 1,\n",
       "       1, 1, 1, 0, 1, 0, 1, 0, 1, 0, 0, 0, 1, 0, 2, 1, 1, 0, 1, 2, 0, 1,\n",
       "       1, 0, 0, 1, 0, 0, 1, 0, 1, 0, 1, 1, 2, 1, 2, 0, 1, 2, 2, 2, 1, 0,\n",
       "       1, 0, 1, 1, 1, 0, 1, 1, 2, 2, 1, 0, 0, 1, 0, 2, 1, 0, 0, 2, 1, 1,\n",
       "       2, 1, 1, 1, 2, 0, 1, 2, 1, 2, 1, 2, 1, 1, 0, 0, 1, 1, 0, 0, 1, 1,\n",
       "       2, 2, 1, 0, 2, 1, 2, 1, 2, 0, 2, 0, 2, 0, 1, 0, 1, 1, 0, 1, 1, 1,\n",
       "       1, 1, 1, 1, 2, 0, 0, 1, 1, 0, 1, 1, 2, 0, 1, 1, 2, 1, 2, 0, 0, 1,\n",
       "       0, 2, 2, 1, 1, 0, 0, 1, 0, 0, 0, 0, 1, 1, 0, 0, 0, 0, 1, 1, 1, 1,\n",
       "       0, 0])"
      ]
     },
     "execution_count": 9,
     "metadata": {},
     "output_type": "execute_result"
    }
   ],
   "source": [
    "y_predicted = km.fit_predict(hr_df[[\"Age\", \"Projects Completed\"]])# compute clusters from the means of age and proj completed\n",
    "y_predicted"
   ]
  },
  {
   "cell_type": "code",
   "execution_count": 10,
   "id": "299facb8",
   "metadata": {},
   "outputs": [
    {
     "data": {
      "text/html": [
       "<div>\n",
       "<style scoped>\n",
       "    .dataframe tbody tr th:only-of-type {\n",
       "        vertical-align: middle;\n",
       "    }\n",
       "\n",
       "    .dataframe tbody tr th {\n",
       "        vertical-align: top;\n",
       "    }\n",
       "\n",
       "    .dataframe thead th {\n",
       "        text-align: right;\n",
       "    }\n",
       "</style>\n",
       "<table border=\"1\" class=\"dataframe\">\n",
       "  <thead>\n",
       "    <tr style=\"text-align: right;\">\n",
       "      <th></th>\n",
       "      <th>Name</th>\n",
       "      <th>Age</th>\n",
       "      <th>Gender</th>\n",
       "      <th>Projects Completed</th>\n",
       "      <th>Productivity (%)</th>\n",
       "      <th>Satisfaction Rate (%)</th>\n",
       "      <th>Feedback Score</th>\n",
       "      <th>Department</th>\n",
       "      <th>Position</th>\n",
       "      <th>Joining Date</th>\n",
       "      <th>Salary</th>\n",
       "      <th>cluster</th>\n",
       "    </tr>\n",
       "  </thead>\n",
       "  <tbody>\n",
       "    <tr>\n",
       "      <th>0</th>\n",
       "      <td>Douglas Lindsey</td>\n",
       "      <td>25</td>\n",
       "      <td>Male</td>\n",
       "      <td>11</td>\n",
       "      <td>57</td>\n",
       "      <td>25</td>\n",
       "      <td>4.7</td>\n",
       "      <td>Marketing</td>\n",
       "      <td>Analyst</td>\n",
       "      <td>Jan-20</td>\n",
       "      <td>63596</td>\n",
       "      <td>1</td>\n",
       "    </tr>\n",
       "    <tr>\n",
       "      <th>1</th>\n",
       "      <td>Anthony Roberson</td>\n",
       "      <td>59</td>\n",
       "      <td>Female</td>\n",
       "      <td>19</td>\n",
       "      <td>55</td>\n",
       "      <td>76</td>\n",
       "      <td>2.8</td>\n",
       "      <td>IT</td>\n",
       "      <td>Manager</td>\n",
       "      <td>Jan-99</td>\n",
       "      <td>112540</td>\n",
       "      <td>2</td>\n",
       "    </tr>\n",
       "    <tr>\n",
       "      <th>2</th>\n",
       "      <td>Thomas Miller</td>\n",
       "      <td>30</td>\n",
       "      <td>Male</td>\n",
       "      <td>8</td>\n",
       "      <td>87</td>\n",
       "      <td>10</td>\n",
       "      <td>2.4</td>\n",
       "      <td>IT</td>\n",
       "      <td>Analyst</td>\n",
       "      <td>Jan-17</td>\n",
       "      <td>66292</td>\n",
       "      <td>1</td>\n",
       "    </tr>\n",
       "    <tr>\n",
       "      <th>3</th>\n",
       "      <td>Joshua Lewis</td>\n",
       "      <td>26</td>\n",
       "      <td>Female</td>\n",
       "      <td>1</td>\n",
       "      <td>53</td>\n",
       "      <td>4</td>\n",
       "      <td>1.4</td>\n",
       "      <td>Marketing</td>\n",
       "      <td>Intern</td>\n",
       "      <td>Jan-22</td>\n",
       "      <td>38303</td>\n",
       "      <td>1</td>\n",
       "    </tr>\n",
       "    <tr>\n",
       "      <th>4</th>\n",
       "      <td>Stephanie Bailey</td>\n",
       "      <td>43</td>\n",
       "      <td>Male</td>\n",
       "      <td>14</td>\n",
       "      <td>3</td>\n",
       "      <td>9</td>\n",
       "      <td>4.5</td>\n",
       "      <td>IT</td>\n",
       "      <td>Team Lead</td>\n",
       "      <td>Jan-05</td>\n",
       "      <td>101133</td>\n",
       "      <td>0</td>\n",
       "    </tr>\n",
       "    <tr>\n",
       "      <th>...</th>\n",
       "      <td>...</td>\n",
       "      <td>...</td>\n",
       "      <td>...</td>\n",
       "      <td>...</td>\n",
       "      <td>...</td>\n",
       "      <td>...</td>\n",
       "      <td>...</td>\n",
       "      <td>...</td>\n",
       "      <td>...</td>\n",
       "      <td>...</td>\n",
       "      <td>...</td>\n",
       "      <td>...</td>\n",
       "    </tr>\n",
       "    <tr>\n",
       "      <th>195</th>\n",
       "      <td>Stephanie Fisher</td>\n",
       "      <td>29</td>\n",
       "      <td>Female</td>\n",
       "      <td>9</td>\n",
       "      <td>32</td>\n",
       "      <td>87</td>\n",
       "      <td>3.5</td>\n",
       "      <td>HR</td>\n",
       "      <td>Junior Developer</td>\n",
       "      <td>Jan-19</td>\n",
       "      <td>50051</td>\n",
       "      <td>1</td>\n",
       "    </tr>\n",
       "    <tr>\n",
       "      <th>196</th>\n",
       "      <td>Jeremy Miller</td>\n",
       "      <td>26</td>\n",
       "      <td>Male</td>\n",
       "      <td>7</td>\n",
       "      <td>45</td>\n",
       "      <td>28</td>\n",
       "      <td>2.8</td>\n",
       "      <td>IT</td>\n",
       "      <td>Junior Developer</td>\n",
       "      <td>Jan-21</td>\n",
       "      <td>46612</td>\n",
       "      <td>1</td>\n",
       "    </tr>\n",
       "    <tr>\n",
       "      <th>197</th>\n",
       "      <td>Daniel Pierce</td>\n",
       "      <td>22</td>\n",
       "      <td>Male</td>\n",
       "      <td>3</td>\n",
       "      <td>36</td>\n",
       "      <td>77</td>\n",
       "      <td>1.6</td>\n",
       "      <td>Finance</td>\n",
       "      <td>Intern</td>\n",
       "      <td>Jan-21</td>\n",
       "      <td>32992</td>\n",
       "      <td>1</td>\n",
       "    </tr>\n",
       "    <tr>\n",
       "      <th>198</th>\n",
       "      <td>Michael Hernandez</td>\n",
       "      <td>36</td>\n",
       "      <td>Female</td>\n",
       "      <td>23</td>\n",
       "      <td>96</td>\n",
       "      <td>50</td>\n",
       "      <td>3.4</td>\n",
       "      <td>Marketing</td>\n",
       "      <td>Manager</td>\n",
       "      <td>Jan-05</td>\n",
       "      <td>104216</td>\n",
       "      <td>0</td>\n",
       "    </tr>\n",
       "    <tr>\n",
       "      <th>199</th>\n",
       "      <td>Victor Gutierrez</td>\n",
       "      <td>43</td>\n",
       "      <td>Male</td>\n",
       "      <td>10</td>\n",
       "      <td>86</td>\n",
       "      <td>71</td>\n",
       "      <td>2.0</td>\n",
       "      <td>IT</td>\n",
       "      <td>Team Lead</td>\n",
       "      <td>Jan-14</td>\n",
       "      <td>104341</td>\n",
       "      <td>0</td>\n",
       "    </tr>\n",
       "  </tbody>\n",
       "</table>\n",
       "<p>200 rows × 12 columns</p>\n",
       "</div>"
      ],
      "text/plain": [
       "                  Name  Age  Gender  Projects Completed  Productivity (%)  \\\n",
       "0      Douglas Lindsey   25    Male                  11                57   \n",
       "1     Anthony Roberson   59  Female                  19                55   \n",
       "2        Thomas Miller   30    Male                   8                87   \n",
       "3         Joshua Lewis   26  Female                   1                53   \n",
       "4     Stephanie Bailey   43    Male                  14                 3   \n",
       "..                 ...  ...     ...                 ...               ...   \n",
       "195   Stephanie Fisher   29  Female                   9                32   \n",
       "196      Jeremy Miller   26    Male                   7                45   \n",
       "197      Daniel Pierce   22    Male                   3                36   \n",
       "198  Michael Hernandez   36  Female                  23                96   \n",
       "199   Victor Gutierrez   43    Male                  10                86   \n",
       "\n",
       "     Satisfaction Rate (%)  Feedback Score Department          Position  \\\n",
       "0                       25             4.7  Marketing           Analyst   \n",
       "1                       76             2.8         IT           Manager   \n",
       "2                       10             2.4         IT           Analyst   \n",
       "3                        4             1.4  Marketing            Intern   \n",
       "4                        9             4.5         IT         Team Lead   \n",
       "..                     ...             ...        ...               ...   \n",
       "195                     87             3.5         HR  Junior Developer   \n",
       "196                     28             2.8         IT  Junior Developer   \n",
       "197                     77             1.6    Finance            Intern   \n",
       "198                     50             3.4  Marketing           Manager   \n",
       "199                     71             2.0         IT         Team Lead   \n",
       "\n",
       "    Joining Date  Salary  cluster  \n",
       "0         Jan-20   63596        1  \n",
       "1         Jan-99  112540        2  \n",
       "2         Jan-17   66292        1  \n",
       "3         Jan-22   38303        1  \n",
       "4         Jan-05  101133        0  \n",
       "..           ...     ...      ...  \n",
       "195       Jan-19   50051        1  \n",
       "196       Jan-21   46612        1  \n",
       "197       Jan-21   32992        1  \n",
       "198       Jan-05  104216        0  \n",
       "199       Jan-14  104341        0  \n",
       "\n",
       "[200 rows x 12 columns]"
      ]
     },
     "execution_count": 10,
     "metadata": {},
     "output_type": "execute_result"
    }
   ],
   "source": [
    "hr_df[\"cluster\"]= y_predicted# append the predicted to the dataframe\n",
    "hr_df"
   ]
  },
  {
   "cell_type": "markdown",
   "id": "5bea307f",
   "metadata": {},
   "source": [
    "# Separate dataframes from one cluster "
   ]
  },
  {
   "cell_type": "code",
   "execution_count": 11,
   "id": "dc87c333",
   "metadata": {},
   "outputs": [
    {
     "name": "stderr",
     "output_type": "stream",
     "text": [
      "No artists with labels found to put in legend.  Note that artists whose label start with an underscore are ignored when legend() is called with no argument.\n"
     ]
    },
    {
     "data": {
      "text/plain": [
       "<matplotlib.legend.Legend at 0x20b18a7a850>"
      ]
     },
     "execution_count": 11,
     "metadata": {},
     "output_type": "execute_result"
    },
    {
     "data": {
      "image/png": "[encoded data removed]",
      "text/plain": [
       "<Figure size 640x480 with 1 Axes>"
      ]
     },
     "metadata": {},
     "output_type": "display_data"
    }
   ],
   "source": [
    "df1 = hr_df[hr_df.cluster == 0]\n",
    "df2 = hr_df[hr_df.cluster == 1]#three different dataframes\n",
    "df3 = hr_df[hr_df.cluster == 2]\n",
    "\n",
    "plt.scatter(df1.Age, df1['Projects Completed'], color = \"blue\")\n",
    "plt.scatter(df2.Age, df2['Projects Completed'], color = \"green\")#plot them with different colors\n",
    "plt.scatter(df3.Age, df3['Projects Completed'], color = \"black\")\n",
    "\n",
    "plt.xlabel(\"Age\")\n",
    "plt.ylabel(\"Projects Completed\")\n",
    "plt.legend()"
   ]
  },
  {
   "cell_type": "markdown",
   "id": "96f6f553",
   "metadata": {},
   "source": [
    "# Create scaler"
   ]
  },
  {
   "cell_type": "code",
   "execution_count": 20,
   "id": "61e9f626",
   "metadata": {},
   "outputs": [],
   "source": [
    "scaler = MinMaxScaler() #Transform features by scaling each feature to a given range\n",
    "scaler.fit(hr_df[[\"Projects Completed\"]])\n",
    "hr_df[[\"Projects Completed\"]] = scaler.transform(hr_df[[\"Projects Completed\"]])\n",
    "hr_df\n",
    "\n",
    "scaler.fit(hr_df[[\"Age\"]])\n",
    "hr_df[[\"Age\"]] = scaler.transform(hr_df[[\"Age\"]])"
   ]
  },
  {
   "cell_type": "code",
   "execution_count": 13,
   "id": "0f5beb08",
   "metadata": {},
   "outputs": [
    {
     "name": "stderr",
     "output_type": "stream",
     "text": [
      "C:\\Users\\ATARA\\anaconda3\\Lib\\site-packages\\sklearn\\cluster\\_kmeans.py:1412: FutureWarning: The default value of `n_init` will change from 10 to 'auto' in 1.4. Set the value of `n_init` explicitly to suppress the warning\n",
      "  super()._check_params_vs_input(X, default_n_init=10)\n",
      "C:\\Users\\ATARA\\anaconda3\\Lib\\site-packages\\sklearn\\cluster\\_kmeans.py:1436: UserWarning: KMeans is known to have a memory leak on Windows with MKL, when there are less chunks than available threads. You can avoid it by setting the environment variable OMP_NUM_THREADS=1.\n",
      "  warnings.warn(\n"
     ]
    },
    {
     "data": {
      "text/plain": [
       "array([1, 2, 1, 1, 0, 1, 0, 1, 1, 0, 0, 2, 1, 0, 0, 0, 2, 0, 0, 1, 1, 1,\n",
       "       1, 1, 2, 1, 0, 0, 0, 1, 1, 1, 1, 1, 0, 0, 0, 2, 2, 0, 0, 1, 0, 1,\n",
       "       1, 1, 1, 0, 1, 0, 1, 0, 1, 0, 0, 0, 1, 0, 2, 1, 1, 0, 1, 2, 0, 1,\n",
       "       1, 0, 0, 1, 0, 0, 1, 0, 1, 0, 1, 1, 2, 1, 2, 0, 0, 2, 2, 2, 1, 2,\n",
       "       1, 0, 1, 1, 1, 0, 1, 1, 2, 2, 1, 2, 0, 1, 0, 2, 1, 0, 0, 2, 1, 1,\n",
       "       2, 1, 1, 1, 2, 0, 1, 2, 1, 2, 1, 2, 1, 1, 0, 0, 1, 1, 0, 0, 1, 1,\n",
       "       2, 2, 1, 0, 2, 1, 2, 1, 2, 2, 2, 0, 2, 0, 1, 0, 1, 1, 0, 0, 1, 0,\n",
       "       1, 1, 1, 1, 2, 0, 0, 1, 1, 0, 1, 1, 2, 2, 1, 1, 2, 1, 2, 0, 0, 1,\n",
       "       0, 2, 2, 1, 1, 0, 0, 1, 0, 0, 0, 0, 1, 1, 0, 0, 1, 0, 1, 1, 1, 1,\n",
       "       0, 0])"
      ]
     },
     "execution_count": 13,
     "metadata": {},
     "output_type": "execute_result"
    }
   ],
   "source": [
    "km = KMeans(n_clusters = 3)\n",
    "y_predicted = km.fit_predict(hr_df[[\"Age\", \"Projects Completed\"]])\n",
    "y_predicted"
   ]
  },
  {
   "cell_type": "code",
   "execution_count": 14,
   "id": "5f94183c",
   "metadata": {},
   "outputs": [
    {
     "data": {
      "text/html": [
       "<div>\n",
       "<style scoped>\n",
       "    .dataframe tbody tr th:only-of-type {\n",
       "        vertical-align: middle;\n",
       "    }\n",
       "\n",
       "    .dataframe tbody tr th {\n",
       "        vertical-align: top;\n",
       "    }\n",
       "\n",
       "    .dataframe thead th {\n",
       "        text-align: right;\n",
       "    }\n",
       "</style>\n",
       "<table border=\"1\" class=\"dataframe\">\n",
       "  <thead>\n",
       "    <tr style=\"text-align: right;\">\n",
       "      <th></th>\n",
       "      <th>Name</th>\n",
       "      <th>Age</th>\n",
       "      <th>Gender</th>\n",
       "      <th>Projects Completed</th>\n",
       "      <th>Productivity (%)</th>\n",
       "      <th>Satisfaction Rate (%)</th>\n",
       "      <th>Feedback Score</th>\n",
       "      <th>Department</th>\n",
       "      <th>Position</th>\n",
       "      <th>Joining Date</th>\n",
       "      <th>Salary</th>\n",
       "      <th>cluster</th>\n",
       "    </tr>\n",
       "  </thead>\n",
       "  <tbody>\n",
       "    <tr>\n",
       "      <th>0</th>\n",
       "      <td>Douglas Lindsey</td>\n",
       "      <td>0.078947</td>\n",
       "      <td>Male</td>\n",
       "      <td>0.44</td>\n",
       "      <td>57</td>\n",
       "      <td>25</td>\n",
       "      <td>4.7</td>\n",
       "      <td>Marketing</td>\n",
       "      <td>Analyst</td>\n",
       "      <td>Jan-20</td>\n",
       "      <td>63596</td>\n",
       "      <td>1</td>\n",
       "    </tr>\n",
       "    <tr>\n",
       "      <th>1</th>\n",
       "      <td>Anthony Roberson</td>\n",
       "      <td>0.973684</td>\n",
       "      <td>Female</td>\n",
       "      <td>0.76</td>\n",
       "      <td>55</td>\n",
       "      <td>76</td>\n",
       "      <td>2.8</td>\n",
       "      <td>IT</td>\n",
       "      <td>Manager</td>\n",
       "      <td>Jan-99</td>\n",
       "      <td>112540</td>\n",
       "      <td>2</td>\n",
       "    </tr>\n",
       "    <tr>\n",
       "      <th>2</th>\n",
       "      <td>Thomas Miller</td>\n",
       "      <td>0.210526</td>\n",
       "      <td>Male</td>\n",
       "      <td>0.32</td>\n",
       "      <td>87</td>\n",
       "      <td>10</td>\n",
       "      <td>2.4</td>\n",
       "      <td>IT</td>\n",
       "      <td>Analyst</td>\n",
       "      <td>Jan-17</td>\n",
       "      <td>66292</td>\n",
       "      <td>1</td>\n",
       "    </tr>\n",
       "    <tr>\n",
       "      <th>3</th>\n",
       "      <td>Joshua Lewis</td>\n",
       "      <td>0.105263</td>\n",
       "      <td>Female</td>\n",
       "      <td>0.04</td>\n",
       "      <td>53</td>\n",
       "      <td>4</td>\n",
       "      <td>1.4</td>\n",
       "      <td>Marketing</td>\n",
       "      <td>Intern</td>\n",
       "      <td>Jan-22</td>\n",
       "      <td>38303</td>\n",
       "      <td>1</td>\n",
       "    </tr>\n",
       "    <tr>\n",
       "      <th>4</th>\n",
       "      <td>Stephanie Bailey</td>\n",
       "      <td>0.552632</td>\n",
       "      <td>Male</td>\n",
       "      <td>0.56</td>\n",
       "      <td>3</td>\n",
       "      <td>9</td>\n",
       "      <td>4.5</td>\n",
       "      <td>IT</td>\n",
       "      <td>Team Lead</td>\n",
       "      <td>Jan-05</td>\n",
       "      <td>101133</td>\n",
       "      <td>0</td>\n",
       "    </tr>\n",
       "  </tbody>\n",
       "</table>\n",
       "</div>"
      ],
      "text/plain": [
       "               Name       Age  Gender  Projects Completed  Productivity (%)  \\\n",
       "0   Douglas Lindsey  0.078947    Male                0.44                57   \n",
       "1  Anthony Roberson  0.973684  Female                0.76                55   \n",
       "2     Thomas Miller  0.210526    Male                0.32                87   \n",
       "3      Joshua Lewis  0.105263  Female                0.04                53   \n",
       "4  Stephanie Bailey  0.552632    Male                0.56                 3   \n",
       "\n",
       "   Satisfaction Rate (%)  Feedback Score Department   Position Joining Date  \\\n",
       "0                     25             4.7  Marketing    Analyst       Jan-20   \n",
       "1                     76             2.8         IT    Manager       Jan-99   \n",
       "2                     10             2.4         IT    Analyst       Jan-17   \n",
       "3                      4             1.4  Marketing     Intern       Jan-22   \n",
       "4                      9             4.5         IT  Team Lead       Jan-05   \n",
       "\n",
       "   Salary  cluster  \n",
       "0   63596        1  \n",
       "1  112540        2  \n",
       "2   66292        1  \n",
       "3   38303        1  \n",
       "4  101133        0  "
      ]
     },
     "execution_count": 14,
     "metadata": {},
     "output_type": "execute_result"
    }
   ],
   "source": [
    "hr_df[\"cluster\"] = y_predicted\n",
    "hr_df.head()"
   ]
  },
  {
   "cell_type": "code",
   "execution_count": 15,
   "id": "cb17dea0",
   "metadata": {},
   "outputs": [
    {
     "data": {
      "text/plain": [
       "array([[0.38909774, 0.57885714],\n",
       "       [0.11683054, 0.22857143],\n",
       "       [0.73616734, 0.7774359 ]])"
      ]
     },
     "execution_count": 15,
     "metadata": {},
     "output_type": "execute_result"
    }
   ],
   "source": [
    "km.cluster_centers_"
   ]
  },
  {
   "cell_type": "code",
   "execution_count": 16,
   "id": "056f28f8",
   "metadata": {},
   "outputs": [
    {
     "name": "stderr",
     "output_type": "stream",
     "text": [
      "No artists with labels found to put in legend.  Note that artists whose label start with an underscore are ignored when legend() is called with no argument.\n"
     ]
    },
    {
     "data": {
      "text/plain": [
       "<matplotlib.legend.Legend at 0x20b18b7e610>"
      ]
     },
     "execution_count": 16,
     "metadata": {},
     "output_type": "execute_result"
    },
    {
     "data": {
      "image/png": "[encoded data removed]",
      "text/plain": [
       "<Figure size 640x480 with 1 Axes>"
      ]
     },
     "metadata": {},
     "output_type": "display_data"
    }
   ],
   "source": [
    "#separate dataframes from one cluster\n",
    "df1 = hr_df[hr_df.cluster == 0]\n",
    "df2 = hr_df[hr_df.cluster == 1]#three different dataframes\n",
    "df3 = hr_df[hr_df.cluster == 2]\n",
    "\n",
    "plt.scatter(df1.Age, df1['Projects Completed'], color = \"blue\")\n",
    "plt.scatter(df2.Age, df2['Projects Completed'], color = \"green\")#plot them with different colors\n",
    "plt.scatter(df3.Age, df3['Projects Completed'], color = \"black\")\n",
    "plt.scatter(km.cluster_centers_[:,0],km.cluster_centers_[:,1], color = \"red\", marker = \"*\")\n",
    "plt.legend()"
   ]
  },
  {
   "cell_type": "markdown",
   "id": "9f7eaa0b",
   "metadata": {},
   "source": [
    "# Elbow plot method"
   ]
  },
  {
   "cell_type": "code",
   "execution_count": 17,
   "id": "368b545d",
   "metadata": {},
   "outputs": [
    {
     "name": "stderr",
     "output_type": "stream",
     "text": [
      "C:\\Users\\ATARA\\anaconda3\\Lib\\site-packages\\sklearn\\cluster\\_kmeans.py:1412: FutureWarning: The default value of `n_init` will change from 10 to 'auto' in 1.4. Set the value of `n_init` explicitly to suppress the warning\n",
      "  super()._check_params_vs_input(X, default_n_init=10)\n",
      "C:\\Users\\ATARA\\anaconda3\\Lib\\site-packages\\sklearn\\cluster\\_kmeans.py:1436: UserWarning: KMeans is known to have a memory leak on Windows with MKL, when there are less chunks than available threads. You can avoid it by setting the environment variable OMP_NUM_THREADS=1.\n",
      "  warnings.warn(\n",
      "C:\\Users\\ATARA\\anaconda3\\Lib\\site-packages\\sklearn\\cluster\\_kmeans.py:1412: FutureWarning: The default value of `n_init` will change from 10 to 'auto' in 1.4. Set the value of `n_init` explicitly to suppress the warning\n",
      "  super()._check_params_vs_input(X, default_n_init=10)\n",
      "C:\\Users\\ATARA\\anaconda3\\Lib\\site-packages\\sklearn\\cluster\\_kmeans.py:1436: UserWarning: KMeans is known to have a memory leak on Windows with MKL, when there are less chunks than available threads. You can avoid it by setting the environment variable OMP_NUM_THREADS=1.\n",
      "  warnings.warn(\n",
      "C:\\Users\\ATARA\\anaconda3\\Lib\\site-packages\\sklearn\\cluster\\_kmeans.py:1412: FutureWarning: The default value of `n_init` will change from 10 to 'auto' in 1.4. Set the value of `n_init` explicitly to suppress the warning\n",
      "  super()._check_params_vs_input(X, default_n_init=10)\n",
      "C:\\Users\\ATARA\\anaconda3\\Lib\\site-packages\\sklearn\\cluster\\_kmeans.py:1436: UserWarning: KMeans is known to have a memory leak on Windows with MKL, when there are less chunks than available threads. You can avoid it by setting the environment variable OMP_NUM_THREADS=1.\n",
      "  warnings.warn(\n",
      "C:\\Users\\ATARA\\anaconda3\\Lib\\site-packages\\sklearn\\cluster\\_kmeans.py:1412: FutureWarning: The default value of `n_init` will change from 10 to 'auto' in 1.4. Set the value of `n_init` explicitly to suppress the warning\n",
      "  super()._check_params_vs_input(X, default_n_init=10)\n",
      "C:\\Users\\ATARA\\anaconda3\\Lib\\site-packages\\sklearn\\cluster\\_kmeans.py:1436: UserWarning: KMeans is known to have a memory leak on Windows with MKL, when there are less chunks than available threads. You can avoid it by setting the environment variable OMP_NUM_THREADS=1.\n",
      "  warnings.warn(\n",
      "C:\\Users\\ATARA\\anaconda3\\Lib\\site-packages\\sklearn\\cluster\\_kmeans.py:1412: FutureWarning: The default value of `n_init` will change from 10 to 'auto' in 1.4. Set the value of `n_init` explicitly to suppress the warning\n",
      "  super()._check_params_vs_input(X, default_n_init=10)\n",
      "C:\\Users\\ATARA\\anaconda3\\Lib\\site-packages\\sklearn\\cluster\\_kmeans.py:1436: UserWarning: KMeans is known to have a memory leak on Windows with MKL, when there are less chunks than available threads. You can avoid it by setting the environment variable OMP_NUM_THREADS=1.\n",
      "  warnings.warn(\n",
      "C:\\Users\\ATARA\\anaconda3\\Lib\\site-packages\\sklearn\\cluster\\_kmeans.py:1412: FutureWarning: The default value of `n_init` will change from 10 to 'auto' in 1.4. Set the value of `n_init` explicitly to suppress the warning\n",
      "  super()._check_params_vs_input(X, default_n_init=10)\n",
      "C:\\Users\\ATARA\\anaconda3\\Lib\\site-packages\\sklearn\\cluster\\_kmeans.py:1436: UserWarning: KMeans is known to have a memory leak on Windows with MKL, when there are less chunks than available threads. You can avoid it by setting the environment variable OMP_NUM_THREADS=1.\n",
      "  warnings.warn(\n",
      "C:\\Users\\ATARA\\anaconda3\\Lib\\site-packages\\sklearn\\cluster\\_kmeans.py:1412: FutureWarning: The default value of `n_init` will change from 10 to 'auto' in 1.4. Set the value of `n_init` explicitly to suppress the warning\n",
      "  super()._check_params_vs_input(X, default_n_init=10)\n",
      "C:\\Users\\ATARA\\anaconda3\\Lib\\site-packages\\sklearn\\cluster\\_kmeans.py:1436: UserWarning: KMeans is known to have a memory leak on Windows with MKL, when there are less chunks than available threads. You can avoid it by setting the environment variable OMP_NUM_THREADS=1.\n",
      "  warnings.warn(\n",
      "C:\\Users\\ATARA\\anaconda3\\Lib\\site-packages\\sklearn\\cluster\\_kmeans.py:1412: FutureWarning: The default value of `n_init` will change from 10 to 'auto' in 1.4. Set the value of `n_init` explicitly to suppress the warning\n",
      "  super()._check_params_vs_input(X, default_n_init=10)\n",
      "C:\\Users\\ATARA\\anaconda3\\Lib\\site-packages\\sklearn\\cluster\\_kmeans.py:1436: UserWarning: KMeans is known to have a memory leak on Windows with MKL, when there are less chunks than available threads. You can avoid it by setting the environment variable OMP_NUM_THREADS=1.\n",
      "  warnings.warn(\n",
      "C:\\Users\\ATARA\\anaconda3\\Lib\\site-packages\\sklearn\\cluster\\_kmeans.py:1412: FutureWarning: The default value of `n_init` will change from 10 to 'auto' in 1.4. Set the value of `n_init` explicitly to suppress the warning\n",
      "  super()._check_params_vs_input(X, default_n_init=10)\n",
      "C:\\Users\\ATARA\\anaconda3\\Lib\\site-packages\\sklearn\\cluster\\_kmeans.py:1436: UserWarning: KMeans is known to have a memory leak on Windows with MKL, when there are less chunks than available threads. You can avoid it by setting the environment variable OMP_NUM_THREADS=1.\n",
      "  warnings.warn(\n"
     ]
    }
   ],
   "source": [
    "k_range = range(1, 10)\n",
    "sse = []\n",
    "for k in k_range:\n",
    "    km = KMeans(n_clusters = k)\n",
    "    km.fit(hr_df[['Age', 'Projects Completed']])\n",
    "    sse.append(km.inertia_)# get sum of square error"
   ]
  },
  {
   "cell_type": "code",
   "execution_count": 18,
   "id": "74b22d91",
   "metadata": {},
   "outputs": [
    {
     "data": {
      "text/plain": [
       "[26.305937595567855,\n",
       " 9.385201153910405,\n",
       " 5.702094463283714,\n",
       " 4.483021566029761,\n",
       " 3.3413109617355476,\n",
       " 2.5752918229011357,\n",
       " 2.1087033373753794,\n",
       " 1.8232368846496894,\n",
       " 1.5761863234225673]"
      ]
     },
     "execution_count": 18,
     "metadata": {},
     "output_type": "execute_result"
    }
   ],
   "source": [
    "sse"
   ]
  },
  {
   "cell_type": "code",
   "execution_count": 19,
   "id": "5623af7c",
   "metadata": {},
   "outputs": [
    {
     "data": {
      "text/plain": [
       "[<matplotlib.lines.Line2D at 0x20b18b9bbd0>]"
      ]
     },
     "execution_count": 19,
     "metadata": {},
     "output_type": "execute_result"
    },
    {
     "data": {
      "image/png": "[encoded data removed]",
      "text/plain": [
       "<Figure size 640x480 with 1 Axes>"
      ]
     },
     "metadata": {},
     "output_type": "display_data"
    }
   ],
   "source": [
    "plt.xlabel(\"k\")\n",
    "plt.ylabel(\"Sum of Square Error\")\n",
    "plt.plot(k_range, sse)"
   ]
  },
  {
   "cell_type": "code",
   "execution_count": null,
   "id": "e2a8f42e",
   "metadata": {},
   "outputs": [],
   "source": []
  }
 ],
 "metadata": {
  "kernelspec": {
   "display_name": "Python 3 (ipykernel)",
   "language": "python",
   "name": "python3"
  },
  "language_info": {
   "codemirror_mode": {
    "name": "ipython",
    "version": 3
   },
   "file_extension": ".py",
   "mimetype": "text/x-python",
   "name": "python",
   "nbconvert_exporter": "python",
   "pygments_lexer": "ipython3",
   "version": "3.11.3"
  }
 },
 "nbformat": 4,
 "nbformat_minor": 5
}
