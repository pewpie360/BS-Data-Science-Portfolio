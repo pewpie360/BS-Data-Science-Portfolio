{
 "cells": [
  {
   "cell_type": "markdown",
   "id": "65720b5f",
   "metadata": {},
   "source": [
    "Instructor: Jhun Brian M. Andam </br>\n",
    "Course: DS312 - Data Mining and Application\n",
    "\n",
    "Name: `Christian Jay Baguio`</br>"
   ]
  },
  {
   "cell_type": "markdown",
   "id": "8455bcff",
   "metadata": {},
   "source": [
    "# About the Data"
   ]
  },
  {
   "cell_type": "markdown",
   "id": "c53fd139",
   "metadata": {},
   "source": [
    "#### Context\n",
    "Collection of Facebook spam-legit profile and content-based data. It can be used for classification tasks.\n",
    "\n",
    "#### Content\n",
    "The dataset can be used for building machine learning models. To collect the dataset, Facebook API and Facebook Graph API are used and the data is collected from public profiles. There are 500 legit profiles and 100 spam profiles. The list of features is as follows with Label (0-legit, 1-spam).\n",
    "\n",
    "1. Number of friends\n",
    "2. Number of followings\n",
    "3. Number of Community\n",
    "4. The age of the user account (in days)\n",
    "5. Total number of posts shared\n",
    "6. Total number of URLs shared\n",
    "7. Total number of photos/videos shared\n",
    "8. Fraction of the posts containing URLs\n",
    "9. Fraction of the posts containing photos/videos\n",
    "10. Average number of comments per post\n",
    "11. Average number of likes per post\n",
    "12. Average number of tags in a post (Rate of tagging)\n",
    "13. Average number of hashtags present in a post\n",
    "#### Inspiration\n",
    "Dataset helps the community to understand how features can help to differ Facebook legit users from spam users. "
   ]
  },
  {
   "cell_type": "markdown",
   "id": "ec300cd5",
   "metadata": {},
   "source": [
    "# Imports"
   ]
  },
  {
   "cell_type": "code",
   "execution_count": 43,
   "id": "917454f3",
   "metadata": {},
   "outputs": [],
   "source": [
    "import numpy as np\n",
    "import pandas as pd\n",
    "import matplotlib.pyplot as plt\n",
    "import seaborn as sns\n",
    "\n",
    "from sklearn.neighbors import KNeighborsClassifier\n",
    "from sklearn.model_selection import train_test_split as tts\n",
    "from sklearn.neighbors import KNeighborsClassifier\n",
    "from sklearn.metrics import accuracy_score\n",
    "from sklearn.metrics import roc_curve, roc_auc_score\n",
    "sns.set_theme(font='Times New Roman')"
   ]
  },
  {
   "cell_type": "code",
   "execution_count": 3,
   "id": "79270477",
   "metadata": {},
   "outputs": [
    {
     "data": {
      "text/html": [
       "<div>\n",
       "<style scoped>\n",
       "    .dataframe tbody tr th:only-of-type {\n",
       "        vertical-align: middle;\n",
       "    }\n",
       "\n",
       "    .dataframe tbody tr th {\n",
       "        vertical-align: top;\n",
       "    }\n",
       "\n",
       "    .dataframe thead th {\n",
       "        text-align: right;\n",
       "    }\n",
       "</style>\n",
       "<table border=\"1\" class=\"dataframe\">\n",
       "  <thead>\n",
       "    <tr style=\"text-align: right;\">\n",
       "      <th></th>\n",
       "      <th>profile id</th>\n",
       "      <th>#friends</th>\n",
       "      <th>#following</th>\n",
       "      <th>#community</th>\n",
       "      <th>age</th>\n",
       "      <th>#postshared</th>\n",
       "      <th>#urlshared</th>\n",
       "      <th>#photos/videos</th>\n",
       "      <th>fpurls</th>\n",
       "      <th>fpphotos/videos</th>\n",
       "      <th>avgcomment/post</th>\n",
       "      <th>likes/post</th>\n",
       "      <th>tags/post</th>\n",
       "      <th>#tags/post</th>\n",
       "      <th>Label</th>\n",
       "    </tr>\n",
       "  </thead>\n",
       "  <tbody>\n",
       "    <tr>\n",
       "      <th>0</th>\n",
       "      <td>1</td>\n",
       "      <td>39</td>\n",
       "      <td>300</td>\n",
       "      <td>907</td>\n",
       "      <td>200</td>\n",
       "      <td>1000</td>\n",
       "      <td>850</td>\n",
       "      <td>922</td>\n",
       "      <td>0.490000</td>\n",
       "      <td>0.550000</td>\n",
       "      <td>0.56</td>\n",
       "      <td>0.47</td>\n",
       "      <td>40</td>\n",
       "      <td>14</td>\n",
       "      <td>1</td>\n",
       "    </tr>\n",
       "    <tr>\n",
       "      <th>1</th>\n",
       "      <td>2</td>\n",
       "      <td>150</td>\n",
       "      <td>350</td>\n",
       "      <td>30</td>\n",
       "      <td>300</td>\n",
       "      <td>300</td>\n",
       "      <td>100</td>\n",
       "      <td>290</td>\n",
       "      <td>0.330000</td>\n",
       "      <td>0.960000</td>\n",
       "      <td>0.50</td>\n",
       "      <td>1.20</td>\n",
       "      <td>10</td>\n",
       "      <td>4</td>\n",
       "      <td>0</td>\n",
       "    </tr>\n",
       "    <tr>\n",
       "      <th>2</th>\n",
       "      <td>3</td>\n",
       "      <td>300</td>\n",
       "      <td>450</td>\n",
       "      <td>50</td>\n",
       "      <td>465</td>\n",
       "      <td>500</td>\n",
       "      <td>150</td>\n",
       "      <td>450</td>\n",
       "      <td>0.200000</td>\n",
       "      <td>0.840000</td>\n",
       "      <td>0.40</td>\n",
       "      <td>1.50</td>\n",
       "      <td>15</td>\n",
       "      <td>7</td>\n",
       "      <td>0</td>\n",
       "    </tr>\n",
       "    <tr>\n",
       "      <th>3</th>\n",
       "      <td>4</td>\n",
       "      <td>25</td>\n",
       "      <td>110</td>\n",
       "      <td>660</td>\n",
       "      <td>350</td>\n",
       "      <td>2050</td>\n",
       "      <td>2000</td>\n",
       "      <td>2050</td>\n",
       "      <td>0.975610</td>\n",
       "      <td>1.000000</td>\n",
       "      <td>0.70</td>\n",
       "      <td>0.30</td>\n",
       "      <td>54</td>\n",
       "      <td>21</td>\n",
       "      <td>1</td>\n",
       "    </tr>\n",
       "    <tr>\n",
       "      <th>4</th>\n",
       "      <td>5</td>\n",
       "      <td>24</td>\n",
       "      <td>100</td>\n",
       "      <td>150</td>\n",
       "      <td>800</td>\n",
       "      <td>950</td>\n",
       "      <td>1000</td>\n",
       "      <td>900</td>\n",
       "      <td>1.052632</td>\n",
       "      <td>0.947368</td>\n",
       "      <td>0.66</td>\n",
       "      <td>0.50</td>\n",
       "      <td>55</td>\n",
       "      <td>20</td>\n",
       "      <td>1</td>\n",
       "    </tr>\n",
       "  </tbody>\n",
       "</table>\n",
       "</div>"
      ],
      "text/plain": [
       "   profile id  #friends  #following  #community  age  #postshared  #urlshared  \\\n",
       "0           1        39         300         907  200         1000         850   \n",
       "1           2       150         350          30  300          300         100   \n",
       "2           3       300         450          50  465          500         150   \n",
       "3           4        25         110         660  350         2050        2000   \n",
       "4           5        24         100         150  800          950        1000   \n",
       "\n",
       "   #photos/videos    fpurls  fpphotos/videos  avgcomment/post  likes/post  \\\n",
       "0             922  0.490000         0.550000             0.56        0.47   \n",
       "1             290  0.330000         0.960000             0.50        1.20   \n",
       "2             450  0.200000         0.840000             0.40        1.50   \n",
       "3            2050  0.975610         1.000000             0.70        0.30   \n",
       "4             900  1.052632         0.947368             0.66        0.50   \n",
       "\n",
       "   tags/post  #tags/post  Label  \n",
       "0         40          14      1  \n",
       "1         10           4      0  \n",
       "2         15           7      0  \n",
       "3         54          21      1  \n",
       "4         55          20      1  "
      ]
     },
     "execution_count": 3,
     "metadata": {},
     "output_type": "execute_result"
    }
   ],
   "source": [
    "data = pd.read_csv('Facebook Spam Dataset.csv')\n",
    "data.head()"
   ]
  },
  {
   "cell_type": "code",
   "execution_count": 11,
   "id": "f4d2f99c",
   "metadata": {},
   "outputs": [
    {
     "data": {
      "text/plain": [
       "profile id         0\n",
       "#friends           0\n",
       "#following         0\n",
       "#community         0\n",
       "age                0\n",
       "#postshared        0\n",
       "#urlshared         0\n",
       "#photos/videos     0\n",
       "fpurls             0\n",
       "fpphotos/videos    0\n",
       "avgcomment/post    0\n",
       "likes/post         0\n",
       "tags/post          0\n",
       "#tags/post         0\n",
       "Label              0\n",
       "dtype: int64"
      ]
     },
     "execution_count": 11,
     "metadata": {},
     "output_type": "execute_result"
    }
   ],
   "source": [
    "data.isna().sum()"
   ]
  },
  {
   "cell_type": "code",
   "execution_count": 6,
   "id": "94da05f3",
   "metadata": {},
   "outputs": [],
   "source": [
    "data = data.fillna(data.mean())"
   ]
  },
  {
   "cell_type": "code",
   "execution_count": 21,
   "id": "3a553edf",
   "metadata": {},
   "outputs": [
    {
     "data": {
      "text/plain": [
       "Index(['profile id', '#friends', '#following', '#community', 'age',\n",
       "       '#postshared', '#urlshared', '#photos/videos', 'fpurls',\n",
       "       'fpphotos/videos', 'avgcomment/post', 'likes/post', 'tags/post',\n",
       "       '#tags/post', 'Label'],\n",
       "      dtype='object')"
      ]
     },
     "execution_count": 21,
     "metadata": {},
     "output_type": "execute_result"
    }
   ],
   "source": [
    "data.columns"
   ]
  },
  {
   "cell_type": "markdown",
   "id": "e97246a7",
   "metadata": {},
   "source": [
    "1. Research the ROC-AUC metrics for classification, understand what this metric indicates, and identify when it is more appropriate as a performance indicator. </br>\n",
    "\n",
    "2. Try implementing the ROC-AUC metric on the Facebook accounts dataset."
   ]
  },
  {
   "cell_type": "code",
   "execution_count": 73,
   "id": "43e09c55",
   "metadata": {},
   "outputs": [],
   "source": [
    "train_size = 0.70\n",
    "\n",
    "# syntax: dataframe.iloc[all rows (:) until (len(holdout) * train_size) and all columns]\n",
    "train_data = data.iloc[:int(len(data) * train_size), :]\n",
    "\n",
    "# syntax: dataframe.iloc[last row element until (len(holdout) - len(train_data)) and all columns]\n",
    "test_data = data.iloc[-(len(data) - len(train_data)):, :]"
   ]
  },
  {
   "cell_type": "code",
   "execution_count": 74,
   "id": "d10c07da",
   "metadata": {},
   "outputs": [],
   "source": [
    "X_train, y_train = train_data.iloc[:, :-1], train_data['Label']\n",
    "X_test, y_test = test_data.iloc[:, :-1], test_data['Label']"
   ]
  },
  {
   "cell_type": "code",
   "execution_count": 75,
   "id": "cdb350b3",
   "metadata": {},
   "outputs": [
    {
     "data": {
      "text/html": [
       "<style>#sk-container-id-6 {color: black;}#sk-container-id-6 pre{padding: 0;}#sk-container-id-6 div.sk-toggleable {background-color: white;}#sk-container-id-6 label.sk-toggleable__label {cursor: pointer;display: block;width: 100%;margin-bottom: 0;padding: 0.3em;box-sizing: border-box;text-align: center;}#sk-container-id-6 label.sk-toggleable__label-arrow:before {content: \"▸\";float: left;margin-right: 0.25em;color: #696969;}#sk-container-id-6 label.sk-toggleable__label-arrow:hover:before {color: black;}#sk-container-id-6 div.sk-estimator:hover label.sk-toggleable__label-arrow:before {color: black;}#sk-container-id-6 div.sk-toggleable__content {max-height: 0;max-width: 0;overflow: hidden;text-align: left;background-color: #f0f8ff;}#sk-container-id-6 div.sk-toggleable__content pre {margin: 0.2em;color: black;border-radius: 0.25em;background-color: #f0f8ff;}#sk-container-id-6 input.sk-toggleable__control:checked~div.sk-toggleable__content {max-height: 200px;max-width: 100%;overflow: auto;}#sk-container-id-6 input.sk-toggleable__control:checked~label.sk-toggleable__label-arrow:before {content: \"▾\";}#sk-container-id-6 div.sk-estimator input.sk-toggleable__control:checked~label.sk-toggleable__label {background-color: #d4ebff;}#sk-container-id-6 div.sk-label input.sk-toggleable__control:checked~label.sk-toggleable__label {background-color: #d4ebff;}#sk-container-id-6 input.sk-hidden--visually {border: 0;clip: rect(1px 1px 1px 1px);clip: rect(1px, 1px, 1px, 1px);height: 1px;margin: -1px;overflow: hidden;padding: 0;position: absolute;width: 1px;}#sk-container-id-6 div.sk-estimator {font-family: monospace;background-color: #f0f8ff;border: 1px dotted black;border-radius: 0.25em;box-sizing: border-box;margin-bottom: 0.5em;}#sk-container-id-6 div.sk-estimator:hover {background-color: #d4ebff;}#sk-container-id-6 div.sk-parallel-item::after {content: \"\";width: 100%;border-bottom: 1px solid gray;flex-grow: 1;}#sk-container-id-6 div.sk-label:hover label.sk-toggleable__label {background-color: #d4ebff;}#sk-container-id-6 div.sk-serial::before {content: \"\";position: absolute;border-left: 1px solid gray;box-sizing: border-box;top: 0;bottom: 0;left: 50%;z-index: 0;}#sk-container-id-6 div.sk-serial {display: flex;flex-direction: column;align-items: center;background-color: white;padding-right: 0.2em;padding-left: 0.2em;position: relative;}#sk-container-id-6 div.sk-item {position: relative;z-index: 1;}#sk-container-id-6 div.sk-parallel {display: flex;align-items: stretch;justify-content: center;background-color: white;position: relative;}#sk-container-id-6 div.sk-item::before, #sk-container-id-6 div.sk-parallel-item::before {content: \"\";position: absolute;border-left: 1px solid gray;box-sizing: border-box;top: 0;bottom: 0;left: 50%;z-index: -1;}#sk-container-id-6 div.sk-parallel-item {display: flex;flex-direction: column;z-index: 1;position: relative;background-color: white;}#sk-container-id-6 div.sk-parallel-item:first-child::after {align-self: flex-end;width: 50%;}#sk-container-id-6 div.sk-parallel-item:last-child::after {align-self: flex-start;width: 50%;}#sk-container-id-6 div.sk-parallel-item:only-child::after {width: 0;}#sk-container-id-6 div.sk-dashed-wrapped {border: 1px dashed gray;margin: 0 0.4em 0.5em 0.4em;box-sizing: border-box;padding-bottom: 0.4em;background-color: white;}#sk-container-id-6 div.sk-label label {font-family: monospace;font-weight: bold;display: inline-block;line-height: 1.2em;}#sk-container-id-6 div.sk-label-container {text-align: center;}#sk-container-id-6 div.sk-container {/* jupyter's `normalize.less` sets `[hidden] { display: none; }` but bootstrap.min.css set `[hidden] { display: none !important; }` so we also need the `!important` here to be able to override the default hidden behavior on the sphinx rendered scikit-learn.org. See: https://github.com/scikit-learn/scikit-learn/issues/21755 */display: inline-block !important;position: relative;}#sk-container-id-6 div.sk-text-repr-fallback {display: none;}</style><div id=\"sk-container-id-6\" class=\"sk-top-container\"><div class=\"sk-text-repr-fallback\"><pre>KNeighborsClassifier()</pre><b>In a Jupyter environment, please rerun this cell to show the HTML representation or trust the notebook. <br />On GitHub, the HTML representation is unable to render, please try loading this page with nbviewer.org.</b></div><div class=\"sk-container\" hidden><div class=\"sk-item\"><div class=\"sk-estimator sk-toggleable\"><input class=\"sk-toggleable__control sk-hidden--visually\" id=\"sk-estimator-id-6\" type=\"checkbox\" checked><label for=\"sk-estimator-id-6\" class=\"sk-toggleable__label sk-toggleable__label-arrow\">KNeighborsClassifier</label><div class=\"sk-toggleable__content\"><pre>KNeighborsClassifier()</pre></div></div></div></div></div>"
      ],
      "text/plain": [
       "KNeighborsClassifier()"
      ]
     },
     "execution_count": 75,
     "metadata": {},
     "output_type": "execute_result"
    }
   ],
   "source": [
    "clf = KNeighborsClassifier()\n",
    "clf.fit(X_train, y_train)"
   ]
  },
  {
   "cell_type": "markdown",
   "id": "19b232bd",
   "metadata": {},
   "source": [
    "Get the predicted probabilities for the positive class."
   ]
  },
  {
   "cell_type": "code",
   "execution_count": 76,
   "id": "27661acb",
   "metadata": {},
   "outputs": [],
   "source": [
    "y_prob = clf.predict_proba(X_test)[:, 1] #The purpose of this is to predicted probabilities for the positive class."
   ]
  },
  {
   "cell_type": "markdown",
   "id": "981e002f",
   "metadata": {},
   "source": [
    "Compute for ROC curve and AUC."
   ]
  },
  {
   "cell_type": "code",
   "execution_count": 77,
   "id": "fbf9acf4",
   "metadata": {},
   "outputs": [],
   "source": [
    "fpr, tpr, thresholds = roc_curve(y_test, y_prob)\n",
    "auc = roc_auc_score(y_test, y_prob)"
   ]
  },
  {
   "cell_type": "markdown",
   "id": "ed1382c5",
   "metadata": {},
   "source": [
    "Plotting the ROC curve."
   ]
  },
  {
   "cell_type": "code",
   "execution_count": 78,
   "id": "c2e2608f",
   "metadata": {},
   "outputs": [
    {
     "data": {
      "text/plain": [
       "<matplotlib.legend.Legend at 0x16329c90cd0>"
      ]
     },
     "execution_count": 78,
     "metadata": {},
     "output_type": "execute_result"
    },
    {
     "data": {
      "image/png": "[encoded data removed]",
      "text/plain": [
       "<Figure size 800x600 with 1 Axes>"
      ]
     },
     "metadata": {},
     "output_type": "display_data"
    }
   ],
   "source": [
    "plt.figure(figsize=(8, 6))\n",
    "plt.plot(fpr, tpr, label=f'AUC = {auc:.2f}')\n",
    "plt.plot([0, 1], [0, 1], linestyle='--', color='gray', label='Random')\n",
    "plt.xlabel('False Positive Rate (FPR)')\n",
    "plt.ylabel('True Positive Rate (TPR)')\n",
    "plt.title('Receiver Operating Characteristic (ROC) Curve')\n",
    "plt.legend()"
   ]
  },
  {
   "cell_type": "markdown",
   "id": "27a07c63",
   "metadata": {},
   "source": [
    "The plot indicatest that around 0.3 is the best threshold for making decision since it's false positive is lower that other. But if the balance threshold would be around 0.38."
   ]
  },
  {
   "cell_type": "code",
   "execution_count": null,
   "id": "c65d05fc",
   "metadata": {},
   "outputs": [],
   "source": []
  }
 ],
 "metadata": {
  "kernelspec": {
   "display_name": "Python 3 (ipykernel)",
   "language": "python",
   "name": "python3"
  },
  "language_info": {
   "codemirror_mode": {
    "name": "ipython",
    "version": 3
   },
   "file_extension": ".py",
   "mimetype": "text/x-python",
   "name": "python",
   "nbconvert_exporter": "python",
   "pygments_lexer": "ipython3",
   "version": "3.11.3"
  }
 },
 "nbformat": 4,
 "nbformat_minor": 5
}
