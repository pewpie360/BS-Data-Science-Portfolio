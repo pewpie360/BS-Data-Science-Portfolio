{
 "cells": [
  {
   "cell_type": "markdown",
   "id": "24604b7d",
   "metadata": {},
   "source": [
    "# <Center> ***Python Data Structures and Algorithms***"
   ]
  },
  {
   "cell_type": "markdown",
   "id": "dcd91d7b",
   "metadata": {},
   "source": [
    "# `Array`"
   ]
  },
  {
   "cell_type": "markdown",
   "id": "794c8dd8",
   "metadata": {},
   "source": [
    "## `Coding Friends `"
   ]
  },
  {
   "cell_type": "code",
   "execution_count": 2,
   "id": "9172640c",
   "metadata": {},
   "outputs": [
    {
     "data": {
      "text/plain": [
       "3"
      ]
     },
     "execution_count": 2,
     "metadata": {},
     "output_type": "execute_result"
    }
   ],
   "source": [
    "def minNum(samDaily, kellyDaily, difference):\n",
    "\n",
    "    # complexity of O(1)\n",
    "\n",
    "    if kellyDaily <= samDaily: # if si kelly gamay og value up until the last day, return negative one\n",
    "        return -1\n",
    "    \n",
    "    days = 0\n",
    "    while difference >= 0: # while ang difference kay dako or equal to zero\n",
    "        days += 1 # increment the days\n",
    "        difference -= (kellyDaily - samDaily) # calculate the difference by subtracting the value result of kelly minus sam\n",
    "    return days\n",
    "    \n",
    " \n",
    "\n",
    "samDaily = 3\n",
    "kellyDaily = 5\n",
    "difference = 5\n",
    "minNum(samDaily, kellyDaily, difference)"
   ]
  },
  {
   "cell_type": "code",
   "execution_count": null,
   "id": "2873f43e",
   "metadata": {},
   "outputs": [],
   "source": [
    "key =1, value = 10\n",
    "key =1, value = 10\n",
    "key =1, value = 10\n",
    "key =2, value = 100"
   ]
  },
  {
   "cell_type": "code",
   "execution_count": 3,
   "id": "162c024e",
   "metadata": {},
   "outputs": [
    {
     "data": {
      "text/plain": [
       "3"
      ]
     },
     "execution_count": 3,
     "metadata": {},
     "output_type": "execute_result"
    }
   ],
   "source": [
    "def minNum2(samDaily, kellyDaily, difference):\n",
    "    if kellyDaily <= samDaily:\n",
    "        return -1\n",
    "    \n",
    "    days = 0\n",
    "    while difference >= 0:\n",
    "        days += 1\n",
    "        difference -= abs(kellyDaily - samDaily)\n",
    "    return days\n",
    "\n",
    "samDaily = 3\n",
    "kellyDaily = 5\n",
    "difference = 5\n",
    "minNum2(samDaily, kellyDaily, difference)"
   ]
  },
  {
   "cell_type": "code",
   "execution_count": 75,
   "id": "728cc02d",
   "metadata": {},
   "outputs": [
    {
     "data": {
      "text/plain": [
       "8"
      ]
     },
     "execution_count": 75,
     "metadata": {},
     "output_type": "execute_result"
    }
   ],
   "source": [
    "n = '9875'\n",
    "k = 4\n",
    "\n",
    "def added_int_string(n, k):\n",
    "    \n",
    "    if len(n) <= 1:\n",
    "        return int(n)\n",
    "    \n",
    "    added = sum(int(i) for i in n) * k\n",
    "    return added_int_string(str(added), 1)\n",
    "\n",
    "added_int_string(n, k)"
   ]
  },
  {
   "cell_type": "code",
   "execution_count": 3,
   "id": "e3123aa9",
   "metadata": {},
   "outputs": [
    {
     "data": {
      "text/plain": [
       "2"
      ]
     },
     "execution_count": 3,
     "metadata": {},
     "output_type": "execute_result"
    }
   ],
   "source": [
    "import math\n",
    "\n",
    "def squaredNum(a, b):\n",
    "    a = math.ceil(math.sqrt(a))\n",
    "    b = math.floor(math.sqrt(b))\n",
    "    return (a - b) + 1\n",
    "\n",
    "a = 17\n",
    "b = 24\n",
    "squaredNum(a, b)"
   ]
  },
  {
   "cell_type": "code",
   "execution_count": 19,
   "id": "ac5acd94",
   "metadata": {},
   "outputs": [
    {
     "data": {
      "text/plain": [
       "[6, 4, 2, 1]"
      ]
     },
     "execution_count": 19,
     "metadata": {},
     "output_type": "execute_result"
    }
   ],
   "source": [
    "#the goal of this is to minus the min to the max and get the new value\n",
    "q = [5, 4, 4, 2, 2, 8]\n",
    "\n",
    "q.sort()\n",
    "\n",
    "res = []\n",
    "\n",
    "while q:\n",
    "    res.append(len(q))\n",
    "\n",
    "    min_val = q[0]\n",
    "\n",
    "    res2 = []\n",
    "    for i in q:\n",
    "        if i > min_val:\n",
    "            res2.append(i - min_val)\n",
    "    q = res2\n",
    "\n",
    "res\n"
   ]
  },
  {
   "cell_type": "code",
   "execution_count": 1,
   "id": "744b972e",
   "metadata": {},
   "outputs": [
    {
     "data": {
      "text/plain": [
       "3"
      ]
     },
     "execution_count": 1,
     "metadata": {},
     "output_type": "execute_result"
    }
   ],
   "source": [
    "#None divisible subset\n",
    "s = [1, 7, 2, 4]\n",
    "k = 3\n",
    "\n",
    "def nonDivisibleSubset(s, k):\n",
    "\n",
    "    s.sort()\n",
    "\n",
    "    remainder_counts = [0] * k\n",
    "\n",
    "    for i in s:\n",
    "        remainder = i % k\n",
    "        remainder_counts[remainder] += 1\n",
    "\n",
    "    subset_size = 0\n",
    "    if remainder_counts[0] > 0:\n",
    "        subset_size = 1\n",
    "\n",
    "    for j in range(1, (k // 2) + 1):\n",
    "        if j == k - j:\n",
    "            if remainder_counts[j] > 0:\n",
    "                subset_size += 1\n",
    "        else:\n",
    "            subset_size += max(remainder_counts[j], remainder_counts[k - j])\n",
    "    return subset_size\n",
    "\n",
    "nonDivisibleSubset(s, k) "
   ]
  },
  {
   "cell_type": "code",
   "execution_count": 15,
   "id": "749f98e2",
   "metadata": {},
   "outputs": [
    {
     "data": {
      "text/plain": [
       "7"
      ]
     },
     "execution_count": 15,
     "metadata": {},
     "output_type": "execute_result"
    }
   ],
   "source": [
    "s = 'aba'\n",
    "n = 10\n",
    "\n",
    "n_len = len(s)\n",
    "\n",
    "s_count = s.count('a')\n",
    "\n",
    "full_repitition = n // n_len\n",
    "\n",
    "total = s_count * full_repitition\n",
    "remaining_char = n % n_len\n",
    "\n",
    "for i in range(remaining_char):\n",
    "    if s[i] == \"a\":\n",
    "        total += 1\n",
    "total"
   ]
  },
  {
   "cell_type": "code",
   "execution_count": null,
   "id": "ca75d829",
   "metadata": {},
   "outputs": [
    {
     "data": {
      "text/plain": [
       "3"
      ]
     },
     "execution_count": 10,
     "metadata": {},
     "output_type": "execute_result"
    }
   ],
   "source": [
    "#get the min jump to avoid the 1\n",
    "c = [0, 1, 0, 0, 0, 1, 0]\n",
    "\n",
    "def jumpingOnClouds(c):\n",
    "    n = len(c)\n",
    "    jump = 0\n",
    "    i = 0\n",
    "\n",
    "    while i < n-1:\n",
    "        if i + 2 < n and c[i + 2] ==0:\n",
    "            i +=2\n",
    "        else:\n",
    "            i += 1\n",
    "        jump += 1\n",
    "    return jump\n",
    "\n",
    "\n",
    "jumpingOnClouds(c)"
   ]
  },
  {
   "cell_type": "code",
   "execution_count": null,
   "id": "e4c502a6",
   "metadata": {},
   "outputs": [
    {
     "data": {
      "text/plain": [
       "2"
      ]
     },
     "execution_count": 11,
     "metadata": {},
     "output_type": "execute_result"
    }
   ],
   "source": [
    "#equalize the array\n",
    "\n",
    "arr = [3, 3, 2, 1, 3] #3 repetitions minus the length of the array and return the remaining elements\n",
    "\n",
    "def equalizeArray(arr):\n",
    "\n",
    "    if not arr:\n",
    "        return 0\n",
    "    \n",
    "    counts = {}\n",
    "\n",
    "    for i in arr:\n",
    "        if i in counts:\n",
    "            counts[i] += 1\n",
    "        else:\n",
    "            counts[i] = 1\n",
    "\n",
    "    max_count = 0\n",
    "    for j in counts.values():\n",
    "        if j > max_count:\n",
    "            max_count = j\n",
    "\n",
    "    min_count = len(arr) - max_count\n",
    "\n",
    "    return min_count\n",
    "\n",
    "equalizeArray(arr)"
   ]
  },
  {
   "cell_type": "code",
   "execution_count": 1,
   "id": "06d41153",
   "metadata": {},
   "outputs": [
    {
     "data": {
      "text/plain": [
       "'blue is sky the'"
      ]
     },
     "execution_count": 1,
     "metadata": {},
     "output_type": "execute_result"
    }
   ],
   "source": [
    "# reverse the string\n",
    "s= \"the sky is blue\"\n",
    "\n",
    "def revstring(s):\n",
    "    words = s.split()\n",
    "\n",
    "    rever = words[::-1]\n",
    "    return \" \".join(rever)\n",
    "\n",
    "revstring(s)"
   ]
  },
  {
   "cell_type": "code",
   "execution_count": 28,
   "id": "5aa3a6cc",
   "metadata": {},
   "outputs": [
    {
     "name": "stdout",
     "output_type": "stream",
     "text": [
      "1\n",
      "2\n",
      "3\n",
      "4\n",
      "5\n",
      "5\n",
      "3\n"
     ]
    }
   ],
   "source": [
    "array = [1, 2, 3, 4, 5, 5, 3]\n",
    "\n",
    "for i in range(len(array)):\n",
    "    print(array[i])"
   ]
  },
  {
   "cell_type": "code",
   "execution_count": 1,
   "id": "c1b57640",
   "metadata": {},
   "outputs": [
    {
     "data": {
      "text/plain": [
       "[3, 5]"
      ]
     },
     "execution_count": 1,
     "metadata": {},
     "output_type": "execute_result"
    }
   ],
   "source": [
    "array = [1, 2, 3, 4, 5, 5, 3] #get the duplicate values in the array\n",
    "\n",
    "def find_duplicate(array):\n",
    "    seen = set()\n",
    "    dupli = []\n",
    "    for i in array:\n",
    "        if i in seen:\n",
    "            dupli.append(i)\n",
    "        else:\n",
    "            seen.add(i)\n",
    "\n",
    "    uniqueVal = list(set(dupli))\n",
    "    return uniqueVal\n",
    "    \n",
    "\n",
    "find_duplicate(array)\n",
    "    "
   ]
  },
  {
   "cell_type": "markdown",
   "id": "edb12baa",
   "metadata": {},
   "source": [
    "## `Getting Ration of Array`"
   ]
  },
  {
   "cell_type": "code",
   "execution_count": 16,
   "id": "81cd0192",
   "metadata": {},
   "outputs": [
    {
     "name": "stdout",
     "output_type": "stream",
     "text": [
      "0.285714\n",
      "0.428571\n",
      "0.285714\n"
     ]
    }
   ],
   "source": [
    "def ratio(arr):\n",
    "    n = len(arr)\n",
    "\n",
    "    pos = sum(1 for x in arr if x > 0)\n",
    "    neg = sum(1 for x in arr if x < 0)\n",
    "    neut = sum (1 for x in arr if x == 0)\n",
    "\n",
    "    print('{:.6f}'.format(pos / n))\n",
    "    print('{:.6f}'.format(neg / n))\n",
    "    print('{:.6f}'.format(neut / n))\n",
    "\n",
    "arr = [-3, -2, -4, 2, 5, 0, 0]\n",
    "ratio(arr)"
   ]
  },
  {
   "cell_type": "markdown",
   "id": "6e447857",
   "metadata": {},
   "source": [
    "## `Sequence Equation`"
   ]
  },
  {
   "cell_type": "code",
   "execution_count": null,
   "id": "cc1b3f69",
   "metadata": {},
   "outputs": [
    {
     "data": {
      "text/plain": [
       "[4, 2, 5, 1, 3]"
      ]
     },
     "execution_count": 1,
     "metadata": {},
     "output_type": "execute_result"
    }
   ],
   "source": [
    "def permutationEquation(q):\n",
    "    n = len(q)\n",
    "    result = []\n",
    "\n",
    "    for i in range(1, n + 1):\n",
    "        #find the index in q\n",
    "        x_index = q.index(i) + 1 # +1 because p is 1-indexed\n",
    "\n",
    "        #find the index of x_index in q\n",
    "        y_index = q.index(x_index) +1\n",
    "        result.append(y_index)\n",
    "    return result\n",
    "\n",
    "q = [5, 2, 1, 3, 4]\n",
    "permutationEquation(q)"
   ]
  },
  {
   "cell_type": "markdown",
   "id": "6dcded20",
   "metadata": {},
   "source": [
    "## `Palindrome Index`"
   ]
  },
  {
   "cell_type": "code",
   "execution_count": 34,
   "id": "771a691c",
   "metadata": {},
   "outputs": [
    {
     "data": {
      "text/plain": [
       "3"
      ]
     },
     "execution_count": 34,
     "metadata": {},
     "output_type": "execute_result"
    }
   ],
   "source": [
    "def palindromeIndex(s):\n",
    "    # Write your code here\n",
    "    n = len(s)\n",
    "    for i in range(math.floor(n / 2)):\n",
    "        if s[i] != s[n - 1 - i]:\n",
    "            # Check if removing the character at index i makes the string a palindrome\n",
    "            temp1 = s[:i] + s[i + 1:]\n",
    "            if temp1 == temp1[::-1]:\n",
    "                return i\n",
    "            # Check if removing the character at index n - 1 - i makes the string a palindrome\n",
    "            temp2 = s[:n - 1 - i] + s[n - i:]\n",
    "            if temp2 == temp2[::-1]:\n",
    "                return n - 1 - i\n",
    "            else:\n",
    "                return -1 #Neither works, which is not supposed to happen in the problem.\n",
    "    return -1\n",
    "\n",
    "s = \"aaab\"\n",
    "palindromeIndex(s)"
   ]
  },
  {
   "cell_type": "markdown",
   "id": "a21a699e",
   "metadata": {},
   "source": [
    "## `Bubble Sort`"
   ]
  },
  {
   "cell_type": "code",
   "execution_count": 10,
   "id": "fd53ffcc",
   "metadata": {},
   "outputs": [
    {
     "data": {
      "text/plain": [
       "[-6, -3, -2, 2, 4, 7]"
      ]
     },
     "execution_count": 10,
     "metadata": {},
     "output_type": "execute_result"
    }
   ],
   "source": [
    "arr = [-2, -6, 4, 2, 7, -3]\n",
    "\n",
    "def bubble_sort(arr):\n",
    "    n = len(arr)\n",
    "    base = True\n",
    "    while base:\n",
    "        base = False\n",
    "        for i in range(1, n):\n",
    "            if arr[i - 1] > arr[i]:\n",
    "                base = True\n",
    "                arr[i - 1], arr[i] = arr[i], arr[i - 1]\n",
    "\n",
    "bubble_sort(arr)\n",
    "arr\n"
   ]
  },
  {
   "cell_type": "markdown",
   "id": "839da614",
   "metadata": {},
   "source": [
    "## `Insertion Sort`"
   ]
  },
  {
   "cell_type": "code",
   "execution_count": 12,
   "id": "bf39efb3",
   "metadata": {},
   "outputs": [
    {
     "data": {
      "text/plain": [
       "[-6, -3, -2, 2, 4, 7]"
      ]
     },
     "execution_count": 12,
     "metadata": {},
     "output_type": "execute_result"
    }
   ],
   "source": [
    "arr = [-2, -6, 4, 2, 7, -3]\n",
    "\n",
    "def insertion_sort(arr):\n",
    "    n = len(arr)\n",
    "    \n",
    "    for i in range(1, n):\n",
    "        for j in range(i, 0, -1):\n",
    "            if arr[j - 1] > arr[j]:\n",
    "                arr[j - 1], arr[j] = arr[j], arr[j - 1]\n",
    "            else:\n",
    "                break\n",
    "\n",
    "insertion_sort(arr)\n",
    "arr"
   ]
  },
  {
   "cell_type": "markdown",
   "id": "0ce17dc1",
   "metadata": {},
   "source": [
    "## `Selection Sort`"
   ]
  },
  {
   "cell_type": "code",
   "execution_count": 13,
   "id": "8846df6d",
   "metadata": {},
   "outputs": [
    {
     "data": {
      "text/plain": [
       "[-6, -3, -2, 2, 4, 7]"
      ]
     },
     "execution_count": 13,
     "metadata": {},
     "output_type": "execute_result"
    }
   ],
   "source": [
    "arr = [-2, -6, 4, 2, 7, -3]\n",
    "\n",
    "def selection_sort(arr):\n",
    "    n = len(arr)\n",
    "\n",
    "    for i in range(n):\n",
    "        min_index = i\n",
    "        for j in range(i + 1, n):\n",
    "            if arr[j] < arr[min_index]:\n",
    "                min_index = j\n",
    "            arr[i], arr[min_index] = arr[min_index], arr[i]\n",
    "\n",
    "selection_sort(arr)\n",
    "arr\n"
   ]
  },
  {
   "cell_type": "markdown",
   "id": "0c226ca7",
   "metadata": {},
   "source": [
    "## `Merge Sort`"
   ]
  },
  {
   "cell_type": "code",
   "execution_count": 15,
   "id": "cd949439",
   "metadata": {},
   "outputs": [
    {
     "data": {
      "text/plain": [
       "[-2, -6, 4, 2, 7, -3]"
      ]
     },
     "execution_count": 15,
     "metadata": {},
     "output_type": "execute_result"
    }
   ],
   "source": [
    "import math\n",
    "arr = [-2, -6, 4, 2, 7, -3]\n",
    "\n",
    "def merge_sort(arr):\n",
    "    n = len(arr)\n",
    "\n",
    "    if n == 1:\n",
    "        return arr\n",
    "    \n",
    "    mid = math.floor(len(arr) / 2)\n",
    "    L = arr[:mid]\n",
    "    R = arr[mid:]\n",
    "\n",
    "    L = merge_sort(L)\n",
    "    R = merge_sort(R)\n",
    "    l, r = 0, 0\n",
    "\n",
    "    L_len = len(L)\n",
    "    R_len = len(R)\n",
    "\n",
    "    sorted_arr = [0] * n\n",
    "    i = 0\n",
    "\n",
    "    while l < L_len and r < R_len:\n",
    "        if L[l] < R[r]:\n",
    "            sorted_arr[i] = L[l]\n",
    "            l += 1\n",
    "        else:\n",
    "            sorted_arr[i] = R[r]\n",
    "            r += 1\n",
    "        i += 1\n",
    "\n",
    "    while l < L_len:\n",
    "        sorted_arr[i] = L[l]\n",
    "        l += 1\n",
    "        r += 1\n",
    "\n",
    "    while r < R_len:\n",
    "        sorted_arr[i] = R[r]\n",
    "        l += 1\n",
    "        r += 1\n",
    "\n",
    "    return sorted_arr\n",
    "\n",
    "merge_sort(arr)\n",
    "arr\n"
   ]
  },
  {
   "cell_type": "markdown",
   "id": "34805f43",
   "metadata": {},
   "source": [
    "## `Quick Sort`"
   ]
  },
  {
   "cell_type": "code",
   "execution_count": 32,
   "id": "783d243c",
   "metadata": {},
   "outputs": [
    {
     "data": {
      "text/plain": [
       "[-5, 3, 2, 1, -3, 7, 2, 2]"
      ]
     },
     "execution_count": 32,
     "metadata": {},
     "output_type": "execute_result"
    }
   ],
   "source": [
    "qs = [-5, 3, 2, 1, -3, 7, 2, 2]\n",
    "\n",
    "def quick_sort(qs):\n",
    "    if len(qs) <= 1:\n",
    "        return qs\n",
    "    \n",
    "    p = qs[-1]\n",
    "\n",
    "    L = [x for x in qs[:-1] if x <= p]\n",
    "    R = [x for x in qs[:-1] if x > p]\n",
    "\n",
    "    L = quick_sort(L)\n",
    "    R = quick_sort(R)\n",
    "\n",
    "    return L + [p] + R\n",
    "\n",
    "quick_sort(qs)\n",
    "qs"
   ]
  },
  {
   "cell_type": "markdown",
   "id": "614462f5",
   "metadata": {},
   "source": [
    "## `Counting Sort`"
   ]
  },
  {
   "cell_type": "code",
   "execution_count": 30,
   "id": "d281ed21",
   "metadata": {},
   "outputs": [
    {
     "data": {
      "text/plain": [
       "[1, 2, 2, 2, 3, 3, 5, 7]"
      ]
     },
     "execution_count": 30,
     "metadata": {},
     "output_type": "execute_result"
    }
   ],
   "source": [
    "cs = [5, 3, 2, 1, 3, 7, 2, 2]\n",
    "\n",
    "def counting_sort(cs):\n",
    "    n = len(cs)\n",
    "\n",
    "    maxx = max(cs)\n",
    "\n",
    "    counts = [0] * (maxx + 1)\n",
    "\n",
    "    for x in cs:\n",
    "        counts[x] += 1\n",
    "\n",
    "    i = 0\n",
    "    for c in range(maxx + 1):\n",
    "        while counts[c] > 0:\n",
    "            cs[i] = c\n",
    "            i += 1\n",
    "            counts[c] -= 1\n",
    "    \n",
    "counting_sort(cs)\n",
    "cs"
   ]
  },
  {
   "cell_type": "markdown",
   "id": "36212b62",
   "metadata": {},
   "source": [
    "## `Merge Strings Alternatively`"
   ]
  },
  {
   "cell_type": "code",
   "execution_count": 2,
   "id": "a4be33a6",
   "metadata": {},
   "outputs": [
    {
     "data": {
      "text/plain": [
       "'a -> b -> p -> a -> p -> n -> l -> a -> e -> n -> a'"
      ]
     },
     "execution_count": 2,
     "metadata": {},
     "output_type": "execute_result"
    }
   ],
   "source": [
    "def altString(word1, word2):\n",
    "    A, B = len(word1), len(word2)\n",
    "\n",
    "    n = max(A, B)\n",
    "    res = []\n",
    "    for i in range(n):\n",
    "        if i < A:\n",
    "            res.append(word1[i])\n",
    "        if i < B:\n",
    "            res.append(word2[i])\n",
    "    return \" -> \".join(res)\n",
    "\n",
    "word1 = 'apple'\n",
    "word2 = 'banana'\n",
    "altString(word1, word2)\n",
    "        "
   ]
  },
  {
   "cell_type": "code",
   "execution_count": 5,
   "id": "e7b6fdfd",
   "metadata": {},
   "outputs": [
    {
     "data": {
      "text/plain": [
       "'aspuppleernatural'"
      ]
     },
     "execution_count": 5,
     "metadata": {},
     "output_type": "execute_result"
    }
   ],
   "source": [
    "# Alternate solution\n",
    "# complexity of O(n)\n",
    "\n",
    "def altString1(words1, words2):\n",
    "    res = []\n",
    "    n = min(len(words1), len(words2))\n",
    "\n",
    "    for i in range(n):\n",
    "        res.append(words1[i])\n",
    "        res.append(words2[i])\n",
    "    res.extend([words1[n:], words2[n:]])\n",
    "\n",
    "    return \"\".join(res)\n",
    "\n",
    "words1 = 'apple'\n",
    "words2 = 'supernatural'\n",
    "altString1(words1, words2)"
   ]
  },
  {
   "cell_type": "markdown",
   "id": "366eb354",
   "metadata": {},
   "source": [
    "## `Two Sum`"
   ]
  },
  {
   "cell_type": "code",
   "execution_count": null,
   "id": "5c24b270",
   "metadata": {},
   "outputs": [
    {
     "data": {
      "text/plain": [
       "[0, 2]"
      ]
     },
     "execution_count": 5,
     "metadata": {},
     "output_type": "execute_result"
    }
   ],
   "source": [
    "def TwoSum(nums, target):\n",
    "    #time complexity of O(n)\n",
    "    #space complexity of O(1)\n",
    "    # the purpose of this code is to get the indexes of an array that would result to the given target value\n",
    "    \n",
    "    st = {}\n",
    "\n",
    "    for i,j in enumerate(nums):\n",
    "        x = target - nums[i]\n",
    "\n",
    "        if x in st:\n",
    "            return [st[x], i]\n",
    "        st[j] = i\n",
    "\n",
    "nums = [3, 5, 6, 11]\n",
    "target = 9\n",
    "TwoSum(nums, target)"
   ]
  },
  {
   "cell_type": "markdown",
   "id": "fb9667e0",
   "metadata": {},
   "source": [
    "## `3Sum`"
   ]
  },
  {
   "cell_type": "code",
   "execution_count": 15,
   "id": "ab52f35f",
   "metadata": {},
   "outputs": [
    {
     "data": {
      "text/plain": [
       "[[-1, -1, 2], [-1, 0, 1]]"
      ]
     },
     "execution_count": 15,
     "metadata": {},
     "output_type": "execute_result"
    }
   ],
   "source": [
    "def threeSum(nums):\n",
    "        nums.sort()\n",
    "        arr = []\n",
    "        for i in range(len(nums)):\n",
    "        # Skip duplicate numbers for the first element of the triplet\n",
    "            if i > 0 and nums[i] == nums[i - 1]:\n",
    "                continue\n",
    "\n",
    "            j = i + 1  # Initialize the second pointer\n",
    "            k = len(nums) - 1  # Initialize the third pointer\n",
    "\n",
    "            while j < k:\n",
    "                total = nums[i] + nums[j] + nums[k] # Calculate the sum of the current triplet\n",
    "\n",
    "                if total > 0:\n",
    "                    k -= 1  # If the sum is greater than zero, move the third pointer to the left\n",
    "                elif total < 0:\n",
    "                    j += 1  # If the sum is less than zero, move the second pointer to the right\n",
    "                else:\n",
    "                    # Found a triplet that sums to zero\n",
    "                    arr.append([nums[i], nums[j], nums[k]])  # Add the triplet to the result list\n",
    "\n",
    "                    # Skip duplicate numbers for the second element of the triplet\n",
    "                    j += 1\n",
    "                    while j < k and nums[j] == nums[j - 1]:\n",
    "                        j += 1\n",
    "\n",
    "                    # Skip duplicate numbers for the third element of the triplet.\n",
    "                    k -= 1 # Although not in the original code, this is needed for full de-duplication\n",
    "                    while j < k and nums[k] == nums[k + 1]:\n",
    "                        k -= 1\n",
    "        return arr  # Return the list of unique triplets\n",
    "\n",
    "\n",
    "            \n",
    "nums = [-1,0,1,2,-1,-4]\n",
    "threeSum(nums)"
   ]
  },
  {
   "cell_type": "markdown",
   "id": "9961eafe",
   "metadata": {},
   "source": [
    "## `Circular Array Rotation`"
   ]
  },
  {
   "cell_type": "code",
   "execution_count": null,
   "id": "7904883e",
   "metadata": {},
   "outputs": [
    {
     "data": {
      "text/plain": [
       "[5, 3]"
      ]
     },
     "execution_count": 6,
     "metadata": {},
     "output_type": "execute_result"
    }
   ],
   "source": [
    "# the goal of the this is to ge the the given query index after rotation required given\n",
    "# Complexity of O(1)\n",
    "\n",
    "def CircularArrayRotation(a, k, queries):\n",
    "    n = len(a)\n",
    "\n",
    "    k = k % n #get the remainder of the number of rotation over len of array\n",
    "    rotation = a[-k:] + a[:-k] #do the rotation by passing the array with index of the remainder \n",
    "\n",
    "    result = [rotation[q] for q in queries] #get the new array index of after the rotation\n",
    "    return result #return the value\n",
    "\n",
    "a = [3, 4, 5] # -> [5, 3, 4] -> [4, 5, 3]\n",
    "k = 2 # given number of rotations\n",
    "queries = [1, 2] #get the index specified after rotations\n",
    "CircularArrayRotation(a, k, queries)"
   ]
  },
  {
   "cell_type": "markdown",
   "id": "24e1974e",
   "metadata": {},
   "source": [
    "## `Unique Element`"
   ]
  },
  {
   "cell_type": "code",
   "execution_count": null,
   "id": "10c7380b",
   "metadata": {},
   "outputs": [
    {
     "data": {
      "text/plain": [
       "4"
      ]
     },
     "execution_count": 1,
     "metadata": {},
     "output_type": "execute_result"
    }
   ],
   "source": [
    "#get the unique value of the given array\n",
    "#complexity of O(n)\n",
    "\n",
    "def Uelement(a):\n",
    "    uniq = 0\n",
    "    \n",
    "    for i in a:\n",
    "        uniq ^= i #using XOR operation which means that pass the value that is unique to the given array\n",
    "    return uniq\n",
    "\n",
    "a = [1, 2, 3, 4, 3, 2, 1]\n",
    "Uelement(a)"
   ]
  },
  {
   "cell_type": "markdown",
   "id": "928fc0d2",
   "metadata": {},
   "source": [
    "## `Diagonal Difference`"
   ]
  },
  {
   "cell_type": "code",
   "execution_count": null,
   "id": "b6d7fd02",
   "metadata": {},
   "outputs": [
    {
     "data": {
      "text/plain": [
       "2"
      ]
     },
     "execution_count": 5,
     "metadata": {},
     "output_type": "execute_result"
    }
   ],
   "source": [
    "def DiagonalDiff(arr):\n",
    "    mat = len(arr)\n",
    "    left_diag = 0\n",
    "    right_diag = 0\n",
    "    for i in range(mat):\n",
    "        left_diag += arr[i][i]\n",
    "        right_diag += arr[i][mat - 1 - i]\n",
    "    return abs(left_diag - right_diag)\n",
    "\n",
    "arr = [[1, 2, 3], [4, 5, 6], [9, 8, 9]] # its like adding left diagonal 1 + 5 + 9 = 15 then the right diagonal 3 + 5 + 9 = 17 and get their absolute value\n",
    "DiagonalDiff(arr)"
   ]
  },
  {
   "cell_type": "markdown",
   "id": "39095c22",
   "metadata": {},
   "source": [
    "## `Counting Sort 1`"
   ]
  },
  {
   "cell_type": "code",
   "execution_count": null,
   "id": "4bfa0812",
   "metadata": {},
   "outputs": [
    {
     "data": {
      "text/plain": [
       "[0,\n",
       " 2,\n",
       " 1,\n",
       " 1,\n",
       " 0,\n",
       " 0,\n",
       " 0,\n",
       " 0,\n",
       " 0,\n",
       " 0,\n",
       " 0,\n",
       " 0,\n",
       " 1,\n",
       " 0,\n",
       " 0,\n",
       " 0,\n",
       " 0,\n",
       " 0,\n",
       " 0,\n",
       " 0,\n",
       " 0,\n",
       " 1,\n",
       " 0,\n",
       " 0,\n",
       " 0,\n",
       " 0,\n",
       " 0,\n",
       " 0,\n",
       " 0,\n",
       " 0,\n",
       " 0,\n",
       " 0,\n",
       " 0,\n",
       " 0,\n",
       " 0,\n",
       " 0,\n",
       " 0,\n",
       " 0,\n",
       " 0,\n",
       " 0,\n",
       " 0,\n",
       " 0,\n",
       " 0,\n",
       " 0,\n",
       " 1,\n",
       " 0,\n",
       " 0,\n",
       " 0,\n",
       " 0,\n",
       " 0,\n",
       " 0,\n",
       " 0,\n",
       " 0,\n",
       " 0,\n",
       " 0,\n",
       " 0,\n",
       " 0,\n",
       " 0,\n",
       " 0,\n",
       " 0,\n",
       " 0,\n",
       " 0,\n",
       " 1,\n",
       " 0,\n",
       " 0,\n",
       " 0,\n",
       " 2,\n",
       " 0,\n",
       " 0,\n",
       " 0,\n",
       " 0,\n",
       " 0,\n",
       " 0,\n",
       " 0,\n",
       " 0,\n",
       " 0,\n",
       " 0,\n",
       " 0,\n",
       " 0,\n",
       " 0,\n",
       " 0,\n",
       " 0,\n",
       " 0,\n",
       " 0,\n",
       " 0,\n",
       " 0,\n",
       " 0,\n",
       " 0,\n",
       " 0,\n",
       " 0,\n",
       " 0,\n",
       " 0,\n",
       " 0,\n",
       " 0,\n",
       " 0,\n",
       " 0,\n",
       " 0,\n",
       " 0,\n",
       " 0,\n",
       " 1]"
      ]
     },
     "execution_count": 6,
     "metadata": {},
     "output_type": "execute_result"
    }
   ],
   "source": [
    "def CountingSort(arr):\n",
    "    freq_arr = [0] * 100 # give a fixed range of zeros\n",
    "\n",
    "    for i in arr:\n",
    "        freq_arr[i] += 1 # increment if i is exist in arr\n",
    "    return freq_arr\n",
    "\n",
    "arr = [99, 12, 44, 21, 62, 3, 66, 2, 1, 1, 66]\n",
    "CountingSort(arr)"
   ]
  },
  {
   "cell_type": "markdown",
   "id": "8ae5ac84",
   "metadata": {},
   "source": [
    "## `Flipping The Matrix`"
   ]
  },
  {
   "cell_type": "code",
   "execution_count": 12,
   "id": "49b25f9f",
   "metadata": {},
   "outputs": [
    {
     "name": "stdout",
     "output_type": "stream",
     "text": [
      "1\n"
     ]
    },
    {
     "data": {
      "text/plain": [
       "4"
      ]
     },
     "execution_count": 12,
     "metadata": {},
     "output_type": "execute_result"
    }
   ],
   "source": [
    "import math\n",
    "\n",
    "def flipMat(matrix):\n",
    "    n = len(matrix)\n",
    "\n",
    "    half = math.floor(n / 2)\n",
    "    print(half)\n",
    "    max_sum = 0\n",
    "\n",
    "    for i in range(half):\n",
    "        for j in range(half):\n",
    "            max_val = max(\n",
    "                matrix[i][j],\n",
    "                matrix[i][n - 1 - j],\n",
    "                matrix[n - 1 - i][j],\n",
    "                matrix[n - 1 - i][n - 1 - j]\n",
    "            )\n",
    "            max_sum += max_val\n",
    "    return max_sum\n",
    "\n",
    "matrix = [[1,2], [3,4]] # it would be like flip first the second array it would be like [1, 2] [4, 3] then flip the first row via horizontal so it would be lie [2, 1] [4, 3]\n",
    "flipMat(matrix)"
   ]
  },
  {
   "cell_type": "markdown",
   "id": "18d02d0b",
   "metadata": {},
   "source": [
    "## `Median of Two Sorted Arrays`"
   ]
  },
  {
   "cell_type": "code",
   "execution_count": 17,
   "id": "831600c5",
   "metadata": {},
   "outputs": [
    {
     "data": {
      "text/plain": [
       "5.0"
      ]
     },
     "execution_count": 17,
     "metadata": {},
     "output_type": "execute_result"
    }
   ],
   "source": [
    "def findMedianSortedArray(nums1, nums2):\n",
    "    array_sorted = sorted(nums1 + nums2)\n",
    "    mid = len(array_sorted) // 2\n",
    "    median = (array_sorted[mid] + array_sorted[~mid]) / 2\n",
    "    return median\n",
    "\n",
    "nums1 = [3, 6, 5, 7, 2]\n",
    "nums2 = [6, 8, 2, 5, 1]\n",
    "findMedianSortedArray(nums1, nums2)"
   ]
  },
  {
   "cell_type": "code",
   "execution_count": null,
   "id": "aed1dab3",
   "metadata": {},
   "outputs": [
    {
     "data": {
      "text/plain": [
       "5.0"
      ]
     },
     "execution_count": 12,
     "metadata": {},
     "output_type": "execute_result"
    }
   ],
   "source": [
    "# Alternate Solution    \n",
    "\n",
    "import math\n",
    "def findMedianSortedArray1(nums1 , nums2):\n",
    "    arr_sorted = sorted(nums1 + nums2)\n",
    "    mid = math.floor(len(arr_sorted) / 2)\n",
    "    median = (arr_sorted[mid] + arr_sorted[~mid]) / 2\n",
    "    return median\n",
    "\n",
    "nums1 = [3, 6, 5, 7, 2]\n",
    "nums2 = [6, 8, 2, 5, 1]\n",
    "findMedianSortedArray1(nums1, nums2)"
   ]
  },
  {
   "cell_type": "markdown",
   "id": "0552116e",
   "metadata": {},
   "source": [
    "## `Container with most water`"
   ]
  },
  {
   "cell_type": "code",
   "execution_count": 22,
   "id": "59a67b2e",
   "metadata": {},
   "outputs": [
    {
     "data": {
      "text/plain": [
       "49"
      ]
     },
     "execution_count": 22,
     "metadata": {},
     "output_type": "execute_result"
    }
   ],
   "source": [
    "def MaxArea(height):\n",
    "    max_water = 0 \n",
    "    left = 0\n",
    "    right = len(height) - 1\n",
    "    \n",
    "    while left < right:\n",
    "        curr_height = min(height[left], height[right])\n",
    "        curr_width = right - left\n",
    "        curr_water = curr_height * curr_width\n",
    "        max_water = max(max_water, curr_water)\n",
    "\n",
    "        if height[left] < height[right]:\n",
    "            left += 1\n",
    "        else:\n",
    "            right -= 1\n",
    "\n",
    "    return max_water\n",
    "\n",
    "height = [1,8,6,2,5,4,8,3,7]\n",
    "MaxArea(height)"
   ]
  },
  {
   "cell_type": "markdown",
   "id": "dc3ec666",
   "metadata": {},
   "source": [
    "## `Getting Min and Max of Sum array`"
   ]
  },
  {
   "cell_type": "code",
   "execution_count": 20,
   "id": "3e7b0411",
   "metadata": {},
   "outputs": [
    {
     "name": "stdout",
     "output_type": "stream",
     "text": [
      "1 9\n"
     ]
    }
   ],
   "source": [
    "def MinMaxSum(arr):\n",
    "    arr.sort()\n",
    "    mn = min(arr[:4])\n",
    "    mx = max(arr[1:])\n",
    "    print(f\"{mn} {mx}\")\n",
    "\n",
    "arr = [1, 3, 5, 7, 9]\n",
    "MinMaxSum(arr)"
   ]
  },
  {
   "cell_type": "markdown",
   "id": "50eec91c",
   "metadata": {},
   "source": [
    "## `Time Conversion`"
   ]
  },
  {
   "cell_type": "code",
   "execution_count": null,
   "id": "48cfac43",
   "metadata": {},
   "outputs": [
    {
     "data": {
      "text/plain": [
       "'15:24:11'"
      ]
     },
     "execution_count": 24,
     "metadata": {},
     "output_type": "execute_result"
    }
   ],
   "source": [
    "def TimeConversion(s):\n",
    "    period = s[-2:] #get the last element\n",
    "    time_part = s[:-2] #get the time\n",
    "\n",
    "    hours, minutes, seconds = map(int, time_part.split(\":\"))\n",
    "    \n",
    "    if period == \"PM\" and hours != 12:\n",
    "        hours += 12\n",
    "    elif period == \"AM\" and hours == 12:\n",
    "        hours = 0\n",
    "    return \"{:02d}:{:02d}:{:02d}\".format(hours, minutes, seconds) #convert to military format\n",
    "\n",
    "s = '3:24:11PM'\n",
    "TimeConversion(s)"
   ]
  },
  {
   "cell_type": "markdown",
   "id": "30b10f5d",
   "metadata": {},
   "source": [
    "## `Viral Advertising`"
   ]
  },
  {
   "cell_type": "code",
   "execution_count": 22,
   "id": "269e4863",
   "metadata": {},
   "outputs": [
    {
     "data": {
      "text/plain": [
       "24"
      ]
     },
     "execution_count": 22,
     "metadata": {},
     "output_type": "execute_result"
    }
   ],
   "source": [
    "def Advertising(n):\n",
    "    shared = 5\n",
    "    commulative_like = 0\n",
    "    for _ in range(n):\n",
    "        fl = math.floor(shared / 2)\n",
    "        commulative_like += fl\n",
    "        shared = fl * 3\n",
    "    return commulative_like\n",
    "\n",
    "n = 5 #given 5 likes and each like has a child of tree and it goes down\n",
    "Advertising(n)\n",
    "\n"
   ]
  },
  {
   "cell_type": "markdown",
   "id": "42975654",
   "metadata": {},
   "source": [
    "## `Save the Prisoner`"
   ]
  },
  {
   "cell_type": "code",
   "execution_count": 35,
   "id": "1e41331d",
   "metadata": {},
   "outputs": [
    {
     "data": {
      "text/plain": [
       "('Last Prisoner Warned', 3)"
      ]
     },
     "execution_count": 35,
     "metadata": {},
     "output_type": "execute_result"
    }
   ],
   "source": [
    "def Prisoner(n, m, s):\n",
    "    start = s - 1 # starting the index into 0\n",
    "\n",
    "    distribute = (start + m - 1) % n\n",
    "    total = distribute + 1\n",
    "    return total\n",
    "\n",
    "n, m, s = 4, 6, 2\n",
    "Prisoner(n, m, s)\n",
    "\n",
    "def dispPrisoner(n, m, s):\n",
    "    return (\"Last Prisoner Warned\", Prisoner(n, m, s))\n",
    "\n",
    "dispPrisoner(n, m, s)"
   ]
  },
  {
   "cell_type": "markdown",
   "id": "a4025d40",
   "metadata": {},
   "source": [
    "## `Fibonaci`"
   ]
  },
  {
   "cell_type": "code",
   "execution_count": 38,
   "id": "4e5ad772",
   "metadata": {},
   "outputs": [
    {
     "data": {
      "text/plain": [
       "1"
      ]
     },
     "execution_count": 38,
     "metadata": {},
     "output_type": "execute_result"
    }
   ],
   "source": [
    "def fibo(n):\n",
    "    golden_ratio = (1 + (5 ** 0.5)) / 2\n",
    "    return int(round(golden_ratio ** n) / (5 ** 0.5))\n",
    "\n",
    "n = 2\n",
    "fibo(n)"
   ]
  },
  {
   "cell_type": "markdown",
   "id": "5b6bf741",
   "metadata": {},
   "source": [
    "## `Get the median`"
   ]
  },
  {
   "cell_type": "code",
   "execution_count": 18,
   "id": "3b141f06",
   "metadata": {},
   "outputs": [
    {
     "name": "stdout",
     "output_type": "stream",
     "text": [
      "4\n"
     ]
    }
   ],
   "source": [
    "def GetMedian(arr):\n",
    "    arr.sort()\n",
    "    mid = math.floor(len(arr) / 2)\n",
    "    arr2 = (arr[mid] + arr[~mid]) / 2\n",
    "    print(int(arr2))\n",
    "\n",
    "md = [4, 5, 1, 2, 7]\n",
    "GetMedian(md)"
   ]
  },
  {
   "cell_type": "markdown",
   "id": "75f418bf",
   "metadata": {},
   "source": [
    "## `Get Array Ratio`"
   ]
  },
  {
   "cell_type": "code",
   "execution_count": 1,
   "id": "300c0a46",
   "metadata": {},
   "outputs": [
    {
     "name": "stdout",
     "output_type": "stream",
     "text": [
      "0.400000\n",
      "0.400000\n",
      "0.200000\n"
     ]
    }
   ],
   "source": [
    "def plus_minus_ratio(arr):\n",
    "    n = len(arr)\n",
    "    pos_count = sum(1 for x in arr if x > 0)\n",
    "    neg_count = sum(1 for x in arr if x < 0)\n",
    "    zero_count = sum(1 for x in arr if x == 0)\n",
    "    \n",
    "    print(\"{:.6f}\".format(pos_count / n))\n",
    "    print(\"{:.6f}\".format(neg_count / n))\n",
    "    print(\"{:.6f}\".format(zero_count / n))\n",
    "\n",
    "# Example\n",
    "arr = [1, 1, 0, -1, -1]\n",
    "plus_minus_ratio(arr)"
   ]
  },
  {
   "cell_type": "code",
   "execution_count": null,
   "id": "e20243b8",
   "metadata": {},
   "outputs": [
    {
     "data": {
      "text/plain": [
       "46"
      ]
     },
     "execution_count": 22,
     "metadata": {},
     "output_type": "execute_result"
    }
   ],
   "source": [
    "arr_2d = [[3, 5, 2],[6, 2, 7], [9, 8, 4]]\n",
    "\n",
    "def find_sum_2d(arr_2d):\n",
    "    total = 0\n",
    "    for i in range(len(arr_2d)):\n",
    "        total += sum(arr_2d[i])\n",
    "    return total\n",
    "\n",
    "find_sum_2d(arr_2d)"
   ]
  },
  {
   "cell_type": "code",
   "execution_count": 31,
   "id": "a5131e15",
   "metadata": {},
   "outputs": [
    {
     "data": {
      "text/plain": [
       "2"
      ]
     },
     "execution_count": 31,
     "metadata": {},
     "output_type": "execute_result"
    }
   ],
   "source": [
    "k = 4\n",
    "height = [1, 6, 3, 5, 2]\n",
    "\n",
    "def hurdleRace(k, height):\n",
    "    # Write your code here\n",
    "    m = max(height)\n",
    "    if (m > k):\n",
    "        return m - k\n",
    "    return 0\n",
    "\n",
    "hurdleRace(k, height)"
   ]
  },
  {
   "cell_type": "markdown",
   "id": "5548ffb3",
   "metadata": {},
   "source": [
    "# **`Linked List`**"
   ]
  },
  {
   "cell_type": "code",
   "execution_count": 1,
   "id": "714845ab",
   "metadata": {},
   "outputs": [],
   "source": [
    "# Single Linked List\n",
    "\n",
    "class SinglyNode:\n",
    "    def __init__(self, val, next = None):\n",
    "        self.val = val\n",
    "        self.next = next\n",
    "    def __str__(self):\n",
    "        return str(self.val)\n"
   ]
  },
  {
   "cell_type": "code",
   "execution_count": 9,
   "id": "73a5cadd",
   "metadata": {},
   "outputs": [
    {
     "name": "stdout",
     "output_type": "stream",
     "text": [
      "20\n"
     ]
    }
   ],
   "source": [
    "Head = SinglyNode(5)\n",
    "A = SinglyNode(10)\n",
    "B = SinglyNode(15)\n",
    "C = SinglyNode(20)\n",
    "\n",
    "Head.next = A\n",
    "A.next = B\n",
    "B.next = C\n",
    "\n",
    "print(C)"
   ]
  },
  {
   "cell_type": "code",
   "execution_count": 10,
   "id": "1ea98b89",
   "metadata": {},
   "outputs": [
    {
     "name": "stdout",
     "output_type": "stream",
     "text": [
      "5\n",
      "10\n",
      "15\n",
      "20\n"
     ]
    }
   ],
   "source": [
    "#Traverse the list - O(n)\n",
    "\n",
    "curr = Head\n",
    "\n",
    "while curr: #until curr comes to none\n",
    "    print(curr) #print the current value\n",
    "    curr = curr.next"
   ]
  },
  {
   "cell_type": "code",
   "execution_count": 11,
   "id": "13107e42",
   "metadata": {},
   "outputs": [
    {
     "name": "stdout",
     "output_type": "stream",
     "text": [
      "5 -> 10 -> 15 -> 20\n"
     ]
    }
   ],
   "source": [
    "# Display Linked list - O(n)\n",
    "\n",
    "def Display(Head):\n",
    "    curr = Head\n",
    "    elements = []\n",
    "    while curr:\n",
    "        elements.append(str(curr.val))\n",
    "        curr = curr.next\n",
    "    print(' -> '.join(elements))\n",
    "\n",
    "Display(Head)"
   ]
  },
  {
   "cell_type": "code",
   "execution_count": 12,
   "id": "408ff8b0",
   "metadata": {},
   "outputs": [
    {
     "data": {
      "text/plain": [
       "False"
      ]
     },
     "execution_count": 12,
     "metadata": {},
     "output_type": "execute_result"
    }
   ],
   "source": [
    "# Search for node value - O(n)\n",
    "\n",
    "def Search(Head, val):\n",
    "    curr = Head\n",
    "    while curr:\n",
    "        if val == curr.val:\n",
    "            return True\n",
    "        curr = curr.next\n",
    "    return  False\n",
    "\n",
    "Search(Head, 9)"
   ]
  },
  {
   "cell_type": "code",
   "execution_count": null,
   "id": "2a9391e2",
   "metadata": {},
   "outputs": [],
   "source": [
    "Head1 = SinglyNode(10)"
   ]
  },
  {
   "cell_type": "code",
   "execution_count": 37,
   "id": "7b271764",
   "metadata": {},
   "outputs": [
    {
     "data": {
      "text/plain": [
       "-1"
      ]
     },
     "execution_count": 37,
     "metadata": {},
     "output_type": "execute_result"
    }
   ],
   "source": [
    "# Get second node value or else return -1 if none - O(1)\n",
    "\n",
    "def second_value(Head1):\n",
    "    if Head1.next is None:\n",
    "        return -1\n",
    "    else:\n",
    "        return Head1.next.val\n",
    "\n",
    "second_value(Head1) "
   ]
  },
  {
   "cell_type": "code",
   "execution_count": null,
   "id": "6b7d311a",
   "metadata": {},
   "outputs": [
    {
     "data": {
      "text/plain": [
       "20"
      ]
     },
     "execution_count": 45,
     "metadata": {},
     "output_type": "execute_result"
    }
   ],
   "source": [
    "# Get the last node value or else return None if it doesn't exist - O(n)\n",
    "\n",
    "head2 = SinglyNode(10)\n",
    "A = SinglyNode(19)\n",
    "B = SinglyNode(20)\n",
    "\n",
    "head2.next = A\n",
    "A.next = B\n",
    "\n",
    "\n",
    "\n",
    "def last_value(head2):\n",
    "    if not head2:\n",
    "        return None\n",
    "\n",
    "    curr = head2\n",
    "    while curr.next:\n",
    "        curr = curr.next\n",
    "    return curr.val\n",
    "\n",
    "last_value(head2)"
   ]
  },
  {
   "cell_type": "code",
   "execution_count": 8,
   "id": "df735cf7",
   "metadata": {},
   "outputs": [],
   "source": [
    "# Doubly Linked List - O(n)\n",
    "\n",
    "class DoublyNode:\n",
    "    def __init__(self, val, next = None, prev = None):\n",
    "        self.val = val\n",
    "        self.next = next\n",
    "        self.prev = prev\n",
    "    def __str__(self):\n",
    "        return str(self.val)"
   ]
  },
  {
   "cell_type": "code",
   "execution_count": 10,
   "id": "d5c4795d",
   "metadata": {},
   "outputs": [
    {
     "name": "stdout",
     "output_type": "stream",
     "text": [
      "10\n"
     ]
    }
   ],
   "source": [
    "head = tail = DoublyNode(10)\n",
    "print(head)"
   ]
  },
  {
   "cell_type": "code",
   "execution_count": 12,
   "id": "5ddbcd4c",
   "metadata": {},
   "outputs": [
    {
     "name": "stdout",
     "output_type": "stream",
     "text": [
      "10\n"
     ]
    }
   ],
   "source": [
    "# Display for doubly - O(n)\n",
    "\n",
    "def Disp(head):\n",
    "    curr = head\n",
    "    element = []\n",
    "    while curr:\n",
    "        element.append(str(curr.val))\n",
    "        curr = curr.next\n",
    "    print(\" <-> \".join(element))\n",
    "\n",
    "Disp(head)"
   ]
  },
  {
   "cell_type": "code",
   "execution_count": 15,
   "id": "3c6ad65d",
   "metadata": {},
   "outputs": [
    {
     "name": "stdout",
     "output_type": "stream",
     "text": [
      "5\n"
     ]
    }
   ],
   "source": [
    "# Insert at the beginning - O(1)\n",
    "\n",
    "def insert_at_beginning(head, tail, val):\n",
    "    new_node = DoublyNode(val, next = head)\n",
    "    head.prev = new_node\n",
    "    return new_node, tail\n",
    "\n",
    "head, tail = insert_at_beginning(head, tail, 5)\n",
    "print(head)"
   ]
  },
  {
   "cell_type": "code",
   "execution_count": 19,
   "id": "e03f22cb",
   "metadata": {},
   "outputs": [
    {
     "name": "stdout",
     "output_type": "stream",
     "text": [
      "15\n"
     ]
    }
   ],
   "source": [
    "# Insert at the end - O(1)\n",
    "def insert_at_end(head, tail, val):\n",
    "    new_node = DoublyNode(val, prev = tail)\n",
    "    tail.prev = new_node\n",
    "    return tail, new_node\n",
    "\n",
    "head1, tail1 = insert_at_end(head, tail, 15)\n",
    "print(tail1)"
   ]
  },
  {
   "cell_type": "markdown",
   "id": "f9cd187e",
   "metadata": {},
   "source": [
    "## **`Stack`**"
   ]
  },
  {
   "cell_type": "code",
   "execution_count": 1,
   "id": "5f900898",
   "metadata": {},
   "outputs": [
    {
     "data": {
      "text/plain": [
       "['Apple', 'Burger', 'Can']"
      ]
     },
     "execution_count": 1,
     "metadata": {},
     "output_type": "execute_result"
    }
   ],
   "source": [
    "# simple stack\n",
    "s = []\n",
    "s.append(\"Apple\")\n",
    "s.append(\"Burger\")\n",
    "s.append(\"Can\")\n",
    "\n",
    "s"
   ]
  },
  {
   "cell_type": "code",
   "execution_count": 2,
   "id": "812d33f7",
   "metadata": {},
   "outputs": [
    {
     "data": {
      "text/plain": [
       "'Can'"
      ]
     },
     "execution_count": 2,
     "metadata": {},
     "output_type": "execute_result"
    }
   ],
   "source": [
    "#pop the last value\n",
    "s.pop()"
   ]
  },
  {
   "cell_type": "code",
   "execution_count": 3,
   "id": "52ba6023",
   "metadata": {},
   "outputs": [
    {
     "data": {
      "text/plain": [
       "['Apple', 'Burger']"
      ]
     },
     "execution_count": 3,
     "metadata": {},
     "output_type": "execute_result"
    }
   ],
   "source": [
    "s"
   ]
  },
  {
   "cell_type": "code",
   "execution_count": 5,
   "id": "483cd6b1",
   "metadata": {},
   "outputs": [
    {
     "data": {
      "text/plain": [
       "deque(['Apple', 'Burger', 'Can'])"
      ]
     },
     "execution_count": 5,
     "metadata": {},
     "output_type": "execute_result"
    }
   ],
   "source": [
    "from collections import deque\n",
    "stack = deque()\n",
    "\n",
    "stack.append(\"Apple\")\n",
    "stack.append(\"Burger\")\n",
    "stack.append(\"Can\")\n",
    "stack"
   ]
  },
  {
   "cell_type": "code",
   "execution_count": 6,
   "id": "68c2ce26",
   "metadata": {},
   "outputs": [
    {
     "data": {
      "text/plain": [
       "'Can'"
      ]
     },
     "execution_count": 6,
     "metadata": {},
     "output_type": "execute_result"
    }
   ],
   "source": [
    "stack.pop()"
   ]
  },
  {
   "cell_type": "code",
   "execution_count": 44,
   "id": "c5b6bb05",
   "metadata": {},
   "outputs": [],
   "source": [
    "class stack:\n",
    "    def __init__(self):\n",
    "        self.container = deque()\n",
    "    def push(self, val):\n",
    "        self.container.append(val)\n",
    "    def pop(self):\n",
    "        return self.container.pop()\n",
    "    def peek(self):\n",
    "        return self.container[-1]\n",
    "    def peek_first(self):\n",
    "        return self.container[0]\n",
    "    def is_empty(self):\n",
    "        return len(self.container) == 0\n",
    "    def size(self):\n",
    "        return len(self.container)"
   ]
  },
  {
   "cell_type": "code",
   "execution_count": 45,
   "id": "d35fde81",
   "metadata": {},
   "outputs": [],
   "source": [
    "st = stack()\n",
    "\n",
    "st.push('Apple')\n",
    "st.push('Bacon')\n",
    "st.push('Cashew')"
   ]
  },
  {
   "cell_type": "code",
   "execution_count": 46,
   "id": "126e50a2",
   "metadata": {},
   "outputs": [
    {
     "data": {
      "text/plain": [
       "'Cashew'"
      ]
     },
     "execution_count": 46,
     "metadata": {},
     "output_type": "execute_result"
    }
   ],
   "source": [
    "st.peek()"
   ]
  },
  {
   "cell_type": "code",
   "execution_count": 47,
   "id": "03cdd9ce",
   "metadata": {},
   "outputs": [
    {
     "data": {
      "text/plain": [
       "'Apple'"
      ]
     },
     "execution_count": 47,
     "metadata": {},
     "output_type": "execute_result"
    }
   ],
   "source": [
    "st.peek_first()"
   ]
  },
  {
   "cell_type": "code",
   "execution_count": 13,
   "id": "2e0a5e62",
   "metadata": {},
   "outputs": [
    {
     "data": {
      "text/plain": [
       "False"
      ]
     },
     "execution_count": 13,
     "metadata": {},
     "output_type": "execute_result"
    }
   ],
   "source": [
    "st.is_empty()"
   ]
  },
  {
   "cell_type": "code",
   "execution_count": 14,
   "id": "1d796ca0",
   "metadata": {},
   "outputs": [
    {
     "data": {
      "text/plain": [
       "3"
      ]
     },
     "execution_count": 14,
     "metadata": {},
     "output_type": "execute_result"
    }
   ],
   "source": [
    "st.size()"
   ]
  },
  {
   "cell_type": "markdown",
   "id": "c2f41480",
   "metadata": {},
   "source": [
    "# <parque> **`Queue`**"
   ]
  },
  {
   "cell_type": "code",
   "execution_count": 2,
   "id": "c45d52f5",
   "metadata": {},
   "outputs": [
    {
     "data": {
      "text/plain": [
       "[1643, 1533, 1443]"
      ]
     },
     "execution_count": 2,
     "metadata": {},
     "output_type": "execute_result"
    }
   ],
   "source": [
    "#simple queue code method\n",
    "q = []\n",
    "q.insert(0, 1443)\n",
    "q.insert(0, 1533)\n",
    "q.insert(0, 1643)\n",
    "q"
   ]
  },
  {
   "cell_type": "code",
   "execution_count": 3,
   "id": "ae832a20",
   "metadata": {},
   "outputs": [
    {
     "data": {
      "text/plain": [
       "1443"
      ]
     },
     "execution_count": 3,
     "metadata": {},
     "output_type": "execute_result"
    }
   ],
   "source": [
    "q.pop()"
   ]
  },
  {
   "cell_type": "code",
   "execution_count": 6,
   "id": "e43cc6db",
   "metadata": {},
   "outputs": [
    {
     "data": {
      "text/plain": [
       "deque([1523, 1144, 1213])"
      ]
     },
     "execution_count": 6,
     "metadata": {},
     "output_type": "execute_result"
    }
   ],
   "source": [
    "from collections import deque\n",
    "Q = deque()\n",
    "Q.appendleft(1213)\n",
    "Q.appendleft(1144)\n",
    "Q.appendleft(1523)\n",
    "Q"
   ]
  },
  {
   "cell_type": "code",
   "execution_count": 22,
   "id": "588de1f0",
   "metadata": {},
   "outputs": [],
   "source": [
    "class Queue:\n",
    "    def __init__(self):\n",
    "        self.container = deque()\n",
    "    def enqueue(self, val):\n",
    "        self.container.appendleft(val)\n",
    "    def dequeue(self):\n",
    "        return self.container.pop()\n",
    "    def is_empty(self):\n",
    "        return len(self.container) == 0\n",
    "    def size(self):\n",
    "        return len(self.container)"
   ]
  },
  {
   "cell_type": "code",
   "execution_count": 19,
   "id": "631f9b3f",
   "metadata": {},
   "outputs": [],
   "source": [
    "qt = Queue()\n",
    "\n",
    "qt.enqueue(8)\n",
    "qt.enqueue(33)\n",
    "qt.enqueue(22)\n",
    "qt.enqueue(77)"
   ]
  },
  {
   "cell_type": "code",
   "execution_count": 9,
   "id": "5bf54336",
   "metadata": {},
   "outputs": [
    {
     "data": {
      "text/plain": [
       "False"
      ]
     },
     "execution_count": 9,
     "metadata": {},
     "output_type": "execute_result"
    }
   ],
   "source": [
    "qt.is_empty()"
   ]
  },
  {
   "cell_type": "code",
   "execution_count": null,
   "id": "c1c8ea43",
   "metadata": {},
   "outputs": [
    {
     "data": {
      "text/plain": [
       "22"
      ]
     },
     "execution_count": 16,
     "metadata": {},
     "output_type": "execute_result"
    }
   ],
   "source": [
    "qt.dequeue()\n"
   ]
  },
  {
   "cell_type": "code",
   "execution_count": 11,
   "id": "09f9989c",
   "metadata": {},
   "outputs": [
    {
     "data": {
      "text/plain": [
       "2"
      ]
     },
     "execution_count": 11,
     "metadata": {},
     "output_type": "execute_result"
    }
   ],
   "source": [
    "qt.size()"
   ]
  },
  {
   "cell_type": "markdown",
   "id": "347f5ba2",
   "metadata": {},
   "source": [
    "# ***`Tree (General Tree)`***"
   ]
  },
  {
   "cell_type": "code",
   "execution_count": null,
   "id": "df1c69c6",
   "metadata": {},
   "outputs": [
    {
     "name": "stdout",
     "output_type": "stream",
     "text": [
      "Electronics\n",
      "  |__Laptop\n",
      "    |__Asus\n",
      "    |__Acer\n",
      "    |__Lenovo\n",
      "  |__Cellphone\n",
      "    |__Iphone\n",
      "    |__Xiaomi\n",
      "    |__Samsung\n",
      "  |__Television\n",
      "    |__Nvision\n",
      "    |__Samsung\n",
      "    |__HP\n"
     ]
    }
   ],
   "source": [
    "class TreeNode:\n",
    "    def __init__(self, data):\n",
    "        self.data = data\n",
    "        self.children = []\n",
    "        self.parent = None\n",
    "\n",
    "    def add_child(self, child):\n",
    "        child.parent = self\n",
    "        self.children.append(child)\n",
    "\n",
    "    def get_level(self):\n",
    "        level = 0\n",
    "        p = self.parent\n",
    "        while p:\n",
    "            level += 1\n",
    "            p = p.parent\n",
    "\n",
    "        return level\n",
    "\n",
    "    def print_child(self):\n",
    "        spaces = \" \" * self.get_level() * 2\n",
    "        prefix = spaces + \"|__\" if self.parent else \"\"\n",
    "        print(prefix + self.data)\n",
    "        if self.children:\n",
    "            for child in self.children:\n",
    "                child.print_child()\n",
    "\n",
    "def build_product_tree():\n",
    "    root = TreeNode(\"Electronics\")\n",
    "\n",
    "    laptop = TreeNode(\"Laptop\")\n",
    "    laptop.add_child(TreeNode(\"Asus\"))\n",
    "    laptop.add_child(TreeNode(\"Acer\"))\n",
    "    laptop.add_child(TreeNode(\"Lenovo\"))\n",
    "\n",
    "    cellphone = TreeNode(\"Cellphone\")\n",
    "    cellphone.add_child(TreeNode(\"Iphone\"))\n",
    "    cellphone.add_child(TreeNode(\"Xiaomi\"))\n",
    "    cellphone.add_child(TreeNode(\"Samsung\"))\n",
    "\n",
    "    tv = TreeNode(\"Television\")\n",
    "    tv.add_child(TreeNode(\"Nvision\"))\n",
    "    tv.add_child(TreeNode(\"Samsung\"))\n",
    "    tv.add_child(TreeNode(\"HP\"))\n",
    "\n",
    "    root.add_child(laptop)\n",
    "    root.add_child(cellphone)\n",
    "    root.add_child(tv)\n",
    "\n",
    "    return root\n",
    "\n",
    "if __name__ == \"__main__\":\n",
    "    root = build_product_tree()\n",
    "    root.print_child()\n",
    "    pass"
   ]
  },
  {
   "cell_type": "code",
   "execution_count": 22,
   "id": "0b0733aa",
   "metadata": {},
   "outputs": [
    {
     "name": "stdout",
     "output_type": "stream",
     "text": [
      "Michael\n",
      "  |__Alex\n",
      "    |__John\n",
      "      |__Abdul\n",
      "      |__Felix\n",
      "    |__Jay\n",
      "  |__Angel\n",
      "    |__Christine\n",
      "    |__Chastine\n",
      "CEO\n",
      "  |__CTO\n",
      "    |__Infrastructure Head\n",
      "      |__Cloud Manager\n",
      "      |__App Manager\n",
      "    |__Application Head\n",
      "  |__HR Head\n",
      "    |__Recruitment Manager\n",
      "    |__Policy Manager\n",
      "Michael(CEO)\n",
      "  |__Alex(CTO)\n",
      "    |__John(Infrastructure Head)\n",
      "      |__Abdul(Cloud Manager)\n",
      "      |__Felix(App Manager)\n",
      "    |__Jay(Application Head)\n",
      "  |__Angel(HR Head)\n",
      "    |__Christine(Recruitment Manager)\n",
      "    |__Chastine(Policy Manager)\n"
     ]
    }
   ],
   "source": [
    "class TreeNode:\n",
    "    def __init__(self, data, designation):\n",
    "        self.data = data\n",
    "        self.designation = designation\n",
    "        self.children = []\n",
    "        self.parent = None\n",
    "\n",
    "    def add_child(self, child):\n",
    "        child.parent = self\n",
    "        self.children.append(child)\n",
    "\n",
    "\n",
    "    def get_level(self):\n",
    "        level = 0\n",
    "        p = self.parent\n",
    "        while p:\n",
    "            level += 1\n",
    "            p = p.parent\n",
    "\n",
    "        return level\n",
    "\n",
    "    def print_tree(self, prop_name):\n",
    "        if prop_name == \"both\":\n",
    "            val = self.data + \"(\" + self.designation + \")\"\n",
    "        elif prop_name == \"name\":\n",
    "            val = self.data\n",
    "        else:\n",
    "            val = self.designation\n",
    "\n",
    "        spaces = \" \" * self.get_level() * 2\n",
    "        prefix = spaces + \"|__\" if self.parent else \"\"\n",
    "        print(prefix + val)\n",
    "        if self.children:\n",
    "            for child in self.children:\n",
    "                child.print_tree(prop_name)\n",
    "\n",
    "\n",
    "\n",
    "def build_management_tree():\n",
    "    root = TreeNode(\"Michael\", \"CEO\")\n",
    "\n",
    "    cto = TreeNode(\"Alex\", \"CTO\")\n",
    "    infra = TreeNode(\"John\", \"Infrastructure Head\")\n",
    "    infra.add_child(TreeNode(\"Abdul\", \"Cloud Manager\"))\n",
    "    infra.add_child(TreeNode(\"Felix\", \"App Manager\"))\n",
    "\n",
    "    app = TreeNode(\"Jay\", \"Application Head\")\n",
    "    cto.add_child(infra)\n",
    "    cto.add_child(app)\n",
    "\n",
    "    hr = TreeNode(\"Angel\", \"HR Head\")\n",
    "    hr.add_child(TreeNode(\"Christine\", \"Recruitment Manager\"))\n",
    "    hr.add_child(TreeNode(\"Chastine\", \"Policy Manager\"))\n",
    "\n",
    "    root.add_child(cto)\n",
    "    root.add_child(hr)\n",
    "\n",
    "    return root\n",
    "\n",
    "if __name__ == \"__main__\":\n",
    "    root = build_management_tree()\n",
    "    root.print_tree(\"name\")\n",
    "    root.print_tree(\"designation\")\n",
    "    root.print_tree(\"both\")\n",
    "    pass"
   ]
  },
  {
   "cell_type": "code",
   "execution_count": 31,
   "id": "c6659f86",
   "metadata": {},
   "outputs": [
    {
     "name": "stdout",
     "output_type": "stream",
     "text": [
      "Global\n",
      "  |__India\n",
      "    |__Gujat\n",
      "    |__Karnataka\n",
      "  |__USA\n",
      "    |__New Jersey\n",
      "    |__California\n"
     ]
    }
   ],
   "source": [
    "class Tnode:\n",
    "    def __init__(self, data):\n",
    "        self.data = data\n",
    "        self.children = []\n",
    "        self.parent = None\n",
    "\n",
    "    def add_child(self, child):\n",
    "        child.parent = self\n",
    "        self.children.append(child)\n",
    "\n",
    "    def get_level(self):\n",
    "        level = 0\n",
    "        p = self.parent\n",
    "\n",
    "        while p:\n",
    "            level += 1\n",
    "            p = p.parent\n",
    "        return level\n",
    "\n",
    "    def print_tree(self, level):\n",
    "        if self.get_level() > level:\n",
    "            return\n",
    "        spaces = \" \" * self.get_level() * 2\n",
    "        prefix = spaces + \"|__\" if self.parent else \"\"\n",
    "        print(prefix + self.data)\n",
    "        if self.children:\n",
    "            for child in self.children:\n",
    "                child.print_tree(level)\n",
    "\n",
    "def build_location_tree():\n",
    "    root = Tnode(\"Global\")\n",
    "\n",
    "    india = Tnode(\"India\")\n",
    "    guj = Tnode(\"Gujat\")\n",
    "    guj.add_child(Tnode(\"Ahmedabad\"))\n",
    "    guj.add_child(Tnode(\"Baroda\"))\n",
    "    kar = Tnode(\"Karnataka\")\n",
    "    kar.add_child(Tnode(\"Bangluru\"))\n",
    "    kar.add_child(Tnode(\"Mysore\"))\n",
    "\n",
    "    india.add_child(guj)\n",
    "    india.add_child(kar)\n",
    "\n",
    "    usa = Tnode(\"USA\")\n",
    "    nj = Tnode(\"New Jersey\")\n",
    "    nj.add_child(Tnode(\"Princeton\"))\n",
    "    nj.add_child(Tnode(\"Trenton\"))\n",
    "    cali = Tnode(\"California\")\n",
    "    cali.add_child(Tnode(\"San Francisco\"))\n",
    "    cali.add_child(Tnode(\"Mountain View\"))\n",
    "    cali.add_child(Tnode(\"Palo Alto\"))\n",
    "\n",
    "    usa.add_child(nj)\n",
    "    usa.add_child(cali)\n",
    "\n",
    "    root.add_child(india)\n",
    "    root.add_child(usa)\n",
    "    return root\n",
    "\n",
    "if __name__ == \"__main__\":\n",
    "    root = build_location_tree()\n",
    "    root.print_tree(2)\n",
    "    pass\n"
   ]
  },
  {
   "cell_type": "markdown",
   "id": "a7503187",
   "metadata": {},
   "source": [
    "# ***`Binary Tree`***"
   ]
  },
  {
   "cell_type": "markdown",
   "id": "1415029f",
   "metadata": {},
   "source": [
    "#### `Binary Search Tree`\n",
    "##### Breadth first search\n",
    "##### Depth first search\n",
    " - In order traversal [sorted order traversal]\n",
    " - Pre order traversal [start from node to left back to node then righ then left]\n",
    " - Post order traversal [start from left node to right last is the root]"
   ]
  },
  {
   "cell_type": "code",
   "execution_count": null,
   "id": "53506a61",
   "metadata": {},
   "outputs": [],
   "source": []
  }
 ],
 "metadata": {
  "kernelspec": {
   "display_name": "base",
   "language": "python",
   "name": "python3"
  },
  "language_info": {
   "codemirror_mode": {
    "name": "ipython",
    "version": 3
   },
   "file_extension": ".py",
   "mimetype": "text/x-python",
   "name": "python",
   "nbconvert_exporter": "python",
   "pygments_lexer": "ipython3",
   "version": "3.11.5"
  }
 },
 "nbformat": 4,
 "nbformat_minor": 5
}
