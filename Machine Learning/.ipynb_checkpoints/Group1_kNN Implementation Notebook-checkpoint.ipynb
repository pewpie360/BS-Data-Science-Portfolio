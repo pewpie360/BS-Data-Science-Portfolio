{
 "cells": [
  {
   "cell_type": "markdown",
   "id": "abfde41a",
   "metadata": {},
   "source": [
    "# *Bean* There, Done That, *Brew*(Bro): Predicting the Quality of Coffee Taste from Cupping Score Features Using the k-Nearest Neighbor (kNN) Classification Algorithm\n",
    "\n",
    "**BY:** <br> \n",
    "Baguio, Christian Jay <br>\n",
    "Bandivas, Roxanne Mae <br>\n",
    "Barrio, Reyjane Mae <br>\n",
    "Palmes, Jhibsam <br>\n",
    "Sabacajan, Cle Michael <br>\n",
    "Tapao, Mark Vincent"
   ]
  },
  {
   "cell_type": "markdown",
   "id": "058087b3",
   "metadata": {},
   "source": [
    "**Course:** Machine Learning <br/>\n",
    "**Program & Section:** BS in Data Science - DS3A"
   ]
  },
  {
   "cell_type": "markdown",
   "id": "786bed4e",
   "metadata": {},
   "source": [
    "## **☕Introduction**\n",
    "\n",
    "Coffee connoisseurs consider identifying the various subtleties of flavor, fragrance, and overall quality to be an art form. With the increasing demand for specialized coffee experiences, both consumers and producers are continuously looking for ways to assure consistency and perfection in every cup. However, in the quest of coffee perfection, difficulties occur in properly analyzing and forecasting the quality of coffee flavor, which frequently relies on subjective assessments or complicated sensory analysis. While cupping scores, a standardized method for evaluating coffee quality, provide some objectivity, the practice is labor-intensive and requires the knowledge of skilled cuppers. As a result, access to consistent and reliable assessments of coffee taste quality remains limited, hindering both producers and consumers in their quest for the perfect cup.\n",
    "\n",
    "By utilizing the power of data science and machine learning, our initiative intends to improve the way coffee quality is evaluated and predicted. We specifically focus on using the k-Nearest Neighbor (kNN) classification method to examine cupping score characteristics, resulting in an extensive model for predicting coffee flavor and quality. This new technique enables coffee fans and prospective coffee entrepreneurs to make better informed decisions, ensuring that every sip provides a wonderful sensory experience."
   ]
  },
  {
   "cell_type": "markdown",
   "id": "bbb06868",
   "metadata": {},
   "source": [
    "## **☕Data Discussion**\n",
    "\n",
    "These data contain reviews of 1312 arabica and 28 robusta coffee beans from the Coffee Quality Institute's trained reviewers.\n",
    "\n",
    "<br>\n",
    "\n",
    "**Features and Attributes:**\n",
    "\n",
    "**Certification Information** <br>\n",
    "`Country of Origin:` The country where the coffee beans were grown. <br>\n",
    "`Farm Name:` The name of the farm where the coffee beans were produced. <br>\n",
    "`Lot Number:` The unique identifier for a specific lot of coffee beans. <br>\n",
    "`Mill:` The mill or processing facility where the coffee beans were processed. <br>\n",
    "`ICO Number:` The International Coffee Organization (ICO) number associated with the coffee. <br>\n",
    "`Company:` The company or organization responsible for the coffee. <br>\n",
    "`Altitude:` The altitude at which the coffee beans were grown. <br>\n",
    "`Region:` The region or geographical area where the coffee beans were produced. <br>\n",
    "`Producer:` The individual or entity that produced the coffee beans. <br>\n",
    "`Number of Bags:` The total number of bags of coffee beans. <br>\n",
    "`Bag Weight:` The weight of each bag of coffee beans. <br>\n",
    "`In-Country Partner:` The local partner or representative involved in the coffee certification process. <br>\n",
    "`Harvest Year:` The year when the coffee beans were harvested. <br>\n",
    "`Grading Date:` The date when the coffee beans were graded. <br>\n",
    "`Owner:` The owner or owner's representative of the coffee beans. <br>\n",
    "`Variety:` The variety or type of coffee beans. <br>\n",
    "`Status:` The status or condition of the coffee beans. <br>\n",
    "`Processing Method:` The method used to process the coffee beans. <br>\n",
    "\n",
    "**Cupping Scores** <br>\n",
    "`Aroma:` The score or rating for the aroma of the coffee. <br>\n",
    "`Flavor:` The score or rating for the flavor of the coffee. <br>\n",
    "`Aftertaste:` The score or rating for the aftertaste of the coffee. <br>\n",
    "`Acidity:` The score or rating for the acidity of the coffee. <br>\n",
    "`Body:` The score or rating for the body or mouthfeel of the coffee. <br>\n",
    "`Balance:` The score or rating for the balance of the coffee's flavors. <br>\n",
    "`Uniformity:` The score or rating for the uniformity of the coffee. <br>\n",
    "`Clean Cup:` The score or rating for the cleanliness of the coffee. <br>\n",
    "`Sweetness:` The score or rating for the sweetness of the coffee. <br>\n",
    "`Total Cup Points:` The total score or rating for the coffee based on cupping evaluation. <br>\n",
    "`Overall:` The overall score or rating for the coffee. <br>\n",
    "\n",
    "**Green Analysis** <br>\n",
    "`Moisture:` The moisture content of the green coffee beans. <br>\n",
    "`Color:` The color of the green coffee beans. <br>\n",
    "`Defects:` The number of defects found in the coffee beans, numbers of full defects are calculated on a basis of 350 grams of green coffee sample. <br>\n",
    "`Category One Defects:` The number of defects categorized as \"Category One.\" Identified as full black or sour bean, pod/cherry, and large or medium sticks or stones. <br>\n",
    "`Category Two Defects:` The number of defects categorized as \"Category Two.\" Identified as parchment, hull/husk, broken/chipped, insect damage, partial black or sour, shell, small sticks or stones, water damage. <br>\n",
    "`Quakers:` The presence or number of quaker beans, which are underdeveloped or defective beans. <br>\n",
    "\n",
    "**Sample Information** <br>\n",
    "`Expiration:` The expiration date of the coffee certification. <br>\n",
    "`Certification Body:` The organization responsible for certifying the coffee. <br>\n",
    "`Certification Address:` The address of the certification body. <br>\n",
    "`Certification Contact:` The contact information for the certification body. <br>\n",
    "\n",
    "<br>\n",
    "\n",
    "**Citation** \n",
    "\n",
    "ehmtang. (2023). Coffee Quality Institute Arabica Reviews May2023. (<a href=\"https://www.kaggle.com/datasets/erwinhmtang/coffee-quality-institute-reviews-may2023/data\">Kaggle.com</a>) <br>\n",
    "Coffee Quality Institute, & Eximware Inc. (2014). Home - Q Coffee System. (<a href=\"https://database.coffeeinstitute.org/\">Coffeeinstitute.org</a>) <br>"
   ]
  },
  {
   "cell_type": "markdown",
   "id": "5ef618fa",
   "metadata": {},
   "source": [
    "### 🔃 Import Necessary Libraries"
   ]
  },
  {
   "cell_type": "code",
   "execution_count": 2,
   "id": "4068a897",
   "metadata": {},
   "outputs": [],
   "source": [
    "import numpy as np\n",
    "import pandas as pd\n",
    "import seaborn as sns\n",
    "import matplotlib.pyplot as plt\n",
    "%matplotlib inline\n",
    "\n",
    "from sklearn.neighbors import KNeighborsClassifier\n",
    "from sklearn.model_selection import train_test_split as tts\n",
    "from sklearn.metrics import classification_report\n",
    "from collections import Counter\n",
    "\n",
    "import warnings\n",
    "warnings.filterwarnings(\"ignore\")"
   ]
  },
  {
   "cell_type": "markdown",
   "id": "60d5162d",
   "metadata": {},
   "source": [
    "### 📩 Load Dataset"
   ]
  },
  {
   "cell_type": "code",
   "execution_count": 3,
   "id": "f58510a2",
   "metadata": {},
   "outputs": [
    {
     "ename": "FileNotFoundError",
     "evalue": "[Errno 2] No such file or directory: 'coffee.csv'",
     "output_type": "error",
     "traceback": [
      "\u001b[1;31m---------------------------------------------------------------------------\u001b[0m",
      "\u001b[1;31mFileNotFoundError\u001b[0m                         Traceback (most recent call last)",
      "Cell \u001b[1;32mIn[3], line 1\u001b[0m\n\u001b[1;32m----> 1\u001b[0m df \u001b[38;5;241m=\u001b[39m pd\u001b[38;5;241m.\u001b[39mread_csv(\u001b[38;5;124m'\u001b[39m\u001b[38;5;124mcoffee.csv\u001b[39m\u001b[38;5;124m'\u001b[39m)\n\u001b[0;32m      2\u001b[0m df\n",
      "File \u001b[1;32m~\\anaconda3\\Lib\\site-packages\\pandas\\util\\_decorators.py:211\u001b[0m, in \u001b[0;36mdeprecate_kwarg.<locals>._deprecate_kwarg.<locals>.wrapper\u001b[1;34m(*args, **kwargs)\u001b[0m\n\u001b[0;32m    209\u001b[0m     \u001b[38;5;28;01melse\u001b[39;00m:\n\u001b[0;32m    210\u001b[0m         kwargs[new_arg_name] \u001b[38;5;241m=\u001b[39m new_arg_value\n\u001b[1;32m--> 211\u001b[0m \u001b[38;5;28;01mreturn\u001b[39;00m func(\u001b[38;5;241m*\u001b[39margs, \u001b[38;5;241m*\u001b[39m\u001b[38;5;241m*\u001b[39mkwargs)\n",
      "File \u001b[1;32m~\\anaconda3\\Lib\\site-packages\\pandas\\util\\_decorators.py:331\u001b[0m, in \u001b[0;36mdeprecate_nonkeyword_arguments.<locals>.decorate.<locals>.wrapper\u001b[1;34m(*args, **kwargs)\u001b[0m\n\u001b[0;32m    325\u001b[0m \u001b[38;5;28;01mif\u001b[39;00m \u001b[38;5;28mlen\u001b[39m(args) \u001b[38;5;241m>\u001b[39m num_allow_args:\n\u001b[0;32m    326\u001b[0m     warnings\u001b[38;5;241m.\u001b[39mwarn(\n\u001b[0;32m    327\u001b[0m         msg\u001b[38;5;241m.\u001b[39mformat(arguments\u001b[38;5;241m=\u001b[39m_format_argument_list(allow_args)),\n\u001b[0;32m    328\u001b[0m         \u001b[38;5;167;01mFutureWarning\u001b[39;00m,\n\u001b[0;32m    329\u001b[0m         stacklevel\u001b[38;5;241m=\u001b[39mfind_stack_level(),\n\u001b[0;32m    330\u001b[0m     )\n\u001b[1;32m--> 331\u001b[0m \u001b[38;5;28;01mreturn\u001b[39;00m func(\u001b[38;5;241m*\u001b[39margs, \u001b[38;5;241m*\u001b[39m\u001b[38;5;241m*\u001b[39mkwargs)\n",
      "File \u001b[1;32m~\\anaconda3\\Lib\\site-packages\\pandas\\io\\parsers\\readers.py:950\u001b[0m, in \u001b[0;36mread_csv\u001b[1;34m(filepath_or_buffer, sep, delimiter, header, names, index_col, usecols, squeeze, prefix, mangle_dupe_cols, dtype, engine, converters, true_values, false_values, skipinitialspace, skiprows, skipfooter, nrows, na_values, keep_default_na, na_filter, verbose, skip_blank_lines, parse_dates, infer_datetime_format, keep_date_col, date_parser, dayfirst, cache_dates, iterator, chunksize, compression, thousands, decimal, lineterminator, quotechar, quoting, doublequote, escapechar, comment, encoding, encoding_errors, dialect, error_bad_lines, warn_bad_lines, on_bad_lines, delim_whitespace, low_memory, memory_map, float_precision, storage_options)\u001b[0m\n\u001b[0;32m    935\u001b[0m kwds_defaults \u001b[38;5;241m=\u001b[39m _refine_defaults_read(\n\u001b[0;32m    936\u001b[0m     dialect,\n\u001b[0;32m    937\u001b[0m     delimiter,\n\u001b[1;32m   (...)\u001b[0m\n\u001b[0;32m    946\u001b[0m     defaults\u001b[38;5;241m=\u001b[39m{\u001b[38;5;124m\"\u001b[39m\u001b[38;5;124mdelimiter\u001b[39m\u001b[38;5;124m\"\u001b[39m: \u001b[38;5;124m\"\u001b[39m\u001b[38;5;124m,\u001b[39m\u001b[38;5;124m\"\u001b[39m},\n\u001b[0;32m    947\u001b[0m )\n\u001b[0;32m    948\u001b[0m kwds\u001b[38;5;241m.\u001b[39mupdate(kwds_defaults)\n\u001b[1;32m--> 950\u001b[0m \u001b[38;5;28;01mreturn\u001b[39;00m _read(filepath_or_buffer, kwds)\n",
      "File \u001b[1;32m~\\anaconda3\\Lib\\site-packages\\pandas\\io\\parsers\\readers.py:605\u001b[0m, in \u001b[0;36m_read\u001b[1;34m(filepath_or_buffer, kwds)\u001b[0m\n\u001b[0;32m    602\u001b[0m _validate_names(kwds\u001b[38;5;241m.\u001b[39mget(\u001b[38;5;124m\"\u001b[39m\u001b[38;5;124mnames\u001b[39m\u001b[38;5;124m\"\u001b[39m, \u001b[38;5;28;01mNone\u001b[39;00m))\n\u001b[0;32m    604\u001b[0m \u001b[38;5;66;03m# Create the parser.\u001b[39;00m\n\u001b[1;32m--> 605\u001b[0m parser \u001b[38;5;241m=\u001b[39m TextFileReader(filepath_or_buffer, \u001b[38;5;241m*\u001b[39m\u001b[38;5;241m*\u001b[39mkwds)\n\u001b[0;32m    607\u001b[0m \u001b[38;5;28;01mif\u001b[39;00m chunksize \u001b[38;5;129;01mor\u001b[39;00m iterator:\n\u001b[0;32m    608\u001b[0m     \u001b[38;5;28;01mreturn\u001b[39;00m parser\n",
      "File \u001b[1;32m~\\anaconda3\\Lib\\site-packages\\pandas\\io\\parsers\\readers.py:1442\u001b[0m, in \u001b[0;36mTextFileReader.__init__\u001b[1;34m(self, f, engine, **kwds)\u001b[0m\n\u001b[0;32m   1439\u001b[0m     \u001b[38;5;28mself\u001b[39m\u001b[38;5;241m.\u001b[39moptions[\u001b[38;5;124m\"\u001b[39m\u001b[38;5;124mhas_index_names\u001b[39m\u001b[38;5;124m\"\u001b[39m] \u001b[38;5;241m=\u001b[39m kwds[\u001b[38;5;124m\"\u001b[39m\u001b[38;5;124mhas_index_names\u001b[39m\u001b[38;5;124m\"\u001b[39m]\n\u001b[0;32m   1441\u001b[0m \u001b[38;5;28mself\u001b[39m\u001b[38;5;241m.\u001b[39mhandles: IOHandles \u001b[38;5;241m|\u001b[39m \u001b[38;5;28;01mNone\u001b[39;00m \u001b[38;5;241m=\u001b[39m \u001b[38;5;28;01mNone\u001b[39;00m\n\u001b[1;32m-> 1442\u001b[0m \u001b[38;5;28mself\u001b[39m\u001b[38;5;241m.\u001b[39m_engine \u001b[38;5;241m=\u001b[39m \u001b[38;5;28mself\u001b[39m\u001b[38;5;241m.\u001b[39m_make_engine(f, \u001b[38;5;28mself\u001b[39m\u001b[38;5;241m.\u001b[39mengine)\n",
      "File \u001b[1;32m~\\anaconda3\\Lib\\site-packages\\pandas\\io\\parsers\\readers.py:1735\u001b[0m, in \u001b[0;36mTextFileReader._make_engine\u001b[1;34m(self, f, engine)\u001b[0m\n\u001b[0;32m   1733\u001b[0m     \u001b[38;5;28;01mif\u001b[39;00m \u001b[38;5;124m\"\u001b[39m\u001b[38;5;124mb\u001b[39m\u001b[38;5;124m\"\u001b[39m \u001b[38;5;129;01mnot\u001b[39;00m \u001b[38;5;129;01min\u001b[39;00m mode:\n\u001b[0;32m   1734\u001b[0m         mode \u001b[38;5;241m+\u001b[39m\u001b[38;5;241m=\u001b[39m \u001b[38;5;124m\"\u001b[39m\u001b[38;5;124mb\u001b[39m\u001b[38;5;124m\"\u001b[39m\n\u001b[1;32m-> 1735\u001b[0m \u001b[38;5;28mself\u001b[39m\u001b[38;5;241m.\u001b[39mhandles \u001b[38;5;241m=\u001b[39m get_handle(\n\u001b[0;32m   1736\u001b[0m     f,\n\u001b[0;32m   1737\u001b[0m     mode,\n\u001b[0;32m   1738\u001b[0m     encoding\u001b[38;5;241m=\u001b[39m\u001b[38;5;28mself\u001b[39m\u001b[38;5;241m.\u001b[39moptions\u001b[38;5;241m.\u001b[39mget(\u001b[38;5;124m\"\u001b[39m\u001b[38;5;124mencoding\u001b[39m\u001b[38;5;124m\"\u001b[39m, \u001b[38;5;28;01mNone\u001b[39;00m),\n\u001b[0;32m   1739\u001b[0m     compression\u001b[38;5;241m=\u001b[39m\u001b[38;5;28mself\u001b[39m\u001b[38;5;241m.\u001b[39moptions\u001b[38;5;241m.\u001b[39mget(\u001b[38;5;124m\"\u001b[39m\u001b[38;5;124mcompression\u001b[39m\u001b[38;5;124m\"\u001b[39m, \u001b[38;5;28;01mNone\u001b[39;00m),\n\u001b[0;32m   1740\u001b[0m     memory_map\u001b[38;5;241m=\u001b[39m\u001b[38;5;28mself\u001b[39m\u001b[38;5;241m.\u001b[39moptions\u001b[38;5;241m.\u001b[39mget(\u001b[38;5;124m\"\u001b[39m\u001b[38;5;124mmemory_map\u001b[39m\u001b[38;5;124m\"\u001b[39m, \u001b[38;5;28;01mFalse\u001b[39;00m),\n\u001b[0;32m   1741\u001b[0m     is_text\u001b[38;5;241m=\u001b[39mis_text,\n\u001b[0;32m   1742\u001b[0m     errors\u001b[38;5;241m=\u001b[39m\u001b[38;5;28mself\u001b[39m\u001b[38;5;241m.\u001b[39moptions\u001b[38;5;241m.\u001b[39mget(\u001b[38;5;124m\"\u001b[39m\u001b[38;5;124mencoding_errors\u001b[39m\u001b[38;5;124m\"\u001b[39m, \u001b[38;5;124m\"\u001b[39m\u001b[38;5;124mstrict\u001b[39m\u001b[38;5;124m\"\u001b[39m),\n\u001b[0;32m   1743\u001b[0m     storage_options\u001b[38;5;241m=\u001b[39m\u001b[38;5;28mself\u001b[39m\u001b[38;5;241m.\u001b[39moptions\u001b[38;5;241m.\u001b[39mget(\u001b[38;5;124m\"\u001b[39m\u001b[38;5;124mstorage_options\u001b[39m\u001b[38;5;124m\"\u001b[39m, \u001b[38;5;28;01mNone\u001b[39;00m),\n\u001b[0;32m   1744\u001b[0m )\n\u001b[0;32m   1745\u001b[0m \u001b[38;5;28;01massert\u001b[39;00m \u001b[38;5;28mself\u001b[39m\u001b[38;5;241m.\u001b[39mhandles \u001b[38;5;129;01mis\u001b[39;00m \u001b[38;5;129;01mnot\u001b[39;00m \u001b[38;5;28;01mNone\u001b[39;00m\n\u001b[0;32m   1746\u001b[0m f \u001b[38;5;241m=\u001b[39m \u001b[38;5;28mself\u001b[39m\u001b[38;5;241m.\u001b[39mhandles\u001b[38;5;241m.\u001b[39mhandle\n",
      "File \u001b[1;32m~\\anaconda3\\Lib\\site-packages\\pandas\\io\\common.py:856\u001b[0m, in \u001b[0;36mget_handle\u001b[1;34m(path_or_buf, mode, encoding, compression, memory_map, is_text, errors, storage_options)\u001b[0m\n\u001b[0;32m    851\u001b[0m \u001b[38;5;28;01melif\u001b[39;00m \u001b[38;5;28misinstance\u001b[39m(handle, \u001b[38;5;28mstr\u001b[39m):\n\u001b[0;32m    852\u001b[0m     \u001b[38;5;66;03m# Check whether the filename is to be opened in binary mode.\u001b[39;00m\n\u001b[0;32m    853\u001b[0m     \u001b[38;5;66;03m# Binary mode does not support 'encoding' and 'newline'.\u001b[39;00m\n\u001b[0;32m    854\u001b[0m     \u001b[38;5;28;01mif\u001b[39;00m ioargs\u001b[38;5;241m.\u001b[39mencoding \u001b[38;5;129;01mand\u001b[39;00m \u001b[38;5;124m\"\u001b[39m\u001b[38;5;124mb\u001b[39m\u001b[38;5;124m\"\u001b[39m \u001b[38;5;129;01mnot\u001b[39;00m \u001b[38;5;129;01min\u001b[39;00m ioargs\u001b[38;5;241m.\u001b[39mmode:\n\u001b[0;32m    855\u001b[0m         \u001b[38;5;66;03m# Encoding\u001b[39;00m\n\u001b[1;32m--> 856\u001b[0m         handle \u001b[38;5;241m=\u001b[39m \u001b[38;5;28mopen\u001b[39m(\n\u001b[0;32m    857\u001b[0m             handle,\n\u001b[0;32m    858\u001b[0m             ioargs\u001b[38;5;241m.\u001b[39mmode,\n\u001b[0;32m    859\u001b[0m             encoding\u001b[38;5;241m=\u001b[39mioargs\u001b[38;5;241m.\u001b[39mencoding,\n\u001b[0;32m    860\u001b[0m             errors\u001b[38;5;241m=\u001b[39merrors,\n\u001b[0;32m    861\u001b[0m             newline\u001b[38;5;241m=\u001b[39m\u001b[38;5;124m\"\u001b[39m\u001b[38;5;124m\"\u001b[39m,\n\u001b[0;32m    862\u001b[0m         )\n\u001b[0;32m    863\u001b[0m     \u001b[38;5;28;01melse\u001b[39;00m:\n\u001b[0;32m    864\u001b[0m         \u001b[38;5;66;03m# Binary mode\u001b[39;00m\n\u001b[0;32m    865\u001b[0m         handle \u001b[38;5;241m=\u001b[39m \u001b[38;5;28mopen\u001b[39m(handle, ioargs\u001b[38;5;241m.\u001b[39mmode)\n",
      "\u001b[1;31mFileNotFoundError\u001b[0m: [Errno 2] No such file or directory: 'coffee.csv'"
     ]
    }
   ],
   "source": [
    "df = pd.read_csv('coffee.csv')\n",
    "df"
   ]
  },
  {
   "cell_type": "markdown",
   "id": "a02cb923-3c89-4b35-ba16-1f24ef508708",
   "metadata": {},
   "source": [
    "### 🔎 Data Understanding"
   ]
  },
  {
   "cell_type": "code",
   "execution_count": 1,
   "id": "394c284c-bcae-4d15-b5cf-88cf6b659543",
   "metadata": {},
   "outputs": [
    {
     "ename": "NameError",
     "evalue": "name 'df' is not defined",
     "output_type": "error",
     "traceback": [
      "\u001b[1;31m---------------------------------------------------------------------------\u001b[0m",
      "\u001b[1;31mNameError\u001b[0m                                 Traceback (most recent call last)",
      "Cell \u001b[1;32mIn[1], line 2\u001b[0m\n\u001b[0;32m      1\u001b[0m \u001b[38;5;66;03m#Get information about the dataset.\u001b[39;00m\n\u001b[1;32m----> 2\u001b[0m df\u001b[38;5;241m.\u001b[39minfo()\n",
      "\u001b[1;31mNameError\u001b[0m: name 'df' is not defined"
     ]
    }
   ],
   "source": [
    "#Get information about the dataset.\n",
    "df.info()"
   ]
  },
  {
   "cell_type": "code",
   "execution_count": null,
   "id": "c9f8f3d4-01dc-4f31-bfc6-4284fd04da27",
   "metadata": {},
   "outputs": [],
   "source": [
    "#check for null values.\n",
    "cq_df.isna().sum()"
   ]
  },
  {
   "cell_type": "code",
   "execution_count": null,
   "id": "8ad83040-9311-4151-b9c5-db4ce312f5b9",
   "metadata": {},
   "outputs": [],
   "source": [
    "df.shape\n",
    "df.columns"
   ]
  },
  {
   "cell_type": "markdown",
   "id": "04c9e4e9-7f47-4fe1-b549-99963fe758c7",
   "metadata": {},
   "source": [
    "### 🖩 Calculate the percentage of missing values"
   ]
  },
  {
   "cell_type": "code",
   "execution_count": null,
   "id": "b74f7f08-d558-4653-8360-f3868226c734",
   "metadata": {},
   "outputs": [],
   "source": [
    "#check percentage for Status.\n",
    "Status_nan_percentage = cq_df.Status.isna().sum()/len(cq_df)*100\n",
    "\"{} % of values in status columns are missing\".format(round(Status_nan_percentage, 2))"
   ]
  },
  {
   "cell_type": "code",
   "execution_count": null,
   "id": "f7bcd9a6-ccdd-4403-ab37-bb8a5a07c2ab",
   "metadata": {},
   "outputs": [],
   "source": [
    "#check percentage for Defects.\n",
    "Defects_nan_percentage = cq_df.Defects.isna().sum()/len(cq_df)*100\n",
    "\"{} % of values in defects columns are missing\".format(round(Defects_nan_percentage, 2))"
   ]
  },
  {
   "cell_type": "markdown",
   "id": "39b94ac3-186b-4fee-8c11-01c4839a9e99",
   "metadata": {},
   "source": [
    "This indicates that majority values of status and defects are missing. Best approach for this one is to remove from the dataset."
   ]
  },
  {
   "cell_type": "code",
   "execution_count": null,
   "id": "5809ea4b-03e7-446c-911a-fc5a60609e51",
   "metadata": {},
   "outputs": [],
   "source": [
    "df.drop(['Status','Defects'], axis = 1, inplace = True)"
   ]
  },
  {
   "cell_type": "markdown",
   "id": "d580913a",
   "metadata": {},
   "source": [
    "### **🔎 Examine Dataset (EDA)**"
   ]
  },
  {
   "cell_type": "markdown",
   "id": "d999944e-8e52-4b81-b0ad-f0cbbfb94f12",
   "metadata": {},
   "source": [
    "### 🖩 Data Imputation"
   ]
  },
  {
   "cell_type": "code",
   "execution_count": null,
   "id": "61fe9f91-6122-4795-8654-8143cc4537e9",
   "metadata": {},
   "outputs": [],
   "source": [
    "#Fill each attributes with nan values with their mean values\n",
    "df = df.fillna(df.mean())"
   ]
  },
  {
   "cell_type": "code",
   "execution_count": null,
   "id": "dd881ade-59e7-46d7-8cec-f87e7ffb272f",
   "metadata": {},
   "outputs": [],
   "source": [
    "#check for duplicated data\n",
    "df.loc[df.duplicated()]"
   ]
  },
  {
   "cell_type": "code",
   "execution_count": null,
   "id": "ef528880-a0e4-4f66-ac07-86a20784bfa5",
   "metadata": {},
   "outputs": [],
   "source": [
    "#check for duplicated values in coffee id\n",
    "df.loc[df.duplicated(subset = ['coffee_id'])].head(5)"
   ]
  },
  {
   "cell_type": "code",
   "execution_count": null,
   "id": "5405c352-a251-4b02-8331-d9d77fe2c4ae",
   "metadata": {},
   "outputs": [],
   "source": [
    "#check for duplicate instances in coffee id.\n",
    "df.query('coffee_id == 781706')"
   ]
  },
  {
   "cell_type": "markdown",
   "id": "b73409a9-2482-4b14-9437-0faca5c5588e",
   "metadata": {},
   "source": [
    "## 🔎 Descriptive Statistics\n",
    "\n",
    "Summary statistic that quantitatively describes or summarizes features from a collection of information, while descriptive statistics is the process of using and analysing those statistics."
   ]
  },
  {
   "cell_type": "code",
   "execution_count": 8,
   "id": "32d66b7d",
   "metadata": {},
   "outputs": [
    {
     "data": {
      "text/html": [
       "<div>\n",
       "<style scoped>\n",
       "    .dataframe tbody tr th:only-of-type {\n",
       "        vertical-align: middle;\n",
       "    }\n",
       "\n",
       "    .dataframe tbody tr th {\n",
       "        vertical-align: top;\n",
       "    }\n",
       "\n",
       "    .dataframe thead th {\n",
       "        text-align: right;\n",
       "    }\n",
       "</style>\n",
       "<table border=\"1\" class=\"dataframe\">\n",
       "  <thead>\n",
       "    <tr style=\"text-align: right;\">\n",
       "      <th></th>\n",
       "      <th>count</th>\n",
       "      <th>mean</th>\n",
       "      <th>std</th>\n",
       "      <th>min</th>\n",
       "      <th>25%</th>\n",
       "      <th>50%</th>\n",
       "      <th>75%</th>\n",
       "      <th>max</th>\n",
       "    </tr>\n",
       "  </thead>\n",
       "  <tbody>\n",
       "    <tr>\n",
       "      <th>Aroma</th>\n",
       "      <td>1509.0</td>\n",
       "      <td>7.585991</td>\n",
       "      <td>0.371316</td>\n",
       "      <td>0.0</td>\n",
       "      <td>7.42</td>\n",
       "      <td>7.58</td>\n",
       "      <td>7.75</td>\n",
       "      <td>8.75</td>\n",
       "    </tr>\n",
       "    <tr>\n",
       "      <th>Flavor</th>\n",
       "      <td>1509.0</td>\n",
       "      <td>7.548615</td>\n",
       "      <td>0.393472</td>\n",
       "      <td>0.0</td>\n",
       "      <td>7.33</td>\n",
       "      <td>7.58</td>\n",
       "      <td>7.75</td>\n",
       "      <td>8.83</td>\n",
       "    </tr>\n",
       "    <tr>\n",
       "      <th>Aftertaste</th>\n",
       "      <td>1509.0</td>\n",
       "      <td>7.425964</td>\n",
       "      <td>0.396179</td>\n",
       "      <td>0.0</td>\n",
       "      <td>7.25</td>\n",
       "      <td>7.42</td>\n",
       "      <td>7.67</td>\n",
       "      <td>8.67</td>\n",
       "    </tr>\n",
       "    <tr>\n",
       "      <th>Acidity</th>\n",
       "      <td>1509.0</td>\n",
       "      <td>7.554758</td>\n",
       "      <td>0.371626</td>\n",
       "      <td>0.0</td>\n",
       "      <td>7.33</td>\n",
       "      <td>7.58</td>\n",
       "      <td>7.75</td>\n",
       "      <td>8.75</td>\n",
       "    </tr>\n",
       "    <tr>\n",
       "      <th>Body</th>\n",
       "      <td>1509.0</td>\n",
       "      <td>7.534791</td>\n",
       "      <td>0.347488</td>\n",
       "      <td>0.0</td>\n",
       "      <td>7.33</td>\n",
       "      <td>7.50</td>\n",
       "      <td>7.75</td>\n",
       "      <td>8.58</td>\n",
       "    </tr>\n",
       "    <tr>\n",
       "      <th>Balance</th>\n",
       "      <td>1509.0</td>\n",
       "      <td>7.535726</td>\n",
       "      <td>0.391863</td>\n",
       "      <td>0.0</td>\n",
       "      <td>7.33</td>\n",
       "      <td>7.58</td>\n",
       "      <td>7.75</td>\n",
       "      <td>8.75</td>\n",
       "    </tr>\n",
       "    <tr>\n",
       "      <th>Uniformity</th>\n",
       "      <td>1509.0</td>\n",
       "      <td>9.853930</td>\n",
       "      <td>0.525392</td>\n",
       "      <td>0.0</td>\n",
       "      <td>10.00</td>\n",
       "      <td>10.00</td>\n",
       "      <td>10.00</td>\n",
       "      <td>10.00</td>\n",
       "    </tr>\n",
       "    <tr>\n",
       "      <th>Clean_Cup</th>\n",
       "      <td>1509.0</td>\n",
       "      <td>9.855017</td>\n",
       "      <td>0.721136</td>\n",
       "      <td>0.0</td>\n",
       "      <td>10.00</td>\n",
       "      <td>10.00</td>\n",
       "      <td>10.00</td>\n",
       "      <td>10.00</td>\n",
       "    </tr>\n",
       "    <tr>\n",
       "      <th>Sweetness</th>\n",
       "      <td>1509.0</td>\n",
       "      <td>9.915964</td>\n",
       "      <td>0.495834</td>\n",
       "      <td>0.0</td>\n",
       "      <td>10.00</td>\n",
       "      <td>10.00</td>\n",
       "      <td>10.00</td>\n",
       "      <td>10.00</td>\n",
       "    </tr>\n",
       "    <tr>\n",
       "      <th>Total_Cup_Points</th>\n",
       "      <td>1509.0</td>\n",
       "      <td>82.333612</td>\n",
       "      <td>3.378540</td>\n",
       "      <td>0.0</td>\n",
       "      <td>81.42</td>\n",
       "      <td>82.67</td>\n",
       "      <td>83.83</td>\n",
       "      <td>90.58</td>\n",
       "    </tr>\n",
       "    <tr>\n",
       "      <th>Overall</th>\n",
       "      <td>1509.0</td>\n",
       "      <td>0.488403</td>\n",
       "      <td>0.500031</td>\n",
       "      <td>0.0</td>\n",
       "      <td>0.00</td>\n",
       "      <td>0.00</td>\n",
       "      <td>1.00</td>\n",
       "      <td>1.00</td>\n",
       "    </tr>\n",
       "  </tbody>\n",
       "</table>\n",
       "</div>"
      ],
      "text/plain": [
       "                   count       mean       std  min    25%    50%    75%    max\n",
       "Aroma             1509.0   7.585991  0.371316  0.0   7.42   7.58   7.75   8.75\n",
       "Flavor            1509.0   7.548615  0.393472  0.0   7.33   7.58   7.75   8.83\n",
       "Aftertaste        1509.0   7.425964  0.396179  0.0   7.25   7.42   7.67   8.67\n",
       "Acidity           1509.0   7.554758  0.371626  0.0   7.33   7.58   7.75   8.75\n",
       "Body              1509.0   7.534791  0.347488  0.0   7.33   7.50   7.75   8.58\n",
       "Balance           1509.0   7.535726  0.391863  0.0   7.33   7.58   7.75   8.75\n",
       "Uniformity        1509.0   9.853930  0.525392  0.0  10.00  10.00  10.00  10.00\n",
       "Clean_Cup         1509.0   9.855017  0.721136  0.0  10.00  10.00  10.00  10.00\n",
       "Sweetness         1509.0   9.915964  0.495834  0.0  10.00  10.00  10.00  10.00\n",
       "Total_Cup_Points  1509.0  82.333612  3.378540  0.0  81.42  82.67  83.83  90.58\n",
       "Overall           1509.0   0.488403  0.500031  0.0   0.00   0.00   1.00   1.00"
      ]
     },
     "execution_count": 8,
     "metadata": {},
     "output_type": "execute_result"
    }
   ],
   "source": [
    "cupping_score.describe().T"
   ]
  },
  {
   "cell_type": "markdown",
   "id": "469d3853-3314-4bb4-8e82-3cc5abe58973",
   "metadata": {},
   "source": [
    "Above, we have a table showing the descriptive analysis of the attributes and its instances of the dataset used. Let us examine the attributes one by one.\n",
    "\n",
    "1. Aroma: <br>\n",
    "    > The average percentage aroma rating is 7.5. The standard deviation is at 0.37. The minimum is 0 while the maximum rating is at 8.75. 25% of aroma rating rated 7.4, 50% of aroma rating rated 7.5, and 75% of the aroma rating rated 7.7.\n",
    "<br>\n",
    "2. Flavor: <br>\n",
    "    > The average rating for the flavor of the coffee is 7.54. The standard deviation is 0.39. the minimum is 0 while the maximum flavor rate is 8.83. 25% of the flavor rated 7.3, 50% of the flavor rated 7.5, and 75% of the flavor rated 7.75.\n",
    "<br>\n",
    "3. Aftertaste: <br>\n",
    "    > The average rating for the aftertaste of the coffee is 7.4. The standard deviation is at 0.40. The minimum 0 while the maximum aftertaste rating is 8.6. 25% rated 7.2, 50% rated 7.4, and 75% rated 7.6.\n",
    "<br>\n",
    "4. Acidity: <br>\n",
    "    > The average rating for the acidity of the coffee is 7.5. The standard deviation is at 0.37. The minimum 0 while the maximum aftertaste rating is 8.7. 25% rated 7.3, 50% rated 7.5, and 75% rated 7.7.\n",
    "5. Overall: <br>\n",
    "    > The average overall score or rating for the coffee is 7.5. The standard deviation is at 0.45. The minimum 0 while the maximum overall rating is 10. 25% rated 7.3, 50% rated 7.5, and 75% rated 7.7."
   ]
  },
  {
   "cell_type": "code",
   "execution_count": null,
   "id": "1d263bf0-605d-4a8c-94d9-f86012c847b0",
   "metadata": {},
   "outputs": [],
   "source": [
    "#function for checking mean, median, and mode\n",
    "def C_rating():\n",
    "  print('Cupping evaluation mean: ', df['Total_Cup_Points'].mean())\n",
    "  print('Cupping evaluation  median: ', df['Total_Cup_Points'].median())\n",
    "  print('Cupping evaluation  mode: ', df['Total_Cup_Points'].mode())\n",
    "\n",
    "C_rating()"
   ]
  },
  {
   "cell_type": "markdown",
   "id": "0fda53cb-af5a-45a9-bdf1-23052b4a3d5c",
   "metadata": {},
   "source": [
    "### 💡Feature Understanding"
   ]
  },
  {
   "cell_type": "code",
   "execution_count": 3,
   "id": "11ed5ab7",
   "metadata": {},
   "outputs": [],
   "source": [
    "certification_info = df[['Country_of_Origin', 'Farm_Name', 'Lot_Number', 'Mill', 'ICO_Number', 'Company', 'Altitude', 'Region',\n",
    "                         'Producer', 'Number_of_Bags', 'Bag_Weight', 'In_Country_Partner', 'Harvest_Year', 'Grading_Date', \n",
    "                         'Owner', 'Variety', 'Color', 'Moisture', 'Processing_Method']]\n",
    "\n",
    "cupping_scores = df[['Aroma', 'Flavor', 'Aftertaste', 'Acidity', 'Body', 'Balance', 'Uniformity', 'Clean_Cup', \n",
    "                     'Sweetness', 'Total_Cup_Points', 'Overall']]\n",
    "\n",
    "green_analysis = df[['Category_One_Defects', 'Category_Two_Defects', 'Quakers']]\n",
    "\n",
    "sample_info = df[['Expiration', 'Certification_Body', 'Certification_Address', 'Certification_Contact']]"
   ]
  },
  {
   "cell_type": "code",
   "execution_count": 4,
   "id": "4042e472",
   "metadata": {},
   "outputs": [
    {
     "data": {
      "text/plain": [
       "42"
      ]
     },
     "execution_count": 4,
     "metadata": {},
     "output_type": "execute_result"
    }
   ],
   "source": [
    "cupping_scores['Overall'].nunique()"
   ]
  },
  {
   "cell_type": "code",
   "execution_count": 5,
   "id": "41475a45",
   "metadata": {},
   "outputs": [
    {
     "data": {
      "image/png": "[encoded data removed]",
      "text/plain": [
       "<Figure size 648x360 with 1 Axes>"
      ]
     },
     "metadata": {
      "needs_background": "light"
     },
     "output_type": "display_data"
    }
   ],
   "source": [
    "plt.figure(figsize = (9,5))\n",
    "cupping_scores['Overall'].value_counts().sort_index().plot(kind = 'bar')\n",
    "plt.grid(True, linestyle='--', alpha=0.7)\n",
    "plt.show()"
   ]
  },
  {
   "cell_type": "markdown",
   "id": "86de963e",
   "metadata": {},
   "source": [
    "Set an arbitrary cutoff for the dependent variable (Overall) at 7.51 or higher getting classified as `great or 1`, and the remainder as `average or 0`."
   ]
  },
  {
   "cell_type": "code",
   "execution_count": 6,
   "id": "cd919522",
   "metadata": {},
   "outputs": [
    {
     "data": {
      "text/html": [
       "<div>\n",
       "<style scoped>\n",
       "    .dataframe tbody tr th:only-of-type {\n",
       "        vertical-align: middle;\n",
       "    }\n",
       "\n",
       "    .dataframe tbody tr th {\n",
       "        vertical-align: top;\n",
       "    }\n",
       "\n",
       "    .dataframe thead th {\n",
       "        text-align: right;\n",
       "    }\n",
       "</style>\n",
       "<table border=\"1\" class=\"dataframe\">\n",
       "  <thead>\n",
       "    <tr style=\"text-align: right;\">\n",
       "      <th></th>\n",
       "      <th>Aroma</th>\n",
       "      <th>Flavor</th>\n",
       "      <th>Aftertaste</th>\n",
       "      <th>Acidity</th>\n",
       "      <th>Body</th>\n",
       "      <th>Balance</th>\n",
       "      <th>Uniformity</th>\n",
       "      <th>Clean_Cup</th>\n",
       "      <th>Sweetness</th>\n",
       "      <th>Total_Cup_Points</th>\n",
       "      <th>Overall</th>\n",
       "    </tr>\n",
       "  </thead>\n",
       "  <tbody>\n",
       "    <tr>\n",
       "      <th>0</th>\n",
       "      <td>7.83</td>\n",
       "      <td>7.92</td>\n",
       "      <td>7.75</td>\n",
       "      <td>8.00</td>\n",
       "      <td>7.75</td>\n",
       "      <td>7.75</td>\n",
       "      <td>10.0</td>\n",
       "      <td>10.0</td>\n",
       "      <td>10.0</td>\n",
       "      <td>84.92</td>\n",
       "      <td>1</td>\n",
       "    </tr>\n",
       "    <tr>\n",
       "      <th>1</th>\n",
       "      <td>7.58</td>\n",
       "      <td>7.83</td>\n",
       "      <td>7.58</td>\n",
       "      <td>7.75</td>\n",
       "      <td>7.67</td>\n",
       "      <td>7.75</td>\n",
       "      <td>10.0</td>\n",
       "      <td>10.0</td>\n",
       "      <td>10.0</td>\n",
       "      <td>83.92</td>\n",
       "      <td>1</td>\n",
       "    </tr>\n",
       "    <tr>\n",
       "      <th>2</th>\n",
       "      <td>7.67</td>\n",
       "      <td>7.83</td>\n",
       "      <td>7.67</td>\n",
       "      <td>7.83</td>\n",
       "      <td>7.75</td>\n",
       "      <td>7.67</td>\n",
       "      <td>10.0</td>\n",
       "      <td>10.0</td>\n",
       "      <td>10.0</td>\n",
       "      <td>84.08</td>\n",
       "      <td>1</td>\n",
       "    </tr>\n",
       "    <tr>\n",
       "      <th>3</th>\n",
       "      <td>7.58</td>\n",
       "      <td>7.92</td>\n",
       "      <td>7.67</td>\n",
       "      <td>7.75</td>\n",
       "      <td>7.83</td>\n",
       "      <td>7.75</td>\n",
       "      <td>10.0</td>\n",
       "      <td>10.0</td>\n",
       "      <td>10.0</td>\n",
       "      <td>84.25</td>\n",
       "      <td>1</td>\n",
       "    </tr>\n",
       "    <tr>\n",
       "      <th>4</th>\n",
       "      <td>7.67</td>\n",
       "      <td>7.83</td>\n",
       "      <td>7.75</td>\n",
       "      <td>7.75</td>\n",
       "      <td>7.83</td>\n",
       "      <td>7.75</td>\n",
       "      <td>10.0</td>\n",
       "      <td>10.0</td>\n",
       "      <td>10.0</td>\n",
       "      <td>84.33</td>\n",
       "      <td>1</td>\n",
       "    </tr>\n",
       "  </tbody>\n",
       "</table>\n",
       "</div>"
      ],
      "text/plain": [
       "   Aroma  Flavor  Aftertaste  Acidity  Body  Balance  Uniformity  Clean_Cup  \\\n",
       "0   7.83    7.92        7.75     8.00  7.75     7.75        10.0       10.0   \n",
       "1   7.58    7.83        7.58     7.75  7.67     7.75        10.0       10.0   \n",
       "2   7.67    7.83        7.67     7.83  7.75     7.67        10.0       10.0   \n",
       "3   7.58    7.92        7.67     7.75  7.83     7.75        10.0       10.0   \n",
       "4   7.67    7.83        7.75     7.75  7.83     7.75        10.0       10.0   \n",
       "\n",
       "   Sweetness  Total_Cup_Points  Overall  \n",
       "0       10.0             84.92        1  \n",
       "1       10.0             83.92        1  \n",
       "2       10.0             84.08        1  \n",
       "3       10.0             84.25        1  \n",
       "4       10.0             84.33        1  "
      ]
     },
     "execution_count": 6,
     "metadata": {},
     "output_type": "execute_result"
    }
   ],
   "source": [
    "cupping_score = cupping_scores.copy()\n",
    "cupping_score['Overall'] = cupping_score['Overall'].apply(lambda x: 1 if x > 7.5 else 0)\n",
    "cupping_score.head()"
   ]
  },
  {
   "cell_type": "code",
   "execution_count": 7,
   "id": "a9ee575c",
   "metadata": {},
   "outputs": [
    {
     "data": {
      "image/png": "[encoded data removed]",
      "text/plain": [
       "<Figure size 360x360 with 1 Axes>"
      ]
     },
     "metadata": {
      "needs_background": "light"
     },
     "output_type": "display_data"
    }
   ],
   "source": [
    "plt.figure(figsize = (5,5))\n",
    "ax = sns.countplot(x = 'Overall', data = cupping_score)\n",
    "for p in ax.patches:\n",
    "    height = p.get_height()\n",
    "    ax.text(p.get_x() + p.get_width() / 2., height + 3, height, ha='center')\n",
    "plt.xlabel('Average Quality   -   Great Quality')\n",
    "plt.ylabel('Count')\n",
    "plt.title('Great vs Average Quality Coffee')\n",
    "plt.show()"
   ]
  },
  {
   "cell_type": "code",
   "execution_count": null,
   "id": "b118aaf1-a91b-4c75-927f-4d71c14ca876",
   "metadata": {},
   "outputs": [],
   "source": [
    "ax = certification_info['Country_of_Origin'].value_counts().head(10).sort_values().plot(kind = 'barh', title = 'Top 10 Coffee Bean Country of origin counts')\n",
    "ax"
   ]
  },
  {
   "cell_type": "markdown",
   "id": "d13ac912-7c01-4db4-9286-c8f3c48d43db",
   "metadata": {},
   "source": [
    "### 💡 Relationship Features"
   ]
  },
  {
   "cell_type": "code",
   "execution_count": null,
   "id": "7a7181b8-652f-4f59-aa22-c654117ad54c",
   "metadata": {},
   "outputs": [],
   "source": [
    "#check for data correlations\n",
    "plt.figure(figsize=(20,20))\n",
    "cq_corr = df.corr(method='pearson')\n",
    "sns.heatmap(cq_corr, annot = True)"
   ]
  },
  {
   "cell_type": "markdown",
   "id": "ff4cd672-d9a5-43b3-ab37-bf97c8991378",
   "metadata": {},
   "source": [
    "The confusion matrix abow shows the highest correlation between 'aroma with flavor', flavor with aftertase', 'acidity with flavor', 'body with total cup points', 'balance with total cup points', 'overall with flavor' and 'total cup points with flavor'. As for the 'flavor with aftertaste' it isn't necessary to explain it in depth, but in summary, the relationship between them shows that the amount of flavor of a coffee bean, will give them an aftertaste, without regard if what flavor the bean is."
   ]
  },
  {
   "cell_type": "code",
   "execution_count": null,
   "id": "2f1991bf-0f70-42a2-bdd5-bc69bffea530",
   "metadata": {},
   "outputs": [],
   "source": [
    "sns.pairplot(cupping_scores, vars = ['Aroma','Flavor','Aftertaste','Acidity','Body'], hue = certification_info['Processing_Method'])"
   ]
  },
  {
   "cell_type": "code",
   "execution_count": null,
   "id": "a4395f81-419b-4077-b364-c657f1c390af",
   "metadata": {},
   "outputs": [],
   "source": [
    "ax = sns.scatterplot(x = 'Flavor', y = 'Aftertaste', hue = certification_info['Processing_Method'], data = cupping_scores)\n",
    "sns.move_legend(ax, 'upper left', bbox_to_anchor = (1, 1))\n",
    "ax.set_title('Flavor vs Aftertaste')"
   ]
  },
  {
   "cell_type": "markdown",
   "id": "b576e1cb-7b74-448d-85c8-7dc73c230249",
   "metadata": {},
   "source": [
    "### ❔Question ponder\n",
    "\n",
    "* What Processing Method has a highest number of defects categorized as \"Category Two.\"?\n",
    "* What type of coffee beans has a highest rating for the acidity of the coffee?\n",
    "* What type of coffee beans has a highest rating for the aroma of the coffee?\n",
    "* What type of coffee beans has a highest rating for the Aftertaste of the coffee?"
   ]
  },
  {
   "cell_type": "code",
   "execution_count": null,
   "id": "5071c06a-d4b4-4913-8be7-aab1ac1626bc",
   "metadata": {},
   "outputs": [],
   "source": [
    "axis = df.query('Processing_Method != \"Other\"').groupby('Processing_Method')['Category_Two_Defects'].agg(['mean']) \\\n",
    "       .sort_values('mean')['mean'].plot(kind = 'barh', figsize = (12, 5), title = 'Processing Method with the highest number of defect(Category_2)')\n",
    "axis.set_xlabel('Category_Two_Defects')"
   ]
  },
  {
   "cell_type": "code",
   "execution_count": null,
   "id": "23ee0033-af72-46a5-82af-244c06ce9acc",
   "metadata": {},
   "outputs": [],
   "source": [
    "axis = df.query('Variety != \"Other\"').groupby('Variety')['Acidity'].agg(['mean']) \\\n",
    "       .sort_values('mean')['mean'].head(10).plot(kind = 'barh', figsize = (12, 5), title = 'Type of coffee beans with the highest acidity rating')\n",
    "axis.set_xlabel('Acidity')"
   ]
  },
  {
   "cell_type": "code",
   "execution_count": null,
   "id": "d0b6e3d7-62d0-4abd-9214-a8326cdceaf9",
   "metadata": {},
   "outputs": [],
   "source": [
    "axis = df.query('Variety != \"Other\"').groupby('Variety')['Aroma'].agg(['mean']) \\\n",
    "       .sort_values('mean')['mean'].head(10).plot(kind = 'barh', figsize = (12, 5), title = 'Type of coffee beans with the highest aroma rating')\n",
    "axis.set_xlabel('Aroma')"
   ]
  },
  {
   "cell_type": "code",
   "execution_count": null,
   "id": "0febaf92-0833-400e-aa32-fd3b1b63135a",
   "metadata": {},
   "outputs": [],
   "source": [
    "axis = df.query('Variety != \"Other\"').groupby('Variety')['Aftertaste'].agg(['mean']) \\\n",
    "       .sort_values('mean')['mean'].head(10).plot(kind = 'barh', figsize = (12, 5), title = 'Type of coffee beans with the highest Aftertaste rating')\n",
    "axis.set_xlabel('Aftertaste')"
   ]
  },
  {
   "cell_type": "markdown",
   "id": "8f4bd4f9",
   "metadata": {},
   "source": [
    "## **💡 Highlights of the Results**"
   ]
  },
  {
   "cell_type": "markdown",
   "id": "cd2b80a2",
   "metadata": {},
   "source": [
    "**3 highlights after implementing kNN algorithm:**\n",
    "1. The optimal no. of neighbors is 11 with an accuracy score of **88%**\n",
    "2. The test accuracy exceeded the required 1.25PCC target accuracy of **62.53%**.\n",
    "3. The features that affect the target most are `Flavor`, `Aftertaste`, and `Balance`."
   ]
  },
  {
   "cell_type": "markdown",
   "id": "1a556484",
   "metadata": {},
   "source": [
    "## **🤖 kNN Implementation**"
   ]
  },
  {
   "cell_type": "code",
   "execution_count": 9,
   "id": "aba99bdb",
   "metadata": {},
   "outputs": [],
   "source": [
    "X = cupping_score.drop('Overall', axis = 1)\n",
    "y = cupping_score['Overall']"
   ]
  },
  {
   "cell_type": "code",
   "execution_count": 10,
   "id": "bc47e530",
   "metadata": {},
   "outputs": [
    {
     "name": "stdout",
     "output_type": "stream",
     "text": [
      "Best Accuracy for KNN: 0.88\n"
     ]
    },
    {
     "data": {
      "image/png": "[encoded data removed]",
      "text/plain": [
       "<Figure size 504x504 with 1 Axes>"
      ]
     },
     "metadata": {
      "needs_background": "light"
     },
     "output_type": "display_data"
    }
   ],
   "source": [
    "X_train, X_test, y_train, y_test = tts(X, y, test_size=0.25, random_state=42)\n",
    "\n",
    "training_accuracy = []\n",
    "test_accuracy = []\n",
    "\n",
    "neighbors_settings = range(1, 16)\n",
    "\n",
    "for n_neighbors in neighbors_settings:\n",
    "    knn = KNeighborsClassifier(n_neighbors=n_neighbors)\n",
    "    knn.fit(X_train, y_train)\n",
    "\n",
    "    training_accuracy.append(knn.score(X_train, y_train))\n",
    "    test_accuracy.append(knn.score(X_test, y_test))\n",
    "\n",
    "plt.figure(figsize = (7,7))    \n",
    "plt.plot(neighbors_settings, training_accuracy, label=\"training accuracy\")\n",
    "plt.plot(neighbors_settings, test_accuracy, label=\"test accuracy\")\n",
    "plt.ylabel(\"Accuracy\")\n",
    "plt.xlabel(\"n_neighbors\")\n",
    "plt.legend()\n",
    "\n",
    "print(f\"Best Accuracy for KNN: {np.max(test_accuracy):.2f}\")"
   ]
  },
  {
   "cell_type": "markdown",
   "id": "c6704066",
   "metadata": {},
   "source": [
    "### **📝 Evaluate Model Performance**"
   ]
  },
  {
   "cell_type": "code",
   "execution_count": 11,
   "id": "f9c1dbd3",
   "metadata": {},
   "outputs": [],
   "source": [
    "knn_pred = knn.predict(X_test)"
   ]
  },
  {
   "cell_type": "code",
   "execution_count": 12,
   "id": "32dcbc56",
   "metadata": {},
   "outputs": [
    {
     "name": "stdout",
     "output_type": "stream",
     "text": [
      "K Nearest Neighbors Classifier:\n",
      "Classification Report:\n",
      "               precision    recall  f1-score   support\n",
      "\n",
      "           0       0.87      0.89      0.88       188\n",
      "           1       0.89      0.86      0.87       190\n",
      "\n",
      "    accuracy                           0.88       378\n",
      "   macro avg       0.88      0.88      0.88       378\n",
      "weighted avg       0.88      0.88      0.88       378\n",
      "\n"
     ]
    }
   ],
   "source": [
    "print(\"K Nearest Neighbors Classifier:\")\n",
    "print(\"Classification Report:\\n\", classification_report(y_test, knn_pred))"
   ]
  },
  {
   "cell_type": "markdown",
   "id": "fb31ba87",
   "metadata": {},
   "source": [
    "### Proportion Chance Criteria"
   ]
  },
  {
   "cell_type": "code",
   "execution_count": 13,
   "id": "f9702b57",
   "metadata": {},
   "outputs": [],
   "source": [
    "def PCC(target, plot=True, title=None):\n",
    "    \n",
    "    state_counts = Counter(cupping_score['Overall'])\n",
    "    df_state = pd.DataFrame.from_dict(state_counts, orient='index')\n",
    "    num = (df_state[0]/df_state[0].sum())**2\n",
    "    ret = 1.25*100*num.sum()\n",
    "    \n",
    "    if plot == True:\n",
    "        plt.figure(figsize=(6,5))\n",
    "        ax = sns.countplot(x=target)\n",
    "        plt.title(f\"{title}\\n(1.25 PCC = {ret}%)\", fontsize=15)\n",
    "        plt.xticks(ticks=range(2), labels=['Average', 'Great'])\n",
    "        plt.show()"
   ]
  },
  {
   "cell_type": "code",
   "execution_count": 14,
   "id": "20266a17",
   "metadata": {},
   "outputs": [
    {
     "data": {
      "image/png": "[encoded data removed]",
      "text/plain": [
       "<Figure size 432x360 with 1 Axes>"
      ]
     },
     "metadata": {
      "needs_background": "light"
     },
     "output_type": "display_data"
    }
   ],
   "source": [
    "PCC(y, title=\"Proportion Chance Criteria\")"
   ]
  },
  {
   "cell_type": "markdown",
   "id": "e379a53a",
   "metadata": {},
   "source": [
    "## 📜**Discussion of Results**"
   ]
  },
  {
   "cell_type": "markdown",
   "id": "604b53ef",
   "metadata": {},
   "source": [
    "### Top Features"
   ]
  },
  {
   "cell_type": "code",
   "execution_count": 15,
   "id": "9c5172e6",
   "metadata": {},
   "outputs": [
    {
     "name": "stdout",
     "output_type": "stream",
     "text": [
      "Features with their corresponding correlation values to the target variable:\n",
      "\n",
      "Feature\t            Correlation\n",
      "--------------------------------\n",
      "Flavor              0.553295\n",
      "Aftertaste          0.551368\n",
      "Balance             0.526832\n",
      "Acidity             0.486445\n",
      "Total_Cup_Points    0.482450\n",
      "Body                0.455300\n",
      "Aroma               0.449248\n",
      "Clean_Cup           0.120387\n",
      "Uniformity          0.111149\n",
      "Sweetness           0.062037\n",
      "Name: Overall, dtype: float64\n"
     ]
    }
   ],
   "source": [
    "print('Features with their corresponding correlation values to the target variable:\\n\\nFeature\\t            Correlation')\n",
    "print('-'*32)\n",
    "print(cupping_score.corr().Overall[cupping_score.corr()[cupping_score.columns[-1]].abs().index.tolist()\n",
    "                             [:-1]].sort_values(ascending=False))"
   ]
  },
  {
   "cell_type": "code",
   "execution_count": 16,
   "id": "2c15a095",
   "metadata": {},
   "outputs": [
    {
     "data": {
      "image/png": "[encoded data removed]",
      "text/plain": [
       "<Figure size 720x432 with 1 Axes>"
      ]
     },
     "metadata": {
      "needs_background": "light"
     },
     "output_type": "display_data"
    }
   ],
   "source": [
    "top_features = cupping_score[['Flavor', 'Aftertaste', 'Balance', 'Overall']]\n",
    "overall_score = ['Average', 'Great']\n",
    "\n",
    "div = pd.melt(top_features, id_vars='Overall', var_name='Feature', value_name='Score')\n",
    "div.loc[div.Overall==1,'Overall'] = 'Great'\n",
    "div.loc[div.Overall==0,'Overall'] = 'Average'\n",
    "\n",
    "plt.figure(figsize=(10, 6))\n",
    "sns.barplot(x='Feature', y='Score', hue='Overall', data=div)\n",
    "plt.title('Top Features vs Overall Score', fontsize=18)\n",
    "plt.xlabel('Feature')\n",
    "plt.ylabel('Overall Score')\n",
    "plt.xticks(rotation=45)\n",
    "plt.legend(title='Taste', loc=4)\n",
    "plt.show()"
   ]
  },
  {
   "cell_type": "markdown",
   "id": "d0e7d77b",
   "metadata": {},
   "source": [
    "### Additional Insights from Certification Information"
   ]
  },
  {
   "cell_type": "code",
   "execution_count": 17,
   "id": "2b1d2010",
   "metadata": {},
   "outputs": [],
   "source": [
    "coffee = pd.concat([certification_info, cupping_score], axis=1)\n",
    "great = coffee[coffee['Overall'] == 1]"
   ]
  },
  {
   "cell_type": "code",
   "execution_count": 18,
   "id": "7c133fc1",
   "metadata": {},
   "outputs": [
    {
     "name": "stdout",
     "output_type": "stream",
     "text": [
      "___________________________________________________________________________________________________________________\n",
      "\n",
      "\u001b[1mThe country where most of the highest-quality coffee beans were grown: Colombia\n",
      "\n",
      "\u001b[0mTop 10 countries\t        Count\n",
      "--------------------------------------\n",
      "Colombia                        135\n",
      "Taiwan                           76\n",
      "Guatemala                        75\n",
      "Mexico                           72\n",
      "Brazil                           63\n",
      "Ethiopia                         52\n",
      "United States (Hawaii)           41\n",
      "Costa Rica                       39\n",
      "Uganda                           24\n",
      "Tanzania, United Republic Of     23\n",
      "Name: Country_of_Origin, dtype: int64\n",
      "\n",
      "___________________________________________________________________________________________________________________\n",
      "\n",
      "\u001b[1mThe region or geographical area where most of the highest-quality coffee beans were produced: huila\n",
      "\n",
      "\u001b[0mTop 5 regions\t  Count\n",
      "------------------------\n",
      "huila             74\n",
      "south of minas    33\n",
      "kona              33\n",
      "oriente           17\n",
      "tarrazu           15\n",
      "Name: Region, dtype: int64\n",
      "\n",
      "___________________________________________________________________________________________________________________\n",
      "\n",
      "\u001b[1mThe altitude at which most of the highest-quality coffee beans were grown: 1200.0\n",
      "\n",
      "\u001b[0mAltitude  Count\n",
      "---------------\n",
      "1200.0    47\n",
      "1300.0    28\n",
      "1600.0    27\n",
      "1500.0    25\n",
      "1775.0    25\n",
      "Name: Altitude, dtype: int64\n",
      "\n",
      "___________________________________________________________________________________________________________________\n",
      "\n",
      "\u001b[1mThe variety or type of coffee beans with the highest-quality: Caturra\n",
      "\n",
      "\u001b[0mTypes\t   Count\n",
      "----------------\n",
      "Caturra    165\n",
      "Bourbon     92\n",
      "Typica      77\n",
      "Name: Variety, dtype: int64\n",
      "\n",
      "___________________________________________________________________________________________________________________\n",
      "\n",
      "\u001b[1mThe company or organization where most of the highest-quality coffee beans were processed: Taiwan Coffee Laboratory\n",
      "\n",
      "\u001b[0mTop 5 companies\t                  Count\n",
      "---------------------------------------\n",
      "Taiwan Coffee Laboratory          44\n",
      "racafe & cia s.c.a                34\n",
      "exportadora de cafe condor s.a    25\n",
      "ipanema coffees                   25\n",
      "unex guatemala, s.a.              25\n",
      "Name: Company, dtype: int64\n",
      "\n",
      "___________________________________________________________________________________________________________________\n",
      "\n",
      "\u001b[1mThe processing method that resulted in most of the highest-quality coffee beans: Washed / Wet\n",
      "\n",
      "\u001b[0mTop 4 processing methods     Count\n",
      "----------------------------------\n",
      "Washed / Wet                 411\n",
      "Natural / Dry                166\n",
      "Semi-washed / Semi-pulped     27\n",
      "Pulped natural / honey        23\n",
      "Name: Processing_Method, dtype: int64\n",
      "\n",
      "___________________________________________________________________________________________________________________\n",
      "\n",
      "\u001b[1mThe color of the highest-quality coffee bean: Green\n",
      "\n",
      "\u001b[0mTop 3 colors    Count\n",
      "---------------------\n",
      "Green           415\n",
      "Bluish-Green     75\n",
      "Blue-Green       53\n",
      "Name: Color, dtype: int64\n",
      "\n",
      "___________________________________________________________________________________________________________________\n",
      "\n",
      "\u001b[1mThe moisture content of the highest-quality coffee bean: 0.11\n",
      "\n",
      "\u001b[0mMoisture Count\n",
      "--------------\n",
      "0.11    167\n",
      "0.00    152\n",
      "0.12    110\n",
      "0.10     98\n",
      "0.13     23\n",
      "Name: Moisture, dtype: int64\n"
     ]
    }
   ],
   "source": [
    "print('_'*115)\n",
    "print()\n",
    "print('\\033[1mThe country where most of the highest-quality coffee beans were grown:', \n",
    "      great['Country_of_Origin'].value_counts().idxmax())\n",
    "print()\n",
    "print('\\033[0mTop 10 countries\\t        Count')\n",
    "print('-'*38)\n",
    "print(great['Country_of_Origin'].value_counts().head(10))\n",
    "print()\n",
    "print('_'*115)\n",
    "print()\n",
    "print('\\033[1mThe region or geographical area where most of the highest-quality coffee beans were produced:', \n",
    "      great['Region'].value_counts().idxmax())\n",
    "print()\n",
    "print('\\033[0mTop 5 regions\\t  Count')\n",
    "print('-'*24)\n",
    "print(great['Region'].value_counts().head(5))\n",
    "print()\n",
    "print('_'*115)\n",
    "print()\n",
    "print('\\033[1mThe altitude at which most of the highest-quality coffee beans were grown:', \n",
    "      great['Altitude'].value_counts().idxmax())\n",
    "print()\n",
    "print('\\033[0mAltitude  Count')\n",
    "print('-'*15)\n",
    "print(great['Altitude'].value_counts().head(5))\n",
    "print()\n",
    "print('_'*115)\n",
    "print()\n",
    "print('\\033[1mThe variety or type of coffee beans with the highest-quality:', \n",
    "      great['Variety'].value_counts().idxmax())\n",
    "print()\n",
    "print('\\033[0mTypes\\t   Count')\n",
    "print('-'*16)\n",
    "print(great['Variety'].value_counts().head(3))\n",
    "print()\n",
    "print('_'*115)\n",
    "print()\n",
    "print('\\033[1mThe company or organization where most of the highest-quality coffee beans were processed:',\n",
    "      great['Company'].value_counts().idxmax())\n",
    "print()\n",
    "print('\\033[0mTop 5 companies\\t                  Count')\n",
    "print('-'*39)\n",
    "print(great['Company'].value_counts().head(5))\n",
    "print()\n",
    "print('_'*115)\n",
    "print()\n",
    "print('\\033[1mThe processing method that resulted in most of the highest-quality coffee beans:', \n",
    "      great['Processing_Method'].value_counts().idxmax())\n",
    "print()\n",
    "print('\\033[0mTop 4 processing methods     Count')\n",
    "print('-'*34)\n",
    "print(great['Processing_Method'].value_counts().head(4))\n",
    "print()\n",
    "print('_'*115)\n",
    "print()\n",
    "print('\\033[1mThe color of the highest-quality coffee bean:', great['Color'].value_counts().idxmax())\n",
    "print()\n",
    "print('\\033[0mTop 3 colors    Count')\n",
    "print('-'*21)\n",
    "print(great['Color'].value_counts().head(3))\n",
    "print()\n",
    "print('_'*115)\n",
    "print()\n",
    "print('\\033[1mThe moisture content of the highest-quality coffee bean:', great['Moisture'].value_counts().idxmax())\n",
    "print()\n",
    "print('\\033[0mMoisture Count')\n",
    "print('-'*14)\n",
    "print(great['Moisture'].value_counts().head(5))"
   ]
  }
 ],
 "metadata": {
  "kernelspec": {
   "display_name": "Python 3 (ipykernel)",
   "language": "python",
   "name": "python3"
  },
  "language_info": {
   "codemirror_mode": {
    "name": "ipython",
    "version": 3
   },
   "file_extension": ".py",
   "mimetype": "text/x-python",
   "name": "python",
   "nbconvert_exporter": "python",
   "pygments_lexer": "ipython3",
   "version": "3.11.3"
  }
 },
 "nbformat": 4,
 "nbformat_minor": 5
}
